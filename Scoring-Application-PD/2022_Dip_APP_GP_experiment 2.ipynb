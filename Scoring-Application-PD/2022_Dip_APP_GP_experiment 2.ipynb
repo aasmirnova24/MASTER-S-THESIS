{
 "cells": [
  {
   "cell_type": "code",
   "execution_count": 5,
   "metadata": {
    "scrolled": true
   },
   "outputs": [],
   "source": [
    "from mlxtend.feature_selection import SequentialFeatureSelector as sfs\n",
    "import stepwise_regression"
   ]
  },
  {
   "cell_type": "code",
   "execution_count": 6,
   "metadata": {},
   "outputs": [],
   "source": [
    "from Filter_and_Grid_Search import *\n",
    "import os\n",
    "from sklearn.externals import joblib as skjoblib\n",
    "import joblib\n",
    "from sklearn.calibration import calibration_curve\n",
    "from sklearn.preprocessing import label_binarize\n",
    "from importlib import reload\n",
    "import Filter_and_Grid_Search\n",
    "Filter_and_Grid_Search = reload(Filter_and_Grid_Search)"
   ]
  },
  {
   "cell_type": "code",
   "execution_count": 7,
   "metadata": {},
   "outputs": [],
   "source": [
    "import sys\n",
    "\n",
    "import gc\n",
    "import itertools\n",
    "import math\n",
    "import os\n",
    "import random\n",
    "import re\n",
    "from datetime import datetime\n",
    "from importlib import reload\n",
    "\n",
    "import joblib\n",
    "import matplotlib.pyplot as plt\n",
    "import numpy as np\n",
    "import pandas as pd\n",
    "import psutil\n",
    "import pydotplus\n",
    "import seaborn as sns\n",
    "import shap\n",
    "\n",
    "from IPython.display import Image\n",
    "from lightgbm import LGBMClassifier\n",
    "from scipy.stats import norm\n",
    "from seaborn import heatmap\n",
    "from sklearn import metrics, tree\n",
    "from sklearn.cluster import KMeans\n",
    "from sklearn.ensemble import RandomForestClassifier\n",
    "from sklearn.linear_model import LogisticRegression\n",
    "from sklearn.metrics import average_precision_score, roc_auc_score\n",
    "from sklearn.model_selection import GridSearchCV, train_test_split\n",
    "from sklearn.preprocessing import LabelEncoder\n",
    "from sklearn.tree import DecisionTreeClassifier\n",
    "from tqdm.notebook import tqdm\n",
    "\n",
    "\n",
    "from pipeline_utils import (append_for_deletion, \n",
    "                            remove_from_deletion, \n",
    "                            funnel_func, \n",
    "                            mu,\n",
    "                            roc_lift_gain, \n",
    "                            time_ranges_plot,\n",
    "                            binary_hists, \n",
    "                            bootscores_concat,\n",
    "                            by_month, \n",
    "                            check_nans, \n",
    "                            count_data, \n",
    "                            display_nicely,\n",
    "                            drop_unnamed, \n",
    "                            get_pretty_dates, \n",
    "                            model_stats,\n",
    "                            show_descriptions,\n",
    "                            show_sources)\n",
    "\n",
    "from ml_pipeline import (attributes_list_new, \n",
    "                         bootstrap,\n",
    "                         br_correction, \n",
    "                         by_month_gini,\n",
    "                         calculate_vif,\n",
    "                         check_attribute_list_cases,\n",
    "                         data_preprocessing,\n",
    "                         data_preprocessing_test,\n",
    "                         data_preprocessing_train,\n",
    "                         feature_importance,\n",
    "                         find_doubles_corr, \n",
    "                         find_meta_params,\n",
    "                         find_meta_params_optuna,\n",
    "                         find_ouliers_iqr, \n",
    "                         for_splines,\n",
    "                         get_stats, \n",
    "                         get_stats_by_month,\n",
    "                         get_stats_on_target,\n",
    "                         get_stats_on_target_by_month, \n",
    "                         linear_calib_use_model_data,\n",
    "                         lr_test_all_features, \n",
    "                         make_standard,\n",
    "                         plot_meta_2d, \n",
    "                         receive_correlations,\n",
    "                         simple_b_score_crm, \n",
    "                         stable_unstable,\n",
    "                         stable_unstable_by_month_divide,\n",
    "                         statistics_with_target,\n",
    "                         stratified_split,\n",
    "                         train_model_receive_stats,\n",
    "                         turn_variables_with_values,\n",
    "                         two_forests, \n",
    "                         union_datas)"
   ]
  },
  {
   "cell_type": "markdown",
   "metadata": {},
   "source": [
    "## Data upload"
   ]
  },
  {
   "cell_type": "code",
   "execution_count": 9,
   "metadata": {},
   "outputs": [
    {
     "name": "stdout",
     "output_type": "stream",
     "text": [
      "D:/Share/dkotereva/APP_PD_GP/\n"
     ]
    }
   ],
   "source": [
    "PATH_ROOT = 'D:/Share/dkotereva/APP_PD_GP/' \n",
    "PATH = PATH_ROOT  \n",
    "print(PATH)"
   ]
  },
  {
   "cell_type": "code",
   "execution_count": 10,
   "metadata": {},
   "outputs": [],
   "source": [
    "#datasets_file = 'data_Branch.zip' \n",
    "train_data = 'app_pd_gp_train.zip' \n",
    "test_data = 'app_pd_gp_test.zip' \n",
    "oot_data = 'app_pd_gp_oot.zip' \n",
    "\n",
    "black_list = 'black_list.xlsx' \n",
    "black_field_var = 'Переменная' \n",
    "filename_dump = 'GP.data' \n",
    "\n",
    "task = 'binary' \n",
    "missing_strings = 'MISSING' \n",
    "p_value = 0.05 \n",
    "\n",
    "recommended_list = False \n",
    "target_dict = {'bad': 1, 'good': 0} "
   ]
  },
  {
   "cell_type": "code",
   "execution_count": 11,
   "metadata": {},
   "outputs": [],
   "source": [
    "target = 'BAD_90P' \n",
    "index_month = 'date_report' \n",
    "list_of_vars_for_strat = ['date_report'] \n",
    "sort_by_var = 'cif_id' \n",
    "\n",
    "necessary_fields = [target, index_month, sort_by_var] \n",
    "necessary_fields_upper = [target.upper(), index_month.upper(), sort_by_var.upper()] \n",
    "\n",
    "\n",
    "COL_SYS = ['INITIATED_DT', 'ROBOT_DAY', 'DEL_FLAG', 'INITIATED_DT_OUT',\n",
    "'CALL_OUT_DAY', 'SD', 'SMS_DAY', 'MONTHCALLMINUS2',\n",
    "'XSBASEDT_24M', 'XSBASEDT_12M', 'CALLDT', 'CALCDT_1M',\n",
    "'CALCDT_3M', 'CALCDT_6M', 'CALCDT_12M', 'CALCDT_24M',\n",
    "'CLIENT_NUMBER_TEXT', 'CIF_ID_TEXT', 'CLIENT_NUMBER',\n",
    "'DATE_REPORT_O', 'DATE_REPORT_B', 'SUPERID', 'SUPERID_OPEN',\n",
    "'SUPERID_AP', 'SUPERID_BUREAU', 'BUREAU_DT', 'UNNAMED: 0', index_month.upper()+'_GROSS', 'ACTIVE_IND']\n",
    "COL_TRG = target.upper()\n",
    "hyper_disbalance= False"
   ]
  },
  {
   "cell_type": "code",
   "execution_count": 12,
   "metadata": {},
   "outputs": [],
   "source": [
    "list_of_vars_for_strat_upper = [c.upper() for c in list_of_vars_for_strat]\n",
    "sort_by_var_upper = sort_by_var.upper()"
   ]
  },
  {
   "cell_type": "code",
   "execution_count": 13,
   "metadata": {},
   "outputs": [],
   "source": [
    "target = target.upper()"
   ]
  },
  {
   "cell_type": "code",
   "execution_count": 10,
   "metadata": {},
   "outputs": [],
   "source": [
    "changes = pd.read_csv(PATH+'SandBox/csv/changes.csv', sep = '\\t')"
   ]
  },
  {
   "cell_type": "code",
   "execution_count": 11,
   "metadata": {},
   "outputs": [
    {
     "data": {
      "text/html": [
       "<div>\n",
       "<style scoped>\n",
       "    .dataframe tbody tr th:only-of-type {\n",
       "        vertical-align: middle;\n",
       "    }\n",
       "\n",
       "    .dataframe tbody tr th {\n",
       "        vertical-align: top;\n",
       "    }\n",
       "\n",
       "    .dataframe thead th {\n",
       "        text-align: right;\n",
       "    }\n",
       "</style>\n",
       "<table border=\"1\" class=\"dataframe\">\n",
       "  <thead>\n",
       "    <tr style=\"text-align: right;\">\n",
       "      <th></th>\n",
       "      <th>Unnamed: 0</th>\n",
       "      <th>new variable</th>\n",
       "      <th>genuine variable</th>\n",
       "      <th>rule</th>\n",
       "      <th>values</th>\n",
       "    </tr>\n",
       "  </thead>\n",
       "  <tbody>\n",
       "    <tr>\n",
       "      <td>0</td>\n",
       "      <td>0</td>\n",
       "      <td>GENDER_1.0</td>\n",
       "      <td>GENDER</td>\n",
       "      <td>_1.0</td>\n",
       "      <td>1.0</td>\n",
       "    </tr>\n",
       "    <tr>\n",
       "      <td>1</td>\n",
       "      <td>1</td>\n",
       "      <td>GENDER_2.0</td>\n",
       "      <td>GENDER</td>\n",
       "      <td>_2.0</td>\n",
       "      <td>2.0</td>\n",
       "    </tr>\n",
       "    <tr>\n",
       "      <td>2</td>\n",
       "      <td>2</td>\n",
       "      <td>DLQ_WASDELAY_0.0</td>\n",
       "      <td>DLQ_WASDELAY</td>\n",
       "      <td>_0.0</td>\n",
       "      <td>0.0</td>\n",
       "    </tr>\n",
       "    <tr>\n",
       "      <td>3</td>\n",
       "      <td>3</td>\n",
       "      <td>DLQ_WASDELAY_1.0</td>\n",
       "      <td>DLQ_WASDELAY</td>\n",
       "      <td>_1.0</td>\n",
       "      <td>1.0</td>\n",
       "    </tr>\n",
       "    <tr>\n",
       "      <td>4</td>\n",
       "      <td>4</td>\n",
       "      <td>R_CNT_ALL_IL_bin</td>\n",
       "      <td>R_CNT_ALL_IL</td>\n",
       "      <td>_bin</td>\n",
       "      <td>NaN</td>\n",
       "    </tr>\n",
       "  </tbody>\n",
       "</table>\n",
       "</div>"
      ],
      "text/plain": [
       "   Unnamed: 0      new variable genuine variable  rule  values\n",
       "0           0        GENDER_1.0           GENDER  _1.0     1.0\n",
       "1           1        GENDER_2.0           GENDER  _2.0     2.0\n",
       "2           2  DLQ_WASDELAY_0.0     DLQ_WASDELAY  _0.0     0.0\n",
       "3           3  DLQ_WASDELAY_1.0     DLQ_WASDELAY  _1.0     1.0\n",
       "4           4  R_CNT_ALL_IL_bin     R_CNT_ALL_IL  _bin     NaN"
      ]
     },
     "execution_count": 11,
     "metadata": {},
     "output_type": "execute_result"
    }
   ],
   "source": [
    "changes.head()"
   ]
  },
  {
   "cell_type": "code",
   "execution_count": 12,
   "metadata": {
    "scrolled": true
   },
   "outputs": [],
   "source": [
    "file_name = PATH + 'Selection/excel/11. f_target_s_aft_bin.xlsx'\n",
    "stay7 = pd.read_excel(file_name, index = False)"
   ]
  },
  {
   "cell_type": "code",
   "execution_count": 13,
   "metadata": {},
   "outputs": [],
   "source": [
    "def_2 = stay7['feature'].to_list()"
   ]
  },
  {
   "cell_type": "code",
   "execution_count": 15,
   "metadata": {},
   "outputs": [],
   "source": [
    "new_features_list = []\n",
    "cols = ['new variable', 'genuine variable', 'rule', 'values']\n",
    "\n",
    "for i in def_2:\n",
    "    if i in list(changes['new variable']):\n",
    "        change = changes[changes['new variable'] == i]\n",
    "        new_features_list.append([list(change['new variable'])[0], list(change['genuine variable'])[0], \n",
    "                                  list(change['rule'])[0], list(change['values'])[0]])\n",
    "    else:\n",
    "        new_features_list.append([i, i, 'Missing', np.nan])\n",
    "        \n",
    "for i in necessary_fields_upper:\n",
    "    if i not in def_2:\n",
    "        new_features_list.append([i, i, 'Missing', np.nan])\n",
    "    \n",
    "new_features_data = pd.DataFrame.from_records(new_features_list, columns = cols)"
   ]
  },
  {
   "cell_type": "code",
   "execution_count": 16,
   "metadata": {},
   "outputs": [
    {
     "data": {
      "text/plain": [
       "(222, 4)"
      ]
     },
     "execution_count": 16,
     "metadata": {},
     "output_type": "execute_result"
    }
   ],
   "source": [
    "new_features_data.shape"
   ]
  },
  {
   "cell_type": "code",
   "execution_count": 17,
   "metadata": {},
   "outputs": [],
   "source": [
    "new_features_data.to_csv(PATH + 'SandBox/csv/selected_features_forest_definition.csv', sep = '&')"
   ]
  },
  {
   "cell_type": "code",
   "execution_count": null,
   "metadata": {},
   "outputs": [],
   "source": []
  },
  {
   "cell_type": "markdown",
   "metadata": {},
   "source": [
    "# Experiment 2"
   ]
  },
  {
   "cell_type": "code",
   "execution_count": 326,
   "metadata": {},
   "outputs": [],
   "source": [
    "all_columns = pd.read_csv(PATH + 'SandBox/csv/selected_features_forest_definition.csv', sep = '&')"
   ]
  },
  {
   "cell_type": "code",
   "execution_count": 327,
   "metadata": {},
   "outputs": [],
   "source": [
    "data1 = pd.read_csv(PATH + 'Data Sets/' +  train_data, sep = '\\t', encoding = 'cp1251')\n",
    "data1.columns = [col.upper() for col in data1.columns]"
   ]
  },
  {
   "cell_type": "code",
   "execution_count": 328,
   "metadata": {},
   "outputs": [],
   "source": [
    "data = turn_variables_with_values(data1, all_columns)"
   ]
  },
  {
   "cell_type": "code",
   "execution_count": 329,
   "metadata": {},
   "outputs": [],
   "source": [
    "columns = data.columns"
   ]
  },
  {
   "cell_type": "code",
   "execution_count": 330,
   "metadata": {},
   "outputs": [],
   "source": [
    "changes = pd.read_csv(PATH + 'SandBox/csv/changes.csv', sep = '\\t')"
   ]
  },
  {
   "cell_type": "code",
   "execution_count": 331,
   "metadata": {},
   "outputs": [],
   "source": [
    "categorial_columns = []\n",
    "for i in columns:\n",
    "    if len(re.findall('_bin', i)) > 0:\n",
    "        categorial_columns.append(i)"
   ]
  },
  {
   "cell_type": "code",
   "execution_count": 332,
   "metadata": {},
   "outputs": [
    {
     "data": {
      "text/plain": [
       "['BAD_90P', 'DATE_REPORT', 'CIF_ID']"
      ]
     },
     "execution_count": 332,
     "metadata": {},
     "output_type": "execute_result"
    }
   ],
   "source": [
    "necessary_fields_upper"
   ]
  },
  {
   "cell_type": "code",
   "execution_count": 333,
   "metadata": {},
   "outputs": [
    {
     "data": {
      "text/plain": [
       "2898"
      ]
     },
     "execution_count": 333,
     "metadata": {},
     "output_type": "execute_result"
    }
   ],
   "source": [
    "gc.collect()"
   ]
  },
  {
   "cell_type": "markdown",
   "metadata": {},
   "source": [
    "## 2.1 Gini Scheme "
   ]
  },
  {
   "cell_type": "code",
   "execution_count": 334,
   "metadata": {},
   "outputs": [],
   "source": [
    "columns = list(data.columns)"
   ]
  },
  {
   "cell_type": "code",
   "execution_count": 335,
   "metadata": {},
   "outputs": [],
   "source": [
    "file_name = PATH + 'Selection/excel/12. COR_NUM_binned.xlsx'\n",
    "correlation_num1 = pd.read_excel(file_name)\n",
    "file_name = PATH + 'Selection/excel/12. COR_CAT_binned.xlsx'\n",
    "correlation_cat1 = pd.read_excel(file_name)\n",
    "definition_2 = pd.read_csv(PATH + 'SandBox/csv/definition_2.csv')"
   ]
  },
  {
   "cell_type": "code",
   "execution_count": 336,
   "metadata": {
    "scrolled": true
   },
   "outputs": [],
   "source": [
    "correlation_cat1.set_index('Unnamed: 0', inplace = True)\n",
    "correlation_num1.set_index('Unnamed: 0', inplace = True)"
   ]
  },
  {
   "cell_type": "code",
   "execution_count": 337,
   "metadata": {},
   "outputs": [
    {
     "data": {
      "text/html": [
       "<div>\n",
       "<style scoped>\n",
       "    .dataframe tbody tr th:only-of-type {\n",
       "        vertical-align: middle;\n",
       "    }\n",
       "\n",
       "    .dataframe tbody tr th {\n",
       "        vertical-align: top;\n",
       "    }\n",
       "\n",
       "    .dataframe thead th {\n",
       "        text-align: right;\n",
       "    }\n",
       "</style>\n",
       "<table border=\"1\" class=\"dataframe\">\n",
       "  <thead>\n",
       "    <tr style=\"text-align: right;\">\n",
       "      <th></th>\n",
       "      <th>COUNTPREVCONTR_0PL</th>\n",
       "      <th>FINALAPPROVE_FLAG_2D</th>\n",
       "      <th>R_CNT_ALL_IL</th>\n",
       "      <th>R_CNT_OPEN_GP</th>\n",
       "      <th>R_CNT_OPEN_IL</th>\n",
       "      <th>R_CNT_OPEN_CC</th>\n",
       "      <th>R_AMT_OPEN_IL</th>\n",
       "      <th>R_AMT_OPEN_CC</th>\n",
       "      <th>R_AMT_CLOS_IL</th>\n",
       "      <th>R_DLQ_SUM_30PL</th>\n",
       "      <th>...</th>\n",
       "      <th>OW_AV_DEBT_24M</th>\n",
       "      <th>INQ_MORTGAGE</th>\n",
       "      <th>INQ_CC</th>\n",
       "      <th>INQ_MORT_TTL</th>\n",
       "      <th>INQ_CC_TTL</th>\n",
       "      <th>INQ_TTL_LAST7</th>\n",
       "      <th>BURAPPRRT_L3M</th>\n",
       "      <th>AMTSEQACTV_SUM</th>\n",
       "      <th>CNTRACTVNOWN_CNT</th>\n",
       "      <th>LIMIT01_SUM</th>\n",
       "    </tr>\n",
       "    <tr>\n",
       "      <th>Unnamed: 0</th>\n",
       "      <th></th>\n",
       "      <th></th>\n",
       "      <th></th>\n",
       "      <th></th>\n",
       "      <th></th>\n",
       "      <th></th>\n",
       "      <th></th>\n",
       "      <th></th>\n",
       "      <th></th>\n",
       "      <th></th>\n",
       "      <th></th>\n",
       "      <th></th>\n",
       "      <th></th>\n",
       "      <th></th>\n",
       "      <th></th>\n",
       "      <th></th>\n",
       "      <th></th>\n",
       "      <th></th>\n",
       "      <th></th>\n",
       "      <th></th>\n",
       "      <th></th>\n",
       "    </tr>\n",
       "  </thead>\n",
       "  <tbody>\n",
       "    <tr>\n",
       "      <td>COUNTPREVCONTR_0PL</td>\n",
       "      <td>1.000000</td>\n",
       "      <td>0.778406</td>\n",
       "      <td>0.360325</td>\n",
       "      <td>0.458044</td>\n",
       "      <td>0.067920</td>\n",
       "      <td>0.462343</td>\n",
       "      <td>0.037179</td>\n",
       "      <td>0.313585</td>\n",
       "      <td>0.275256</td>\n",
       "      <td>0.084957</td>\n",
       "      <td>...</td>\n",
       "      <td>0.051155</td>\n",
       "      <td>-0.011665</td>\n",
       "      <td>0.074904</td>\n",
       "      <td>-0.009006</td>\n",
       "      <td>0.055388</td>\n",
       "      <td>-0.162621</td>\n",
       "      <td>0.018086</td>\n",
       "      <td>-0.007344</td>\n",
       "      <td>-0.003274</td>\n",
       "      <td>-0.003657</td>\n",
       "    </tr>\n",
       "    <tr>\n",
       "      <td>FINALAPPROVE_FLAG_2D</td>\n",
       "      <td>0.778406</td>\n",
       "      <td>1.000000</td>\n",
       "      <td>0.217642</td>\n",
       "      <td>0.380531</td>\n",
       "      <td>-0.031627</td>\n",
       "      <td>0.361987</td>\n",
       "      <td>0.009760</td>\n",
       "      <td>0.192429</td>\n",
       "      <td>0.204321</td>\n",
       "      <td>0.049007</td>\n",
       "      <td>...</td>\n",
       "      <td>0.072650</td>\n",
       "      <td>0.003302</td>\n",
       "      <td>0.133619</td>\n",
       "      <td>0.002544</td>\n",
       "      <td>0.104152</td>\n",
       "      <td>-0.106973</td>\n",
       "      <td>-0.001123</td>\n",
       "      <td>0.000256</td>\n",
       "      <td>0.047137</td>\n",
       "      <td>0.004767</td>\n",
       "    </tr>\n",
       "    <tr>\n",
       "      <td>R_CNT_ALL_IL</td>\n",
       "      <td>0.360325</td>\n",
       "      <td>0.217642</td>\n",
       "      <td>1.000000</td>\n",
       "      <td>-0.158876</td>\n",
       "      <td>0.342720</td>\n",
       "      <td>-0.066613</td>\n",
       "      <td>0.126854</td>\n",
       "      <td>-0.037425</td>\n",
       "      <td>0.442696</td>\n",
       "      <td>0.088934</td>\n",
       "      <td>...</td>\n",
       "      <td>-0.022112</td>\n",
       "      <td>0.003620</td>\n",
       "      <td>-0.050084</td>\n",
       "      <td>0.003105</td>\n",
       "      <td>-0.037790</td>\n",
       "      <td>0.013831</td>\n",
       "      <td>0.018957</td>\n",
       "      <td>0.010285</td>\n",
       "      <td>-0.013187</td>\n",
       "      <td>-0.001338</td>\n",
       "    </tr>\n",
       "    <tr>\n",
       "      <td>R_CNT_OPEN_GP</td>\n",
       "      <td>0.458044</td>\n",
       "      <td>0.380531</td>\n",
       "      <td>-0.158876</td>\n",
       "      <td>1.000000</td>\n",
       "      <td>-0.165679</td>\n",
       "      <td>0.387127</td>\n",
       "      <td>-0.038811</td>\n",
       "      <td>0.218372</td>\n",
       "      <td>0.043266</td>\n",
       "      <td>-0.003030</td>\n",
       "      <td>...</td>\n",
       "      <td>0.028121</td>\n",
       "      <td>-0.036887</td>\n",
       "      <td>0.030334</td>\n",
       "      <td>-0.031183</td>\n",
       "      <td>0.013625</td>\n",
       "      <td>-0.164297</td>\n",
       "      <td>-0.011375</td>\n",
       "      <td>-0.023719</td>\n",
       "      <td>-0.053885</td>\n",
       "      <td>-0.017816</td>\n",
       "    </tr>\n",
       "    <tr>\n",
       "      <td>R_CNT_OPEN_IL</td>\n",
       "      <td>0.067920</td>\n",
       "      <td>-0.031627</td>\n",
       "      <td>0.342720</td>\n",
       "      <td>-0.165679</td>\n",
       "      <td>1.000000</td>\n",
       "      <td>-0.087653</td>\n",
       "      <td>0.318817</td>\n",
       "      <td>-0.054988</td>\n",
       "      <td>0.005543</td>\n",
       "      <td>-0.019738</td>\n",
       "      <td>...</td>\n",
       "      <td>-0.053000</td>\n",
       "      <td>-0.022284</td>\n",
       "      <td>-0.040107</td>\n",
       "      <td>-0.017054</td>\n",
       "      <td>-0.026936</td>\n",
       "      <td>-0.083356</td>\n",
       "      <td>0.037112</td>\n",
       "      <td>-0.003219</td>\n",
       "      <td>-0.088758</td>\n",
       "      <td>-0.010027</td>\n",
       "    </tr>\n",
       "  </tbody>\n",
       "</table>\n",
       "<p>5 rows × 140 columns</p>\n",
       "</div>"
      ],
      "text/plain": [
       "                      COUNTPREVCONTR_0PL  FINALAPPROVE_FLAG_2D  R_CNT_ALL_IL  \\\n",
       "Unnamed: 0                                                                     \n",
       "COUNTPREVCONTR_0PL              1.000000              0.778406      0.360325   \n",
       "FINALAPPROVE_FLAG_2D            0.778406              1.000000      0.217642   \n",
       "R_CNT_ALL_IL                    0.360325              0.217642      1.000000   \n",
       "R_CNT_OPEN_GP                   0.458044              0.380531     -0.158876   \n",
       "R_CNT_OPEN_IL                   0.067920             -0.031627      0.342720   \n",
       "\n",
       "                      R_CNT_OPEN_GP  R_CNT_OPEN_IL  R_CNT_OPEN_CC  \\\n",
       "Unnamed: 0                                                          \n",
       "COUNTPREVCONTR_0PL         0.458044       0.067920       0.462343   \n",
       "FINALAPPROVE_FLAG_2D       0.380531      -0.031627       0.361987   \n",
       "R_CNT_ALL_IL              -0.158876       0.342720      -0.066613   \n",
       "R_CNT_OPEN_GP              1.000000      -0.165679       0.387127   \n",
       "R_CNT_OPEN_IL             -0.165679       1.000000      -0.087653   \n",
       "\n",
       "                      R_AMT_OPEN_IL  R_AMT_OPEN_CC  R_AMT_CLOS_IL  \\\n",
       "Unnamed: 0                                                          \n",
       "COUNTPREVCONTR_0PL         0.037179       0.313585       0.275256   \n",
       "FINALAPPROVE_FLAG_2D       0.009760       0.192429       0.204321   \n",
       "R_CNT_ALL_IL               0.126854      -0.037425       0.442696   \n",
       "R_CNT_OPEN_GP             -0.038811       0.218372       0.043266   \n",
       "R_CNT_OPEN_IL              0.318817      -0.054988       0.005543   \n",
       "\n",
       "                      R_DLQ_SUM_30PL  ...  OW_AV_DEBT_24M  INQ_MORTGAGE  \\\n",
       "Unnamed: 0                            ...                                 \n",
       "COUNTPREVCONTR_0PL          0.084957  ...        0.051155     -0.011665   \n",
       "FINALAPPROVE_FLAG_2D        0.049007  ...        0.072650      0.003302   \n",
       "R_CNT_ALL_IL                0.088934  ...       -0.022112      0.003620   \n",
       "R_CNT_OPEN_GP              -0.003030  ...        0.028121     -0.036887   \n",
       "R_CNT_OPEN_IL              -0.019738  ...       -0.053000     -0.022284   \n",
       "\n",
       "                        INQ_CC  INQ_MORT_TTL  INQ_CC_TTL  INQ_TTL_LAST7  \\\n",
       "Unnamed: 0                                                                \n",
       "COUNTPREVCONTR_0PL    0.074904     -0.009006    0.055388      -0.162621   \n",
       "FINALAPPROVE_FLAG_2D  0.133619      0.002544    0.104152      -0.106973   \n",
       "R_CNT_ALL_IL         -0.050084      0.003105   -0.037790       0.013831   \n",
       "R_CNT_OPEN_GP         0.030334     -0.031183    0.013625      -0.164297   \n",
       "R_CNT_OPEN_IL        -0.040107     -0.017054   -0.026936      -0.083356   \n",
       "\n",
       "                      BURAPPRRT_L3M  AMTSEQACTV_SUM  CNTRACTVNOWN_CNT  \\\n",
       "Unnamed: 0                                                              \n",
       "COUNTPREVCONTR_0PL         0.018086       -0.007344         -0.003274   \n",
       "FINALAPPROVE_FLAG_2D      -0.001123        0.000256          0.047137   \n",
       "R_CNT_ALL_IL               0.018957        0.010285         -0.013187   \n",
       "R_CNT_OPEN_GP             -0.011375       -0.023719         -0.053885   \n",
       "R_CNT_OPEN_IL              0.037112       -0.003219         -0.088758   \n",
       "\n",
       "                      LIMIT01_SUM  \n",
       "Unnamed: 0                         \n",
       "COUNTPREVCONTR_0PL      -0.003657  \n",
       "FINALAPPROVE_FLAG_2D     0.004767  \n",
       "R_CNT_ALL_IL            -0.001338  \n",
       "R_CNT_OPEN_GP           -0.017816  \n",
       "R_CNT_OPEN_IL           -0.010027  \n",
       "\n",
       "[5 rows x 140 columns]"
      ]
     },
     "execution_count": 337,
     "metadata": {},
     "output_type": "execute_result"
    }
   ],
   "source": [
    "correlation_num1.head()"
   ]
  },
  {
   "cell_type": "code",
   "execution_count": 338,
   "metadata": {},
   "outputs": [
    {
     "name": "stdout",
     "output_type": "stream",
     "text": [
      "Порог = 0.7 Осталось фичей = 25 Коррелир.фичей = 53\n",
      "Порог = 0.7 Осталось фичей = 88 Коррелир.фичей = 52\n"
     ]
    }
   ],
   "source": [
    "result_tab_cat1, non_doubles_cat1, col_doubles_cat1, double_dic_cat1 = find_doubles_corr(data, columns, \n",
    "                                  correlation_cat1, definition = definition_2, lvl = 0.70, light_unstable = None)\n",
    "result_tab_num1, non_doubles_num1, col_doubles_num1, double_dic_num1 = find_doubles_corr(data, columns, \n",
    "                                  correlation_num1, definition = definition_2, lvl = 0.70, light_unstable = None)"
   ]
  },
  {
   "cell_type": "code",
   "execution_count": 339,
   "metadata": {},
   "outputs": [
    {
     "name": "stdout",
     "output_type": "stream",
     "text": [
      "Порог = 0.5 Осталось фичей = 17 Коррелир.фичей = 61\n",
      "Порог = 0.5 Осталось фичей = 52 Коррелир.фичей = 88\n"
     ]
    }
   ],
   "source": [
    "result_tab_cat1, non_doubles_cat1, col_doubles_cat1, double_dic_cat1 = find_doubles_corr(data, columns, \n",
    "                                  correlation_cat1, definition = definition_2, lvl = 0.50, light_unstable = None)\n",
    "result_tab_num1, non_doubles_num1, col_doubles_num1, double_dic_num1 = find_doubles_corr(data, columns, \n",
    "                                  correlation_num1, definition = definition_2, lvl = 0.50, light_unstable = None)"
   ]
  },
  {
   "cell_type": "code",
   "execution_count": 340,
   "metadata": {},
   "outputs": [],
   "source": [
    "non_doubles1 = list(set(non_doubles_cat1 + non_doubles_num1))"
   ]
  },
  {
   "cell_type": "code",
   "execution_count": 341,
   "metadata": {},
   "outputs": [
    {
     "data": {
      "text/plain": [
       "69"
      ]
     },
     "execution_count": 341,
     "metadata": {},
     "output_type": "execute_result"
    }
   ],
   "source": [
    "len(non_doubles1)"
   ]
  },
  {
   "cell_type": "code",
   "execution_count": 342,
   "metadata": {},
   "outputs": [],
   "source": [
    "COL_DEL1 = []\n",
    "\n",
    "for i in data.columns:\n",
    "    if i not in non_doubles1 + necessary_fields_upper:\n",
    "        COL_DEL1.append(i)"
   ]
  },
  {
   "cell_type": "code",
   "execution_count": 343,
   "metadata": {},
   "outputs": [],
   "source": [
    "data.drop(COL_DEL1, axis = 1, inplace = True)"
   ]
  },
  {
   "cell_type": "code",
   "execution_count": 344,
   "metadata": {},
   "outputs": [],
   "source": [
    "for i in necessary_fields_upper:\n",
    "    if i not in list(data.columns):\n",
    "        print(i)"
   ]
  },
  {
   "cell_type": "code",
   "execution_count": 345,
   "metadata": {},
   "outputs": [],
   "source": [
    "data_prepr, scale = data_preprocessing_train(data, COL_TRG, \n",
    "                                technical_values = [COL_SYS+necessary_fields_upper], \n",
    "                                drop_technical = False,\n",
    "                                yeo_johnson = False, \n",
    "                                attribute_list = None, \n",
    "                                var_col = None,\n",
    "                                scale = 'mean', \n",
    "                                median = 'median',\n",
    "                                high_outlier = 99, \n",
    "                                low_outlier = 1, \n",
    "                                cols_outlier = None)\n",
    "\n",
    "data = data_preprocessing_train(data, COL_TRG, \n",
    "                                technical_values = [COL_SYS+necessary_fields_upper], \n",
    "                                drop_technical = False,\n",
    "                                yeo_johnson = False, \n",
    "                                attribute_list = None, \n",
    "                                var_col = None,\n",
    "                                scale = False, \n",
    "                                median = 'median',\n",
    "                                high_outlier = None, \n",
    "                                low_outlier = None, \n",
    "                                cols_outlier = None)\n"
   ]
  },
  {
   "cell_type": "code",
   "execution_count": null,
   "metadata": {},
   "outputs": [],
   "source": []
  },
  {
   "cell_type": "code",
   "execution_count": 346,
   "metadata": {},
   "outputs": [],
   "source": [
    "if 'Unnamed: 0' in data_prepr.columns.to_list():\n",
    "    data_prepr.drop('Unnamed: 0', axis = 1, inplace = True)\n",
    "    \n",
    "if 'Unnamed: 0.1' in data_prepr.columns.to_list():\n",
    "    data_prepr.drop('Unnamed: 0.1', axis = 1, inplace = True)"
   ]
  },
  {
   "cell_type": "code",
   "execution_count": 347,
   "metadata": {},
   "outputs": [
    {
     "data": {
      "text/html": [
       "<div>\n",
       "<style scoped>\n",
       "    .dataframe tbody tr th:only-of-type {\n",
       "        vertical-align: middle;\n",
       "    }\n",
       "\n",
       "    .dataframe tbody tr th {\n",
       "        vertical-align: top;\n",
       "    }\n",
       "\n",
       "    .dataframe thead th {\n",
       "        text-align: right;\n",
       "    }\n",
       "</style>\n",
       "<table border=\"1\" class=\"dataframe\">\n",
       "  <thead>\n",
       "    <tr style=\"text-align: right;\">\n",
       "      <th></th>\n",
       "      <th>CIF_ID</th>\n",
       "      <th>FINALAPPROVE_FLAG_2D</th>\n",
       "      <th>R_CNT_ALL_IL</th>\n",
       "      <th>R_CNT_OPEN_GP</th>\n",
       "      <th>R_CNT_OPEN_IL</th>\n",
       "      <th>R_CNT_OPEN_CC</th>\n",
       "      <th>R_AMT_OPEN_IL</th>\n",
       "      <th>R_AMT_CLOS_IL</th>\n",
       "      <th>R_DLQ_SUM_30PL</th>\n",
       "      <th>R_DLQ_WSTEV_MIN</th>\n",
       "      <th>...</th>\n",
       "      <th>TIME_SINCEL_90_bin</th>\n",
       "      <th>MICRO2ALL_03M_bin</th>\n",
       "      <th>LIMIT_24_MAX_bin</th>\n",
       "      <th>OPENLYEARCCSUM_bin</th>\n",
       "      <th>SINCELSTCLSDCC_bin</th>\n",
       "      <th>CLOSED24_SUM_bin</th>\n",
       "      <th>BURAPPRRT_L3M_bin</th>\n",
       "      <th>AMTSEQACTV_SUM_bin</th>\n",
       "      <th>LIMIT01_SUM_bin</th>\n",
       "      <th>BAD_90P</th>\n",
       "    </tr>\n",
       "  </thead>\n",
       "  <tbody>\n",
       "    <tr>\n",
       "      <td>0</td>\n",
       "      <td>-0.023096</td>\n",
       "      <td>0.605588</td>\n",
       "      <td>0.024223</td>\n",
       "      <td>-0.562779</td>\n",
       "      <td>-0.466264</td>\n",
       "      <td>0.808351</td>\n",
       "      <td>-0.116134</td>\n",
       "      <td>-0.879727</td>\n",
       "      <td>-0.161159</td>\n",
       "      <td>-0.191623</td>\n",
       "      <td>...</td>\n",
       "      <td>0.0</td>\n",
       "      <td>0.0</td>\n",
       "      <td>1.0</td>\n",
       "      <td>1.0</td>\n",
       "      <td>0.0</td>\n",
       "      <td>1.0</td>\n",
       "      <td>0.0</td>\n",
       "      <td>0.0</td>\n",
       "      <td>0.0</td>\n",
       "      <td>1</td>\n",
       "    </tr>\n",
       "    <tr>\n",
       "      <td>1</td>\n",
       "      <td>-0.385205</td>\n",
       "      <td>-0.424260</td>\n",
       "      <td>-1.341847</td>\n",
       "      <td>-0.562779</td>\n",
       "      <td>-0.466264</td>\n",
       "      <td>-0.493136</td>\n",
       "      <td>-0.116134</td>\n",
       "      <td>-0.187447</td>\n",
       "      <td>-0.161159</td>\n",
       "      <td>0.088510</td>\n",
       "      <td>...</td>\n",
       "      <td>1.0</td>\n",
       "      <td>0.0</td>\n",
       "      <td>1.0</td>\n",
       "      <td>0.0</td>\n",
       "      <td>0.0</td>\n",
       "      <td>1.0</td>\n",
       "      <td>0.0</td>\n",
       "      <td>0.0</td>\n",
       "      <td>0.0</td>\n",
       "      <td>0</td>\n",
       "    </tr>\n",
       "    <tr>\n",
       "      <td>2</td>\n",
       "      <td>0.519601</td>\n",
       "      <td>-1.110826</td>\n",
       "      <td>0.024223</td>\n",
       "      <td>-0.562779</td>\n",
       "      <td>-0.466264</td>\n",
       "      <td>-0.493136</td>\n",
       "      <td>-0.116134</td>\n",
       "      <td>-0.187447</td>\n",
       "      <td>-0.161159</td>\n",
       "      <td>-0.191623</td>\n",
       "      <td>...</td>\n",
       "      <td>0.0</td>\n",
       "      <td>0.0</td>\n",
       "      <td>1.0</td>\n",
       "      <td>0.0</td>\n",
       "      <td>0.0</td>\n",
       "      <td>1.0</td>\n",
       "      <td>0.0</td>\n",
       "      <td>0.0</td>\n",
       "      <td>0.0</td>\n",
       "      <td>0</td>\n",
       "    </tr>\n",
       "    <tr>\n",
       "      <td>3</td>\n",
       "      <td>0.109674</td>\n",
       "      <td>0.262305</td>\n",
       "      <td>1.390294</td>\n",
       "      <td>-0.562779</td>\n",
       "      <td>-0.466264</td>\n",
       "      <td>-0.493136</td>\n",
       "      <td>-0.116134</td>\n",
       "      <td>-0.257195</td>\n",
       "      <td>-0.161159</td>\n",
       "      <td>-0.191623</td>\n",
       "      <td>...</td>\n",
       "      <td>0.0</td>\n",
       "      <td>0.0</td>\n",
       "      <td>1.0</td>\n",
       "      <td>1.0</td>\n",
       "      <td>0.0</td>\n",
       "      <td>1.0</td>\n",
       "      <td>1.0</td>\n",
       "      <td>0.0</td>\n",
       "      <td>0.0</td>\n",
       "      <td>1</td>\n",
       "    </tr>\n",
       "    <tr>\n",
       "      <td>4</td>\n",
       "      <td>0.392982</td>\n",
       "      <td>-0.424260</td>\n",
       "      <td>0.024223</td>\n",
       "      <td>-0.562779</td>\n",
       "      <td>1.864696</td>\n",
       "      <td>-0.493136</td>\n",
       "      <td>-0.110919</td>\n",
       "      <td>-0.187447</td>\n",
       "      <td>-0.161159</td>\n",
       "      <td>-0.191623</td>\n",
       "      <td>...</td>\n",
       "      <td>0.0</td>\n",
       "      <td>0.0</td>\n",
       "      <td>1.0</td>\n",
       "      <td>1.0</td>\n",
       "      <td>0.0</td>\n",
       "      <td>0.0</td>\n",
       "      <td>1.0</td>\n",
       "      <td>0.0</td>\n",
       "      <td>0.0</td>\n",
       "      <td>0</td>\n",
       "    </tr>\n",
       "  </tbody>\n",
       "</table>\n",
       "<p>5 rows × 72 columns</p>\n",
       "</div>"
      ],
      "text/plain": [
       "     CIF_ID  FINALAPPROVE_FLAG_2D  R_CNT_ALL_IL  R_CNT_OPEN_GP  R_CNT_OPEN_IL  \\\n",
       "0 -0.023096              0.605588      0.024223      -0.562779      -0.466264   \n",
       "1 -0.385205             -0.424260     -1.341847      -0.562779      -0.466264   \n",
       "2  0.519601             -1.110826      0.024223      -0.562779      -0.466264   \n",
       "3  0.109674              0.262305      1.390294      -0.562779      -0.466264   \n",
       "4  0.392982             -0.424260      0.024223      -0.562779       1.864696   \n",
       "\n",
       "   R_CNT_OPEN_CC  R_AMT_OPEN_IL  R_AMT_CLOS_IL  R_DLQ_SUM_30PL  \\\n",
       "0       0.808351      -0.116134      -0.879727       -0.161159   \n",
       "1      -0.493136      -0.116134      -0.187447       -0.161159   \n",
       "2      -0.493136      -0.116134      -0.187447       -0.161159   \n",
       "3      -0.493136      -0.116134      -0.257195       -0.161159   \n",
       "4      -0.493136      -0.110919      -0.187447       -0.161159   \n",
       "\n",
       "   R_DLQ_WSTEV_MIN  ...  TIME_SINCEL_90_bin  MICRO2ALL_03M_bin  \\\n",
       "0        -0.191623  ...                 0.0                0.0   \n",
       "1         0.088510  ...                 1.0                0.0   \n",
       "2        -0.191623  ...                 0.0                0.0   \n",
       "3        -0.191623  ...                 0.0                0.0   \n",
       "4        -0.191623  ...                 0.0                0.0   \n",
       "\n",
       "   LIMIT_24_MAX_bin  OPENLYEARCCSUM_bin  SINCELSTCLSDCC_bin  CLOSED24_SUM_bin  \\\n",
       "0               1.0                 1.0                 0.0               1.0   \n",
       "1               1.0                 0.0                 0.0               1.0   \n",
       "2               1.0                 0.0                 0.0               1.0   \n",
       "3               1.0                 1.0                 0.0               1.0   \n",
       "4               1.0                 1.0                 0.0               0.0   \n",
       "\n",
       "   BURAPPRRT_L3M_bin  AMTSEQACTV_SUM_bin  LIMIT01_SUM_bin  BAD_90P  \n",
       "0                0.0                 0.0              0.0        1  \n",
       "1                0.0                 0.0              0.0        0  \n",
       "2                0.0                 0.0              0.0        0  \n",
       "3                1.0                 0.0              0.0        1  \n",
       "4                1.0                 0.0              0.0        0  \n",
       "\n",
       "[5 rows x 72 columns]"
      ]
     },
     "execution_count": 347,
     "metadata": {},
     "output_type": "execute_result"
    }
   ],
   "source": [
    "data_prepr.head()"
   ]
  },
  {
   "cell_type": "code",
   "execution_count": 348,
   "metadata": {},
   "outputs": [],
   "source": [
    "data_prepr1 = data_prepr.drop(necessary_fields_upper, axis = 1)\n",
    "y = data_prepr[target]"
   ]
  },
  {
   "cell_type": "code",
   "execution_count": 349,
   "metadata": {},
   "outputs": [],
   "source": [
    "once_rows = sum(data[target])\n",
    "second_rows = (len(data[target]) - sum(data[target]))\n",
    "y_unique = sorted(data[target].unique())\n",
    "all_rows = len(data[target])\n",
    "\n",
    "once_rows_share = once_rows/all_rows\n",
    "second_rows_share = second_rows/all_rows\n",
    "second_rows_share/once_rows_share\n",
    "\n",
    "if once_rows < second_rows:\n",
    "    w_b = once_rows/second_rows\n",
    "else:\n",
    "    w_b = second_rows/once_rows"
   ]
  },
  {
   "cell_type": "code",
   "execution_count": 350,
   "metadata": {},
   "outputs": [
    {
     "data": {
      "text/plain": [
       "(0.0335510790382708, 0.9664489209617292)"
      ]
     },
     "execution_count": 350,
     "metadata": {},
     "output_type": "execute_result"
    }
   ],
   "source": [
    "once_rows_share, second_rows_share"
   ]
  },
  {
   "cell_type": "code",
   "execution_count": 351,
   "metadata": {},
   "outputs": [
    {
     "data": {
      "text/plain": [
       "0.03471583268454951"
      ]
     },
     "execution_count": 351,
     "metadata": {},
     "output_type": "execute_result"
    }
   ],
   "source": [
    "w_b"
   ]
  },
  {
   "cell_type": "markdown",
   "metadata": {},
   "source": [
    "## Forward Pass"
   ]
  },
  {
   "cell_type": "code",
   "execution_count": 352,
   "metadata": {
    "scrolled": true
   },
   "outputs": [
    {
     "name": "stderr",
     "output_type": "stream",
     "text": [
      "[Parallel(n_jobs=3)]: Using backend LokyBackend with 3 concurrent workers.\n",
      "[Parallel(n_jobs=3)]: Done  35 tasks      | elapsed:   39.5s\n",
      "[Parallel(n_jobs=3)]: Done  69 out of  69 | elapsed:  1.3min finished\n",
      "\n",
      "[2020-06-26 02:40:04] Features: 1/69 -- score: 0.588914750919704[Parallel(n_jobs=3)]: Using backend LokyBackend with 3 concurrent workers.\n",
      "[Parallel(n_jobs=3)]: Done  35 tasks      | elapsed:   49.9s\n",
      "[Parallel(n_jobs=3)]: Done  68 out of  68 | elapsed:  1.5min finished\n",
      "\n",
      "[2020-06-26 02:41:32] Features: 2/69 -- score: 0.6099611127264839[Parallel(n_jobs=3)]: Using backend LokyBackend with 3 concurrent workers.\n",
      "[Parallel(n_jobs=3)]: Done  35 tasks      | elapsed:   52.8s\n",
      "[Parallel(n_jobs=3)]: Done  67 out of  67 | elapsed:  1.7min finished\n",
      "\n",
      "[2020-06-26 02:43:16] Features: 3/69 -- score: 0.6280897434453807[Parallel(n_jobs=3)]: Using backend LokyBackend with 3 concurrent workers.\n",
      "[Parallel(n_jobs=3)]: Done  35 tasks      | elapsed:   51.9s\n",
      "[Parallel(n_jobs=3)]: Done  66 out of  66 | elapsed:  1.6min finished\n",
      "\n",
      "[2020-06-26 02:44:52] Features: 4/69 -- score: 0.6453171806426654[Parallel(n_jobs=3)]: Using backend LokyBackend with 3 concurrent workers.\n",
      "[Parallel(n_jobs=3)]: Done  35 tasks      | elapsed:  1.2min\n",
      "[Parallel(n_jobs=3)]: Done  65 out of  65 | elapsed:  2.3min finished\n",
      "\n",
      "[2020-06-26 02:47:07] Features: 5/69 -- score: 0.6545911035659746[Parallel(n_jobs=3)]: Using backend LokyBackend with 3 concurrent workers.\n",
      "[Parallel(n_jobs=3)]: Done  35 tasks      | elapsed:  1.6min\n",
      "[Parallel(n_jobs=3)]: Done  64 out of  64 | elapsed:  2.8min finished\n",
      "\n",
      "[2020-06-26 02:49:56] Features: 6/69 -- score: 0.6618344065415722[Parallel(n_jobs=3)]: Using backend LokyBackend with 3 concurrent workers.\n",
      "[Parallel(n_jobs=3)]: Done  35 tasks      | elapsed:  1.5min\n",
      "[Parallel(n_jobs=3)]: Done  63 out of  63 | elapsed:  2.3min finished\n",
      "\n",
      "[2020-06-26 02:52:17] Features: 7/69 -- score: 0.6678763954316932[Parallel(n_jobs=3)]: Using backend LokyBackend with 3 concurrent workers.\n",
      "[Parallel(n_jobs=3)]: Done  35 tasks      | elapsed:  1.7min\n",
      "[Parallel(n_jobs=3)]: Done  62 out of  62 | elapsed:  3.0min finished\n",
      "\n",
      "[2020-06-26 02:55:16] Features: 8/69 -- score: 0.6720598446020328[Parallel(n_jobs=3)]: Using backend LokyBackend with 3 concurrent workers.\n",
      "[Parallel(n_jobs=3)]: Done  35 tasks      | elapsed:  2.4min\n",
      "[Parallel(n_jobs=3)]: Done  61 out of  61 | elapsed:  3.5min finished\n",
      "\n",
      "[2020-06-26 02:58:45] Features: 9/69 -- score: 0.6763656907586366[Parallel(n_jobs=3)]: Using backend LokyBackend with 3 concurrent workers.\n",
      "[Parallel(n_jobs=3)]: Done  35 tasks      | elapsed:  2.0min\n",
      "[Parallel(n_jobs=3)]: Done  60 out of  60 | elapsed:  3.2min finished\n",
      "\n",
      "[2020-06-26 03:01:55] Features: 10/69 -- score: 0.6806250469031594[Parallel(n_jobs=3)]: Using backend LokyBackend with 3 concurrent workers.\n",
      "[Parallel(n_jobs=3)]: Done  35 tasks      | elapsed:  2.4min\n",
      "[Parallel(n_jobs=3)]: Done  59 out of  59 | elapsed:  4.1min finished\n",
      "\n",
      "[2020-06-26 03:06:04] Features: 11/69 -- score: 0.6836380004203293[Parallel(n_jobs=3)]: Using backend LokyBackend with 3 concurrent workers.\n",
      "[Parallel(n_jobs=3)]: Done  35 tasks      | elapsed:  2.8min\n",
      "[Parallel(n_jobs=3)]: Done  58 out of  58 | elapsed:  4.5min finished\n",
      "\n",
      "[2020-06-26 03:10:35] Features: 12/69 -- score: 0.6868418687735723[Parallel(n_jobs=3)]: Using backend LokyBackend with 3 concurrent workers.\n",
      "[Parallel(n_jobs=3)]: Done  35 tasks      | elapsed:  2.9min\n",
      "[Parallel(n_jobs=3)]: Done  57 out of  57 | elapsed:  4.3min finished\n",
      "\n",
      "[2020-06-26 03:14:52] Features: 13/69 -- score: 0.6884516679215764[Parallel(n_jobs=3)]: Using backend LokyBackend with 3 concurrent workers.\n",
      "[Parallel(n_jobs=3)]: Done  35 tasks      | elapsed:  2.8min\n",
      "[Parallel(n_jobs=3)]: Done  56 out of  56 | elapsed:  4.4min finished\n",
      "\n",
      "[2020-06-26 03:19:14] Features: 14/69 -- score: 0.6900530001313532[Parallel(n_jobs=3)]: Using backend LokyBackend with 3 concurrent workers.\n",
      "[Parallel(n_jobs=3)]: Done  35 tasks      | elapsed:  2.7min\n",
      "[Parallel(n_jobs=3)]: Done  55 out of  55 | elapsed:  4.2min finished\n",
      "\n",
      "[2020-06-26 03:23:26] Features: 15/69 -- score: 0.6914601348177112[Parallel(n_jobs=3)]: Using backend LokyBackend with 3 concurrent workers.\n",
      "[Parallel(n_jobs=3)]: Done  35 tasks      | elapsed:  2.7min\n",
      "[Parallel(n_jobs=3)]: Done  54 out of  54 | elapsed:  3.9min finished\n",
      "\n",
      "[2020-06-26 03:27:20] Features: 16/69 -- score: 0.6927432254668469[Parallel(n_jobs=3)]: Using backend LokyBackend with 3 concurrent workers.\n",
      "[Parallel(n_jobs=3)]: Done  35 tasks      | elapsed:  3.2min\n",
      "[Parallel(n_jobs=3)]: Done  53 out of  53 | elapsed:  4.8min finished\n",
      "\n",
      "[2020-06-26 03:32:10] Features: 17/69 -- score: 0.6941023543968619[Parallel(n_jobs=3)]: Using backend LokyBackend with 3 concurrent workers.\n",
      "[Parallel(n_jobs=3)]: Done  35 tasks      | elapsed:  2.6min\n",
      "[Parallel(n_jobs=3)]: Done  52 out of  52 | elapsed:  3.9min finished\n",
      "\n",
      "[2020-06-26 03:36:02] Features: 18/69 -- score: 0.6953696558923008[Parallel(n_jobs=3)]: Using backend LokyBackend with 3 concurrent workers.\n",
      "[Parallel(n_jobs=3)]: Done  35 tasks      | elapsed:  3.0min\n",
      "[Parallel(n_jobs=3)]: Done  51 out of  51 | elapsed:  4.3min finished\n",
      "\n",
      "[2020-06-26 03:40:19] Features: 19/69 -- score: 0.6964821558350229[Parallel(n_jobs=3)]: Using backend LokyBackend with 3 concurrent workers.\n",
      "[Parallel(n_jobs=3)]: Done  35 tasks      | elapsed:  2.8min\n",
      "[Parallel(n_jobs=3)]: Done  50 out of  50 | elapsed:  4.2min finished\n",
      "\n",
      "[2020-06-26 03:44:29] Features: 20/69 -- score: 0.697542594181235[Parallel(n_jobs=3)]: Using backend LokyBackend with 3 concurrent workers.\n",
      "[Parallel(n_jobs=3)]: Done  35 tasks      | elapsed:  3.6min\n",
      "[Parallel(n_jobs=3)]: Done  49 out of  49 | elapsed:  4.7min finished\n",
      "\n",
      "[2020-06-26 03:49:09] Features: 21/69 -- score: 0.698466304270666[Parallel(n_jobs=3)]: Using backend LokyBackend with 3 concurrent workers.\n",
      "[Parallel(n_jobs=3)]: Done  35 tasks      | elapsed:  3.7min\n",
      "[Parallel(n_jobs=3)]: Done  48 out of  48 | elapsed:  5.1min finished\n",
      "\n",
      "[2020-06-26 03:54:14] Features: 22/69 -- score: 0.6992462877965218[Parallel(n_jobs=3)]: Using backend LokyBackend with 3 concurrent workers.\n",
      "C:\\Anaconda3\\lib\\site-packages\\joblib\\externals\\loky\\process_executor.py:706: UserWarning: A worker stopped while some jobs were given to the executor. This can be caused by a too short worker timeout or by a memory leak.\n",
      "  \"timeout or by a memory leak.\", UserWarning\n",
      "[Parallel(n_jobs=3)]: Done  35 tasks      | elapsed:  3.6min\n",
      "[Parallel(n_jobs=3)]: Done  47 out of  47 | elapsed:  4.8min finished\n",
      "\n",
      "[2020-06-26 03:59:03] Features: 23/69 -- score: 0.6999129896939692[Parallel(n_jobs=3)]: Using backend LokyBackend with 3 concurrent workers.\n",
      "[Parallel(n_jobs=3)]: Done  35 tasks      | elapsed:  4.8min\n",
      "[Parallel(n_jobs=3)]: Done  46 out of  46 | elapsed:  6.1min finished\n",
      "\n",
      "[2020-06-26 04:05:07] Features: 24/69 -- score: 0.7005356410661459[Parallel(n_jobs=3)]: Using backend LokyBackend with 3 concurrent workers.\n",
      "[Parallel(n_jobs=3)]: Done  35 tasks      | elapsed:  5.2min\n",
      "[Parallel(n_jobs=3)]: Done  45 out of  45 | elapsed:  6.9min finished\n",
      "\n",
      "[2020-06-26 04:12:01] Features: 25/69 -- score: 0.7010472989284546[Parallel(n_jobs=3)]: Using backend LokyBackend with 3 concurrent workers.\n",
      "[Parallel(n_jobs=3)]: Done  35 tasks      | elapsed:  6.4min\n",
      "[Parallel(n_jobs=3)]: Done  44 out of  44 | elapsed:  8.9min finished\n",
      "\n",
      "[2020-06-26 04:20:54] Features: 26/69 -- score: 0.7016427067886293[Parallel(n_jobs=3)]: Using backend LokyBackend with 3 concurrent workers.\n",
      "[Parallel(n_jobs=3)]: Done  35 tasks      | elapsed:  6.6min\n",
      "[Parallel(n_jobs=3)]: Done  43 out of  43 | elapsed:  7.9min finished\n",
      "\n",
      "[2020-06-26 04:28:49] Features: 27/69 -- score: 0.7022204336346779[Parallel(n_jobs=3)]: Using backend LokyBackend with 3 concurrent workers.\n",
      "[Parallel(n_jobs=3)]: Done  35 tasks      | elapsed:  7.5min\n",
      "[Parallel(n_jobs=3)]: Done  42 out of  42 | elapsed:  8.8min finished\n",
      "\n",
      "[2020-06-26 04:37:40] Features: 28/69 -- score: 0.702719601134365[Parallel(n_jobs=3)]: Using backend LokyBackend with 3 concurrent workers.\n",
      "[Parallel(n_jobs=3)]: Done  35 tasks      | elapsed:  7.8min\n",
      "[Parallel(n_jobs=3)]: Done  41 out of  41 | elapsed:  8.9min finished\n",
      "\n",
      "[2020-06-26 04:46:37] Features: 29/69 -- score: 0.7031232046935669[Parallel(n_jobs=3)]: Using backend LokyBackend with 3 concurrent workers.\n"
     ]
    },
    {
     "name": "stderr",
     "output_type": "stream",
     "text": [
      "[Parallel(n_jobs=3)]: Done  35 tasks      | elapsed:  8.4min\n",
      "[Parallel(n_jobs=3)]: Done  40 out of  40 | elapsed:  9.1min finished\n",
      "\n",
      "[2020-06-26 04:55:41] Features: 30/69 -- score: 0.7036864724426033[Parallel(n_jobs=3)]: Using backend LokyBackend with 3 concurrent workers.\n",
      "[Parallel(n_jobs=3)]: Done  39 out of  39 | elapsed:  9.6min finished\n",
      "\n",
      "[2020-06-26 05:05:15] Features: 31/69 -- score: 0.7040898066112057[Parallel(n_jobs=3)]: Using backend LokyBackend with 3 concurrent workers.\n",
      "[Parallel(n_jobs=3)]: Done  38 out of  38 | elapsed:  9.4min finished\n",
      "\n",
      "[2020-06-26 05:14:39] Features: 32/69 -- score: 0.7045223167474153[Parallel(n_jobs=3)]: Using backend LokyBackend with 3 concurrent workers.\n",
      "[Parallel(n_jobs=3)]: Done  37 out of  37 | elapsed:  9.5min finished\n",
      "\n",
      "[2020-06-26 05:24:09] Features: 33/69 -- score: 0.7048947165963887[Parallel(n_jobs=3)]: Using backend LokyBackend with 3 concurrent workers.\n",
      "[Parallel(n_jobs=3)]: Done  36 out of  36 | elapsed:  8.3min finished\n",
      "\n",
      "[2020-06-26 05:32:28] Features: 34/69 -- score: 0.7052093275400348[Parallel(n_jobs=3)]: Using backend LokyBackend with 3 concurrent workers.\n",
      "[Parallel(n_jobs=3)]: Done  35 out of  35 | elapsed:  8.1min finished\n",
      "\n",
      "[2020-06-26 05:40:36] Features: 35/69 -- score: 0.7055145637867152[Parallel(n_jobs=3)]: Using backend LokyBackend with 3 concurrent workers.\n",
      "[Parallel(n_jobs=3)]: Done  34 out of  34 | elapsed:  7.4min finished\n",
      "\n",
      "[2020-06-26 05:47:58] Features: 36/69 -- score: 0.7057893878783553[Parallel(n_jobs=3)]: Using backend LokyBackend with 3 concurrent workers.\n",
      "[Parallel(n_jobs=3)]: Done  33 out of  33 | elapsed:  8.7min finished\n",
      "\n",
      "[2020-06-26 05:56:41] Features: 37/69 -- score: 0.705974569745554[Parallel(n_jobs=3)]: Using backend LokyBackend with 3 concurrent workers.\n",
      "[Parallel(n_jobs=3)]: Done  32 out of  32 | elapsed:  9.2min finished\n",
      "\n",
      "[2020-06-26 06:05:54] Features: 38/69 -- score: 0.7061338992945513[Parallel(n_jobs=3)]: Using backend LokyBackend with 3 concurrent workers.\n",
      "[Parallel(n_jobs=3)]: Done  31 out of  31 | elapsed:  7.4min finished\n",
      "\n",
      "[2020-06-26 06:13:16] Features: 39/69 -- score: 0.7062582928896424[Parallel(n_jobs=3)]: Using backend LokyBackend with 3 concurrent workers.\n",
      "[Parallel(n_jobs=3)]: Done  30 out of  30 | elapsed:  5.7min finished\n",
      "\n",
      "[2020-06-26 06:18:59] Features: 40/69 -- score: 0.7063756758294738[Parallel(n_jobs=3)]: Using backend LokyBackend with 3 concurrent workers.\n",
      "[Parallel(n_jobs=3)]: Done  29 out of  29 | elapsed:  6.2min finished\n",
      "\n",
      "[2020-06-26 06:25:09] Features: 41/69 -- score: 0.7064812634368727[Parallel(n_jobs=3)]: Using backend LokyBackend with 3 concurrent workers.\n",
      "[Parallel(n_jobs=3)]: Done  28 out of  28 | elapsed:  6.5min finished\n",
      "\n",
      "[2020-06-26 06:31:37] Features: 42/69 -- score: 0.7065814066285239[Parallel(n_jobs=3)]: Using backend LokyBackend with 3 concurrent workers.\n",
      "[Parallel(n_jobs=3)]: Done  27 out of  27 | elapsed:  5.8min finished\n",
      "\n",
      "[2020-06-26 06:37:27] Features: 43/69 -- score: 0.706675712764834[Parallel(n_jobs=3)]: Using backend LokyBackend with 3 concurrent workers.\n",
      "[Parallel(n_jobs=3)]: Done  26 out of  26 | elapsed:  6.2min finished\n",
      "\n",
      "[2020-06-26 06:43:40] Features: 44/69 -- score: 0.7067482394928425[Parallel(n_jobs=3)]: Using backend LokyBackend with 3 concurrent workers.\n",
      "[Parallel(n_jobs=3)]: Done  25 out of  25 | elapsed:  6.1min finished\n",
      "\n",
      "[2020-06-26 06:49:47] Features: 45/69 -- score: 0.7068167185755814[Parallel(n_jobs=3)]: Using backend LokyBackend with 3 concurrent workers.\n",
      "[Parallel(n_jobs=3)]: Done  24 out of  24 | elapsed:  7.3min finished\n",
      "\n",
      "[2020-06-26 06:57:05] Features: 46/69 -- score: 0.7068668586711826[Parallel(n_jobs=3)]: Using backend LokyBackend with 3 concurrent workers.\n",
      "[Parallel(n_jobs=3)]: Done  23 out of  23 | elapsed:  6.6min finished\n",
      "\n",
      "[2020-06-26 07:03:44] Features: 47/69 -- score: 0.7069151941847074[Parallel(n_jobs=3)]: Using backend LokyBackend with 3 concurrent workers.\n",
      "[Parallel(n_jobs=3)]: Done  22 out of  22 | elapsed:  6.3min finished\n",
      "\n",
      "[2020-06-26 07:10:00] Features: 48/69 -- score: 0.7069586743310541[Parallel(n_jobs=3)]: Using backend LokyBackend with 3 concurrent workers.\n",
      "[Parallel(n_jobs=3)]: Done  21 out of  21 | elapsed:  7.6min finished\n",
      "\n",
      "[2020-06-26 07:17:39] Features: 49/69 -- score: 0.706998191557741[Parallel(n_jobs=3)]: Using backend LokyBackend with 3 concurrent workers.\n",
      "[Parallel(n_jobs=3)]: Done  20 out of  20 | elapsed:  5.6min finished\n",
      "\n",
      "[2020-06-26 07:23:17] Features: 50/69 -- score: 0.7070224262555774[Parallel(n_jobs=3)]: Using backend LokyBackend with 3 concurrent workers.\n",
      "[Parallel(n_jobs=3)]: Done  19 out of  19 | elapsed:  4.1min finished\n",
      "\n",
      "[2020-06-26 07:27:24] Features: 51/69 -- score: 0.7070455157820834[Parallel(n_jobs=3)]: Using backend LokyBackend with 3 concurrent workers.\n",
      "[Parallel(n_jobs=3)]: Done  18 out of  18 | elapsed:  4.5min finished\n",
      "\n",
      "[2020-06-26 07:31:55] Features: 52/69 -- score: 0.7070651265616525[Parallel(n_jobs=3)]: Using backend LokyBackend with 3 concurrent workers.\n",
      "[Parallel(n_jobs=3)]: Done  17 out of  17 | elapsed:  4.8min finished\n",
      "\n",
      "[2020-06-26 07:36:41] Features: 53/69 -- score: 0.7070793774842797[Parallel(n_jobs=3)]: Using backend LokyBackend with 3 concurrent workers.\n",
      "[Parallel(n_jobs=3)]: Done  16 out of  16 | elapsed:  4.4min finished\n",
      "\n",
      "[2020-06-26 07:41:05] Features: 54/69 -- score: 0.707079531947139[Parallel(n_jobs=3)]: Using backend LokyBackend with 3 concurrent workers.\n",
      "[Parallel(n_jobs=3)]: Done  15 out of  15 | elapsed:  3.6min finished\n",
      "\n",
      "[2020-06-26 07:44:39] Features: 55/69 -- score: 0.7070759500553396[Parallel(n_jobs=3)]: Using backend LokyBackend with 3 concurrent workers.\n",
      "[Parallel(n_jobs=3)]: Done  14 out of  14 | elapsed:  3.4min finished\n",
      "\n",
      "[2020-06-26 07:48:00] Features: 56/69 -- score: 0.7070709534795201[Parallel(n_jobs=3)]: Using backend LokyBackend with 3 concurrent workers.\n",
      "[Parallel(n_jobs=3)]: Done  13 out of  13 | elapsed:  3.3min finished\n",
      "\n",
      "[2020-06-26 07:51:19] Features: 57/69 -- score: 0.707052593039645[Parallel(n_jobs=3)]: Using backend LokyBackend with 3 concurrent workers.\n",
      "[Parallel(n_jobs=3)]: Done  12 out of  12 | elapsed:  2.9min finished\n",
      "\n",
      "[2020-06-26 07:54:14] Features: 58/69 -- score: 0.7070267983169394[Parallel(n_jobs=3)]: Using backend LokyBackend with 3 concurrent workers.\n",
      "[Parallel(n_jobs=3)]: Done  11 out of  11 | elapsed:  2.8min finished\n",
      "\n",
      "[2020-06-26 07:57:04] Features: 59/69 -- score: 0.7069846239175288[Parallel(n_jobs=3)]: Using backend LokyBackend with 3 concurrent workers.\n",
      "[Parallel(n_jobs=3)]: Done  10 out of  10 | elapsed:  2.9min finished\n",
      "\n",
      "[2020-06-26 07:59:56] Features: 60/69 -- score: 0.7069342756339654[Parallel(n_jobs=3)]: Using backend LokyBackend with 3 concurrent workers.\n",
      "[Parallel(n_jobs=3)]: Done   9 out of   9 | elapsed:  2.4min remaining:    0.0s\n",
      "[Parallel(n_jobs=3)]: Done   9 out of   9 | elapsed:  2.4min finished\n",
      "\n",
      "[2020-06-26 08:02:18] Features: 61/69 -- score: 0.7068780047984082[Parallel(n_jobs=3)]: Using backend LokyBackend with 3 concurrent workers.\n",
      "[Parallel(n_jobs=3)]: Done   8 out of   8 | elapsed:  2.3min remaining:    0.0s\n",
      "[Parallel(n_jobs=3)]: Done   8 out of   8 | elapsed:  2.3min finished\n",
      "\n",
      "[2020-06-26 08:04:38] Features: 62/69 -- score: 0.706857076272269[Parallel(n_jobs=3)]: Using backend LokyBackend with 3 concurrent workers.\n",
      "[Parallel(n_jobs=3)]: Done   7 out of   7 | elapsed:  2.3min finished\n",
      "\n",
      "[2020-06-26 08:06:59] Features: 63/69 -- score: 0.7067931813305637[Parallel(n_jobs=3)]: Using backend LokyBackend with 3 concurrent workers.\n",
      "[Parallel(n_jobs=3)]: Done   6 out of   6 | elapsed:  1.6min finished\n",
      "\n",
      "[2020-06-26 08:08:34] Features: 64/69 -- score: 0.7067171184226002[Parallel(n_jobs=3)]: Using backend LokyBackend with 3 concurrent workers.\n",
      "[Parallel(n_jobs=3)]: Done   3 out of   5 | elapsed:   49.5s remaining:   32.9s\n",
      "[Parallel(n_jobs=3)]: Done   5 out of   5 | elapsed:  1.6min finished\n",
      "\n",
      "[2020-06-26 08:10:08] Features: 65/69 -- score: 0.7065843123615663[Parallel(n_jobs=3)]: Using backend LokyBackend with 3 concurrent workers.\n",
      "[Parallel(n_jobs=3)]: Done   2 out of   4 | elapsed:   49.0s remaining:   49.0s\n",
      "[Parallel(n_jobs=3)]: Done   4 out of   4 | elapsed:  1.6min finished\n",
      "\n",
      "[2020-06-26 08:11:41] Features: 66/69 -- score: 0.7064384513754434[Parallel(n_jobs=3)]: Using backend LokyBackend with 3 concurrent workers.\n"
     ]
    },
    {
     "name": "stderr",
     "output_type": "stream",
     "text": [
      "[Parallel(n_jobs=3)]: Done   3 out of   3 | elapsed:   51.8s finished\n",
      "\n",
      "[2020-06-26 08:12:33] Features: 67/69 -- score: 0.7062662949896421[Parallel(n_jobs=2)]: Using backend LokyBackend with 2 concurrent workers.\n",
      "[Parallel(n_jobs=2)]: Done   2 out of   2 | elapsed:   51.6s finished\n",
      "\n",
      "[2020-06-26 08:13:25] Features: 68/69 -- score: 0.7060682373811109[Parallel(n_jobs=1)]: Using backend SequentialBackend with 1 concurrent workers.\n",
      "[Parallel(n_jobs=1)]: Done   1 out of   1 | elapsed:   51.1s remaining:    0.0s\n",
      "[Parallel(n_jobs=1)]: Done   1 out of   1 | elapsed:   51.1s finished\n",
      "\n",
      "[2020-06-26 08:14:16] Features: 69/69 -- score: 0.7058479797528279"
     ]
    }
   ],
   "source": [
    "from mlxtend.feature_selection import SequentialFeatureSelector as SFS\n",
    "lr = LogisticRegression(class_weight = {0: w_b, 1:1}, max_iter = 300, C = 0.5, solver = 'liblinear', penalty = 'l2')\n",
    "\n",
    "\n",
    "sfs1 = SFS(lr, \n",
    "           k_features= 'best', \n",
    "           forward=True, \n",
    "           floating=False, \n",
    "           verbose=2,\n",
    "           scoring='roc_auc',\n",
    "           n_jobs = 3,\n",
    "           cv=2)\n",
    "\n",
    "sfs1 = sfs1.fit(data_prepr1, y)"
   ]
  },
  {
   "cell_type": "code",
   "execution_count": 354,
   "metadata": {},
   "outputs": [
    {
     "data": {
      "text/plain": [
       "54"
      ]
     },
     "execution_count": 354,
     "metadata": {},
     "output_type": "execute_result"
    }
   ],
   "source": [
    "forward_col = list(sfs1.k_feature_names_)\n",
    "len(forward_col)"
   ]
  },
  {
   "cell_type": "code",
   "execution_count": 355,
   "metadata": {},
   "outputs": [],
   "source": [
    "vif_del = []"
   ]
  },
  {
   "cell_type": "code",
   "execution_count": 356,
   "metadata": {},
   "outputs": [
    {
     "name": "stdout",
     "output_type": "stream",
     "text": [
      "26.06.2020 08:14:17 0 FINALAPPROVE_FLAG_2D\n",
      "26.06.2020 08:18:13 10 UNUSEDLIMCCMAX\n",
      "26.06.2020 08:21:26 20 OW_PMT_DYN\n",
      "26.06.2020 08:24:14 30 OW_MIN_SHARE\n",
      "26.06.2020 08:27:17 40 GENDER_2.0\n",
      "26.06.2020 08:30:37 50 SINCELSTCLSDCC_bin\n"
     ]
    }
   ],
   "source": [
    "vif = calculate_vif(data_prepr[forward_col])\n",
    "vif.sort_values(by = 'VIF', ascending = False, inplace = True)"
   ]
  },
  {
   "cell_type": "code",
   "execution_count": 357,
   "metadata": {
    "scrolled": true
   },
   "outputs": [
    {
     "data": {
      "text/html": [
       "<div>\n",
       "<style scoped>\n",
       "    .dataframe tbody tr th:only-of-type {\n",
       "        vertical-align: middle;\n",
       "    }\n",
       "\n",
       "    .dataframe tbody tr th {\n",
       "        vertical-align: top;\n",
       "    }\n",
       "\n",
       "    .dataframe thead th {\n",
       "        text-align: right;\n",
       "    }\n",
       "</style>\n",
       "<table border=\"1\" class=\"dataframe\">\n",
       "  <thead>\n",
       "    <tr style=\"text-align: right;\">\n",
       "      <th></th>\n",
       "      <th>Features</th>\n",
       "      <th>VIF</th>\n",
       "    </tr>\n",
       "  </thead>\n",
       "  <tbody>\n",
       "    <tr>\n",
       "      <td>42</td>\n",
       "      <td>R_AMT_OPEN_IL_bin</td>\n",
       "      <td>20.739772</td>\n",
       "    </tr>\n",
       "    <tr>\n",
       "      <td>2</td>\n",
       "      <td>R_CNT_OPEN_IL</td>\n",
       "      <td>17.747010</td>\n",
       "    </tr>\n",
       "    <tr>\n",
       "      <td>45</td>\n",
       "      <td>DLQ_WRSTARR07E_bin</td>\n",
       "      <td>15.230825</td>\n",
       "    </tr>\n",
       "    <tr>\n",
       "      <td>48</td>\n",
       "      <td>LIMIT_24_MAX_bin</td>\n",
       "      <td>11.585056</td>\n",
       "    </tr>\n",
       "    <tr>\n",
       "      <td>44</td>\n",
       "      <td>LIMITCC_MAX_bin</td>\n",
       "      <td>9.629952</td>\n",
       "    </tr>\n",
       "  </tbody>\n",
       "</table>\n",
       "</div>"
      ],
      "text/plain": [
       "              Features        VIF\n",
       "42   R_AMT_OPEN_IL_bin  20.739772\n",
       "2        R_CNT_OPEN_IL  17.747010\n",
       "45  DLQ_WRSTARR07E_bin  15.230825\n",
       "48    LIMIT_24_MAX_bin  11.585056\n",
       "44     LIMITCC_MAX_bin   9.629952"
      ]
     },
     "execution_count": 357,
     "metadata": {},
     "output_type": "execute_result"
    }
   ],
   "source": [
    "vif.head()"
   ]
  },
  {
   "cell_type": "code",
   "execution_count": 358,
   "metadata": {},
   "outputs": [
    {
     "name": "stdout",
     "output_type": "stream",
     "text": [
      "   index            Features        VIF\n",
      "0     42   R_AMT_OPEN_IL_bin  20.739772\n",
      "1      2       R_CNT_OPEN_IL  17.747010\n",
      "2     45  DLQ_WRSTARR07E_bin  15.230825\n",
      "3     48    LIMIT_24_MAX_bin  11.585056\n",
      "4     44     LIMITCC_MAX_bin   9.629952\n",
      "Delete  R_AMT_OPEN_IL_bin\n",
      "26.06.2020 08:32:00 0 FINALAPPROVE_FLAG_2D\n",
      "26.06.2020 08:35:21 10 UNUSEDLIMCCMAX\n",
      "26.06.2020 08:38:22 20 OW_PMT_DYN\n",
      "26.06.2020 08:41:28 30 OW_MIN_SHARE\n",
      "26.06.2020 08:45:30 40 GENDER_2.0\n",
      "26.06.2020 08:50:22 50 BURAPPRRT_L3M_bin\n",
      "   index            Features        VIF\n",
      "0     44  DLQ_WRSTARR07E_bin  15.099681\n",
      "1     47    LIMIT_24_MAX_bin  11.393599\n",
      "2     43     LIMITCC_MAX_bin   9.595885\n",
      "3     45  DLQ_WRSTARR25E_bin   7.635699\n",
      "4     28      DLQ_OVDUESHARE   6.653349\n",
      "Delete  DLQ_WRSTARR07E_bin\n",
      "26.06.2020 08:52:13 0 FINALAPPROVE_FLAG_2D\n",
      "26.06.2020 08:58:26 10 UNUSEDLIMCCMAX\n",
      "26.06.2020 09:07:08 20 OW_PMT_DYN\n",
      "26.06.2020 09:11:04 30 OW_MIN_SHARE\n",
      "26.06.2020 09:19:49 40 GENDER_2.0\n",
      "26.06.2020 09:24:13 50 AMTSEQACTV_SUM_bin\n"
     ]
    }
   ],
   "source": [
    "vif = vif.sort_values(by = 'VIF', ascending = False).reset_index()\n",
    "while vif['VIF'][0] > 10:\n",
    "    print(vif.head(5))\n",
    "    c = vif.Features[0]\n",
    "    vif_del.append(c)\n",
    "    print('Delete ', c)\n",
    "    vif = calculate_vif(data_prepr[[c for c in forward_col if c not in vif_del]])\n",
    "    vif = vif.sort_values(by = 'VIF', ascending = False).reset_index()"
   ]
  },
  {
   "cell_type": "code",
   "execution_count": 359,
   "metadata": {
    "scrolled": true
   },
   "outputs": [
    {
     "data": {
      "text/html": [
       "<div>\n",
       "<style scoped>\n",
       "    .dataframe tbody tr th:only-of-type {\n",
       "        vertical-align: middle;\n",
       "    }\n",
       "\n",
       "    .dataframe tbody tr th {\n",
       "        vertical-align: top;\n",
       "    }\n",
       "\n",
       "    .dataframe thead th {\n",
       "        text-align: right;\n",
       "    }\n",
       "</style>\n",
       "<table border=\"1\" class=\"dataframe\">\n",
       "  <thead>\n",
       "    <tr style=\"text-align: right;\">\n",
       "      <th></th>\n",
       "      <th>index</th>\n",
       "      <th>Features</th>\n",
       "      <th>VIF</th>\n",
       "    </tr>\n",
       "  </thead>\n",
       "  <tbody>\n",
       "    <tr>\n",
       "      <td>0</td>\n",
       "      <td>46</td>\n",
       "      <td>LIMIT_24_MAX_bin</td>\n",
       "      <td>9.368621</td>\n",
       "    </tr>\n",
       "    <tr>\n",
       "      <td>1</td>\n",
       "      <td>43</td>\n",
       "      <td>LIMITCC_MAX_bin</td>\n",
       "      <td>9.309376</td>\n",
       "    </tr>\n",
       "    <tr>\n",
       "      <td>2</td>\n",
       "      <td>44</td>\n",
       "      <td>DLQ_WRSTARR25E_bin</td>\n",
       "      <td>6.924207</td>\n",
       "    </tr>\n",
       "    <tr>\n",
       "      <td>3</td>\n",
       "      <td>28</td>\n",
       "      <td>DLQ_OVDUESHARE</td>\n",
       "      <td>6.650839</td>\n",
       "    </tr>\n",
       "    <tr>\n",
       "      <td>4</td>\n",
       "      <td>31</td>\n",
       "      <td>DLQ_PD2AMTOUTS</td>\n",
       "      <td>6.241437</td>\n",
       "    </tr>\n",
       "  </tbody>\n",
       "</table>\n",
       "</div>"
      ],
      "text/plain": [
       "   index            Features       VIF\n",
       "0     46    LIMIT_24_MAX_bin  9.368621\n",
       "1     43     LIMITCC_MAX_bin  9.309376\n",
       "2     44  DLQ_WRSTARR25E_bin  6.924207\n",
       "3     28      DLQ_OVDUESHARE  6.650839\n",
       "4     31      DLQ_PD2AMTOUTS  6.241437"
      ]
     },
     "execution_count": 359,
     "metadata": {},
     "output_type": "execute_result"
    }
   ],
   "source": [
    "vif.head()"
   ]
  },
  {
   "cell_type": "code",
   "execution_count": 360,
   "metadata": {
    "scrolled": true
   },
   "outputs": [
    {
     "data": {
      "text/plain": [
       "2"
      ]
     },
     "execution_count": 360,
     "metadata": {},
     "output_type": "execute_result"
    }
   ],
   "source": [
    "len(vif_del)"
   ]
  },
  {
   "cell_type": "code",
   "execution_count": 361,
   "metadata": {},
   "outputs": [],
   "source": [
    "new_features_list = []\n",
    "cols = ['new variable', 'genuine variable', 'rule', 'values']\n",
    "\n",
    "for i in forward_col:\n",
    "    if i in list(changes['new variable']):\n",
    "        change = changes[changes['new variable'] == i]\n",
    "        new_features_list.append([list(change['new variable'])[0], list(change['genuine variable'])[0], \n",
    "                                  list(change['rule'])[0], list(change['values'])[0]])\n",
    "    else:\n",
    "        new_features_list.append([i, i, 'Missing', np.nan])\n",
    "        \n",
    "for i in necessary_fields_upper:\n",
    "    new_features_list.append([i, i, 'Missing', np.nan])\n",
    "    \n",
    "new_features_data = pd.DataFrame.from_records(new_features_list, columns = cols)\n",
    "new_features_data_no_vif = new_features_data[~new_features_data['new variable'].isin(vif_del)]\n",
    "new_features_data_no_vif_no_sys = new_features_data_no_vif[~new_features_data_no_vif['new variable'].isin(necessary_fields_upper)]"
   ]
  },
  {
   "cell_type": "code",
   "execution_count": 362,
   "metadata": {},
   "outputs": [
    {
     "data": {
      "text/plain": [
       "((57, 4), (55, 4))"
      ]
     },
     "execution_count": 362,
     "metadata": {},
     "output_type": "execute_result"
    }
   ],
   "source": [
    "new_features_data.shape, new_features_data_no_vif.shape"
   ]
  },
  {
   "cell_type": "code",
   "execution_count": 363,
   "metadata": {},
   "outputs": [],
   "source": [
    "new_features_data.to_csv(PATH + 'SandBox/csv/selected_features_forward.csv', sep = '&')\n",
    "new_features_data_no_vif.to_csv(PATH + 'SandBox/csv/selected_features_vif_forward.csv', sep = '&')\n",
    "new_features_data_no_vif_no_sys.to_csv(PATH + 'SandBox/csv/selected_features_vif_no_sys_forward.csv', sep = '&')"
   ]
  },
  {
   "cell_type": "code",
   "execution_count": 364,
   "metadata": {},
   "outputs": [],
   "source": [
    "new_features_data = pd.read_csv(PATH + 'SandBox/csv/selected_features_forward.csv', sep = '&')\n",
    "new_features_data_no_vif= pd.read_csv(PATH + 'SandBox/csv/selected_features_vif_forward.csv', sep = '&')\n",
    "new_features_data_no_vif_no_sys= pd.read_csv(PATH + 'SandBox/csv/selected_features_vif_no_sys_forward.csv', sep = '&')"
   ]
  },
  {
   "cell_type": "code",
   "execution_count": 365,
   "metadata": {},
   "outputs": [],
   "source": [
    "modeling = 'forward'"
   ]
  },
  {
   "cell_type": "code",
   "execution_count": 366,
   "metadata": {},
   "outputs": [],
   "source": [
    "#selected_features = pd.read_csv(PATH + 'SandBox/csv/selected_features_forest_vif.csv', sep = '&')\n",
    "selected_features = new_features_data_no_vif\n",
    "sel_c = selected_features['genuine variable'].to_list()"
   ]
  },
  {
   "cell_type": "code",
   "execution_count": 367,
   "metadata": {},
   "outputs": [
    {
     "data": {
      "text/plain": [
       "1532"
      ]
     },
     "execution_count": 367,
     "metadata": {},
     "output_type": "execute_result"
    }
   ],
   "source": [
    "gc.collect()"
   ]
  },
  {
   "cell_type": "code",
   "execution_count": 368,
   "metadata": {},
   "outputs": [],
   "source": [
    "train = pd.read_csv(PATH + 'Data Sets/' +  train_data, sep = '\\t', encoding = 'cp1251')\n",
    "train.columns = [col.upper() for col in train.columns]\n",
    "\n",
    "test = pd.read_csv(PATH + 'Data Sets/' +  test_data, sep = '\\t', encoding = 'cp1251')\n",
    "test.columns = [col.upper() for col in test.columns]\n",
    "\n",
    "oot = pd.read_csv(PATH + 'Data Sets/' +  oot_data, sep = '\\t', encoding = 'cp1251')\n",
    "oot.columns = [col.upper() for col in oot.columns]"
   ]
  },
  {
   "cell_type": "code",
   "execution_count": 369,
   "metadata": {},
   "outputs": [],
   "source": [
    "train = turn_variables_with_values(train, selected_features)\n",
    "test = turn_variables_with_values(test, selected_features)\n",
    "oot = turn_variables_with_values(oot, selected_features)"
   ]
  },
  {
   "cell_type": "code",
   "execution_count": 370,
   "metadata": {},
   "outputs": [],
   "source": [
    "target = target.upper()"
   ]
  },
  {
   "cell_type": "code",
   "execution_count": 371,
   "metadata": {},
   "outputs": [],
   "source": [
    "y_train = train[target]\n",
    "y_test = test[target]\n",
    "y_oot = oot[target]\n",
    "\n",
    "train.drop(target, axis = 1, inplace = True)\n",
    "test.drop(target, axis = 1, inplace = True)\n",
    "oot.drop(target, axis = 1, inplace = True)"
   ]
  },
  {
   "cell_type": "code",
   "execution_count": 372,
   "metadata": {},
   "outputs": [
    {
     "data": {
      "text/html": [
       "<div>\n",
       "<style scoped>\n",
       "    .dataframe tbody tr th:only-of-type {\n",
       "        vertical-align: middle;\n",
       "    }\n",
       "\n",
       "    .dataframe tbody tr th {\n",
       "        vertical-align: top;\n",
       "    }\n",
       "\n",
       "    .dataframe thead th {\n",
       "        text-align: right;\n",
       "    }\n",
       "</style>\n",
       "<table border=\"1\" class=\"dataframe\">\n",
       "  <thead>\n",
       "    <tr style=\"text-align: right;\">\n",
       "      <th></th>\n",
       "      <th>FINALAPPROVE_FLAG_2D</th>\n",
       "      <th>R_CNT_ALL_IL</th>\n",
       "      <th>R_CNT_OPEN_IL</th>\n",
       "      <th>R_AMT_OPEN_IL</th>\n",
       "      <th>R_AMT_CLOS_IL</th>\n",
       "      <th>R_DLQ_WSTEV_MIN</th>\n",
       "      <th>AGE</th>\n",
       "      <th>CNTR_AL_CNT</th>\n",
       "      <th>CNTR_MORT_CNT</th>\n",
       "      <th>LIMIT_MIN</th>\n",
       "      <th>...</th>\n",
       "      <th>DLQ_WRSTARR25E_bin</th>\n",
       "      <th>TIME_SINCEL_90_bin</th>\n",
       "      <th>LIMIT_24_MAX_bin</th>\n",
       "      <th>OPENLYEARCCSUM_bin</th>\n",
       "      <th>SINCELSTCLSDCC_bin</th>\n",
       "      <th>BURAPPRRT_L3M_bin</th>\n",
       "      <th>AMTSEQACTV_SUM_bin</th>\n",
       "      <th>LIMIT01_SUM_bin</th>\n",
       "      <th>DATE_REPORT</th>\n",
       "      <th>CIF_ID</th>\n",
       "    </tr>\n",
       "  </thead>\n",
       "  <tbody>\n",
       "    <tr>\n",
       "      <td>0</td>\n",
       "      <td>5.0</td>\n",
       "      <td>1.0</td>\n",
       "      <td>0.0</td>\n",
       "      <td>NaN</td>\n",
       "      <td>12159.84</td>\n",
       "      <td>0.0</td>\n",
       "      <td>44.0</td>\n",
       "      <td>0.0</td>\n",
       "      <td>0.0</td>\n",
       "      <td>2000.0</td>\n",
       "      <td>...</td>\n",
       "      <td>0</td>\n",
       "      <td>0</td>\n",
       "      <td>1</td>\n",
       "      <td>1</td>\n",
       "      <td>0</td>\n",
       "      <td>0</td>\n",
       "      <td>0</td>\n",
       "      <td>0</td>\n",
       "      <td>201509</td>\n",
       "      <td>1017553504</td>\n",
       "    </tr>\n",
       "    <tr>\n",
       "      <td>1</td>\n",
       "      <td>2.0</td>\n",
       "      <td>0.0</td>\n",
       "      <td>0.0</td>\n",
       "      <td>NaN</td>\n",
       "      <td>NaN</td>\n",
       "      <td>1.0</td>\n",
       "      <td>34.0</td>\n",
       "      <td>0.0</td>\n",
       "      <td>0.0</td>\n",
       "      <td>3733.0</td>\n",
       "      <td>...</td>\n",
       "      <td>1</td>\n",
       "      <td>1</td>\n",
       "      <td>1</td>\n",
       "      <td>0</td>\n",
       "      <td>0</td>\n",
       "      <td>0</td>\n",
       "      <td>0</td>\n",
       "      <td>0</td>\n",
       "      <td>201509</td>\n",
       "      <td>1014239655</td>\n",
       "    </tr>\n",
       "    <tr>\n",
       "      <td>2</td>\n",
       "      <td>0.0</td>\n",
       "      <td>NaN</td>\n",
       "      <td>NaN</td>\n",
       "      <td>NaN</td>\n",
       "      <td>NaN</td>\n",
       "      <td>NaN</td>\n",
       "      <td>25.0</td>\n",
       "      <td>0.0</td>\n",
       "      <td>0.0</td>\n",
       "      <td>54000.0</td>\n",
       "      <td>...</td>\n",
       "      <td>1</td>\n",
       "      <td>0</td>\n",
       "      <td>1</td>\n",
       "      <td>0</td>\n",
       "      <td>0</td>\n",
       "      <td>0</td>\n",
       "      <td>0</td>\n",
       "      <td>0</td>\n",
       "      <td>201509</td>\n",
       "      <td>1022520005</td>\n",
       "    </tr>\n",
       "    <tr>\n",
       "      <td>3</td>\n",
       "      <td>4.0</td>\n",
       "      <td>2.0</td>\n",
       "      <td>0.0</td>\n",
       "      <td>NaN</td>\n",
       "      <td>22841.52</td>\n",
       "      <td>0.0</td>\n",
       "      <td>38.0</td>\n",
       "      <td>0.0</td>\n",
       "      <td>0.0</td>\n",
       "      <td>5000.0</td>\n",
       "      <td>...</td>\n",
       "      <td>0</td>\n",
       "      <td>0</td>\n",
       "      <td>1</td>\n",
       "      <td>1</td>\n",
       "      <td>0</td>\n",
       "      <td>1</td>\n",
       "      <td>0</td>\n",
       "      <td>0</td>\n",
       "      <td>201509</td>\n",
       "      <td>1018768545</td>\n",
       "    </tr>\n",
       "    <tr>\n",
       "      <td>4</td>\n",
       "      <td>2.0</td>\n",
       "      <td>1.0</td>\n",
       "      <td>1.0</td>\n",
       "      <td>31985.52</td>\n",
       "      <td>NaN</td>\n",
       "      <td>0.0</td>\n",
       "      <td>25.0</td>\n",
       "      <td>0.0</td>\n",
       "      <td>0.0</td>\n",
       "      <td>3000.0</td>\n",
       "      <td>...</td>\n",
       "      <td>0</td>\n",
       "      <td>0</td>\n",
       "      <td>1</td>\n",
       "      <td>1</td>\n",
       "      <td>0</td>\n",
       "      <td>1</td>\n",
       "      <td>0</td>\n",
       "      <td>0</td>\n",
       "      <td>201509</td>\n",
       "      <td>1021361246</td>\n",
       "    </tr>\n",
       "  </tbody>\n",
       "</table>\n",
       "<p>5 rows × 54 columns</p>\n",
       "</div>"
      ],
      "text/plain": [
       "   FINALAPPROVE_FLAG_2D  R_CNT_ALL_IL  R_CNT_OPEN_IL  R_AMT_OPEN_IL  \\\n",
       "0                   5.0           1.0            0.0            NaN   \n",
       "1                   2.0           0.0            0.0            NaN   \n",
       "2                   0.0           NaN            NaN            NaN   \n",
       "3                   4.0           2.0            0.0            NaN   \n",
       "4                   2.0           1.0            1.0       31985.52   \n",
       "\n",
       "   R_AMT_CLOS_IL  R_DLQ_WSTEV_MIN   AGE  CNTR_AL_CNT  CNTR_MORT_CNT  \\\n",
       "0       12159.84              0.0  44.0          0.0            0.0   \n",
       "1            NaN              1.0  34.0          0.0            0.0   \n",
       "2            NaN              NaN  25.0          0.0            0.0   \n",
       "3       22841.52              0.0  38.0          0.0            0.0   \n",
       "4            NaN              0.0  25.0          0.0            0.0   \n",
       "\n",
       "   LIMIT_MIN  ...  DLQ_WRSTARR25E_bin  TIME_SINCEL_90_bin  LIMIT_24_MAX_bin  \\\n",
       "0     2000.0  ...                   0                   0                 1   \n",
       "1     3733.0  ...                   1                   1                 1   \n",
       "2    54000.0  ...                   1                   0                 1   \n",
       "3     5000.0  ...                   0                   0                 1   \n",
       "4     3000.0  ...                   0                   0                 1   \n",
       "\n",
       "   OPENLYEARCCSUM_bin  SINCELSTCLSDCC_bin  BURAPPRRT_L3M_bin  \\\n",
       "0                   1                   0                  0   \n",
       "1                   0                   0                  0   \n",
       "2                   0                   0                  0   \n",
       "3                   1                   0                  1   \n",
       "4                   1                   0                  1   \n",
       "\n",
       "   AMTSEQACTV_SUM_bin  LIMIT01_SUM_bin  DATE_REPORT      CIF_ID  \n",
       "0                   0                0       201509  1017553504  \n",
       "1                   0                0       201509  1014239655  \n",
       "2                   0                0       201509  1022520005  \n",
       "3                   0                0       201509  1018768545  \n",
       "4                   0                0       201509  1021361246  \n",
       "\n",
       "[5 rows x 54 columns]"
      ]
     },
     "execution_count": 372,
     "metadata": {},
     "output_type": "execute_result"
    }
   ],
   "source": [
    "train.head()"
   ]
  },
  {
   "cell_type": "code",
   "execution_count": 373,
   "metadata": {},
   "outputs": [],
   "source": [
    "list_of_columns = selected_features['new variable'].to_list()\n",
    "list_of_columns_no_sys = list_of_columns.copy()\n",
    "for i in necessary_fields_upper:\n",
    "    if i in list_of_columns_no_sys:\n",
    "        list_of_columns_no_sys.remove(i)"
   ]
  },
  {
   "cell_type": "code",
   "execution_count": 374,
   "metadata": {},
   "outputs": [
    {
     "data": {
      "text/plain": [
       "52"
      ]
     },
     "execution_count": 374,
     "metadata": {},
     "output_type": "execute_result"
    }
   ],
   "source": [
    "len(list_of_columns_no_sys)"
   ]
  },
  {
   "cell_type": "code",
   "execution_count": 375,
   "metadata": {
    "scrolled": true
   },
   "outputs": [
    {
     "name": "stdout",
     "output_type": "stream",
     "text": [
      "[1.000e-04 5.000e-03 1.000e-02 2.000e-02 5.000e-02 9.500e-01 9.700e-01\n",
      " 9.800e-01 9.900e-01 9.950e-01 9.999e-01]\n",
      "Number of finished repetitions: 0 | time:  26.06.2020 09:26:26\n"
     ]
    }
   ],
   "source": [
    "attribute_list_model = attributes_list_new(train, list_of_columns_no_sys, [0.01, 0.5, 1, 2, 5, 95, 97, \n",
    "                                                                           98, 99, 99.5, 99.99])"
   ]
  },
  {
   "cell_type": "code",
   "execution_count": 376,
   "metadata": {
    "scrolled": true
   },
   "outputs": [
    {
     "data": {
      "text/html": [
       "<div>\n",
       "<style scoped>\n",
       "    .dataframe tbody tr th:only-of-type {\n",
       "        vertical-align: middle;\n",
       "    }\n",
       "\n",
       "    .dataframe tbody tr th {\n",
       "        vertical-align: top;\n",
       "    }\n",
       "\n",
       "    .dataframe thead th {\n",
       "        text-align: right;\n",
       "    }\n",
       "</style>\n",
       "<table border=\"1\" class=\"dataframe\">\n",
       "  <thead>\n",
       "    <tr style=\"text-align: right;\">\n",
       "      <th></th>\n",
       "      <th>attribute</th>\n",
       "      <th>type_val</th>\n",
       "      <th>count_dist</th>\n",
       "      <th>count_miss</th>\n",
       "      <th>moda_val</th>\n",
       "      <th>count_value_moda</th>\n",
       "      <th>count_val</th>\n",
       "      <th>mean</th>\n",
       "      <th>stand_d_val</th>\n",
       "      <th>min_val</th>\n",
       "      <th>...</th>\n",
       "      <th>2%</th>\n",
       "      <th>5%</th>\n",
       "      <th>val_mediana</th>\n",
       "      <th>95%</th>\n",
       "      <th>97%</th>\n",
       "      <th>98%</th>\n",
       "      <th>99%</th>\n",
       "      <th>99.5%</th>\n",
       "      <th>99.99%</th>\n",
       "      <th>max_val</th>\n",
       "    </tr>\n",
       "  </thead>\n",
       "  <tbody>\n",
       "  </tbody>\n",
       "</table>\n",
       "<p>0 rows × 23 columns</p>\n",
       "</div>"
      ],
      "text/plain": [
       "Empty DataFrame\n",
       "Columns: [attribute, type_val, count_dist, count_miss, moda_val, count_value_moda, count_val, mean, stand_d_val, min_val, 0.01%, 0.5%, 1%, 2%, 5%, val_mediana, 95%, 97%, 98%, 99%, 99.5%, 99.99%, max_val]\n",
       "Index: []\n",
       "\n",
       "[0 rows x 23 columns]"
      ]
     },
     "execution_count": 376,
     "metadata": {},
     "output_type": "execute_result"
    }
   ],
   "source": [
    "attribute_list_model[attribute_list_model['99%'] == attribute_list_model['1%']]"
   ]
  },
  {
   "cell_type": "code",
   "execution_count": 377,
   "metadata": {},
   "outputs": [],
   "source": [
    "list_of_categories_sel = attribute_list_model.loc[(attribute_list_model['count_dist'] == 2), 'attribute'].to_list() "
   ]
  },
  {
   "cell_type": "code",
   "execution_count": 378,
   "metadata": {},
   "outputs": [],
   "source": [
    "categorials_data_fin = pd.read_csv(PATH + 'SandBox/csv/categories_fin.csv', sep = '&')"
   ]
  },
  {
   "cell_type": "code",
   "execution_count": 379,
   "metadata": {},
   "outputs": [
    {
     "data": {
      "text/html": [
       "<div>\n",
       "<style scoped>\n",
       "    .dataframe tbody tr th:only-of-type {\n",
       "        vertical-align: middle;\n",
       "    }\n",
       "\n",
       "    .dataframe tbody tr th {\n",
       "        vertical-align: top;\n",
       "    }\n",
       "\n",
       "    .dataframe thead th {\n",
       "        text-align: right;\n",
       "    }\n",
       "</style>\n",
       "<table border=\"1\" class=\"dataframe\">\n",
       "  <thead>\n",
       "    <tr style=\"text-align: right;\">\n",
       "      <th></th>\n",
       "      <th>Unnamed: 0</th>\n",
       "      <th>feature</th>\n",
       "    </tr>\n",
       "  </thead>\n",
       "  <tbody>\n",
       "    <tr>\n",
       "      <td>0</td>\n",
       "      <td>0</td>\n",
       "      <td>LIMITCC_MAX_bin</td>\n",
       "    </tr>\n",
       "    <tr>\n",
       "      <td>1</td>\n",
       "      <td>1</td>\n",
       "      <td>R_AMT_OPEN_IL_bin</td>\n",
       "    </tr>\n",
       "    <tr>\n",
       "      <td>2</td>\n",
       "      <td>2</td>\n",
       "      <td>DLQ_WASDELAY_1.0</td>\n",
       "    </tr>\n",
       "    <tr>\n",
       "      <td>3</td>\n",
       "      <td>3</td>\n",
       "      <td>PMT_SUM_bin</td>\n",
       "    </tr>\n",
       "    <tr>\n",
       "      <td>4</td>\n",
       "      <td>4</td>\n",
       "      <td>CLOSED06_SUM_bin</td>\n",
       "    </tr>\n",
       "  </tbody>\n",
       "</table>\n",
       "</div>"
      ],
      "text/plain": [
       "   Unnamed: 0            feature\n",
       "0           0    LIMITCC_MAX_bin\n",
       "1           1  R_AMT_OPEN_IL_bin\n",
       "2           2   DLQ_WASDELAY_1.0\n",
       "3           3        PMT_SUM_bin\n",
       "4           4   CLOSED06_SUM_bin"
      ]
     },
     "execution_count": 379,
     "metadata": {},
     "output_type": "execute_result"
    }
   ],
   "source": [
    "categorials_data_fin.head()"
   ]
  },
  {
   "cell_type": "code",
   "execution_count": 380,
   "metadata": {},
   "outputs": [],
   "source": [
    "for i in list_of_columns_no_sys:\n",
    "    if i in categorials_data_fin['feature'].to_list():\n",
    "        list_of_categories_sel.append(i)"
   ]
  },
  {
   "cell_type": "code",
   "execution_count": 381,
   "metadata": {},
   "outputs": [
    {
     "data": {
      "text/plain": [
       "['GENDER_2.0',\n",
       " 'DLQ_WASDELAY_0.0',\n",
       " 'R_DLQ_SUM_30PL_bin',\n",
       " 'LIMITCC_MAX_bin',\n",
       " 'DLQ_WRSTARR25E_bin',\n",
       " 'TIME_SINCEL_90_bin',\n",
       " 'LIMIT_24_MAX_bin',\n",
       " 'OPENLYEARCCSUM_bin',\n",
       " 'SINCELSTCLSDCC_bin',\n",
       " 'BURAPPRRT_L3M_bin',\n",
       " 'AMTSEQACTV_SUM_bin',\n",
       " 'LIMIT01_SUM_bin',\n",
       " 'GENDER_2.0',\n",
       " 'DLQ_WASDELAY_0.0',\n",
       " 'R_DLQ_SUM_30PL_bin',\n",
       " 'LIMITCC_MAX_bin',\n",
       " 'DLQ_WRSTARR25E_bin',\n",
       " 'TIME_SINCEL_90_bin',\n",
       " 'LIMIT_24_MAX_bin',\n",
       " 'OPENLYEARCCSUM_bin',\n",
       " 'SINCELSTCLSDCC_bin',\n",
       " 'BURAPPRRT_L3M_bin',\n",
       " 'AMTSEQACTV_SUM_bin',\n",
       " 'LIMIT01_SUM_bin']"
      ]
     },
     "execution_count": 381,
     "metadata": {},
     "output_type": "execute_result"
    }
   ],
   "source": [
    "list_of_categories_sel"
   ]
  },
  {
   "cell_type": "code",
   "execution_count": 382,
   "metadata": {
    "scrolled": true
   },
   "outputs": [],
   "source": [
    "iqr_outliers = find_ouliers_iqr(train, necessary_fields_upper, mult = 1.5, check_percentile = 1)"
   ]
  },
  {
   "cell_type": "code",
   "execution_count": 383,
   "metadata": {},
   "outputs": [],
   "source": [
    "once_rows = sum(y_train)\n",
    "second_rows = (len(y_train) - sum(y_train))\n",
    "y_unique = sorted(y_train.unique())\n",
    "all_rows = len(y_train)\n",
    "\n",
    "once_rows_share = once_rows/all_rows\n",
    "second_rows_share = second_rows/all_rows\n",
    "second_rows_share/once_rows_share\n",
    "\n",
    "if once_rows < second_rows:\n",
    "    w_b = once_rows/second_rows\n",
    "else:\n",
    "    w_b = second_rows/once_rows"
   ]
  },
  {
   "cell_type": "code",
   "execution_count": 384,
   "metadata": {},
   "outputs": [
    {
     "data": {
      "text/plain": [
       "(0.0335510790382708, 0.9664489209617292)"
      ]
     },
     "execution_count": 384,
     "metadata": {},
     "output_type": "execute_result"
    }
   ],
   "source": [
    "once_rows_share, second_rows_share"
   ]
  },
  {
   "cell_type": "code",
   "execution_count": 385,
   "metadata": {},
   "outputs": [
    {
     "data": {
      "text/plain": [
       "0.03471583268454951"
      ]
     },
     "execution_count": 385,
     "metadata": {},
     "output_type": "execute_result"
    }
   ],
   "source": [
    "w_b"
   ]
  },
  {
   "cell_type": "code",
   "execution_count": 393,
   "metadata": {},
   "outputs": [
    {
     "name": "stdout",
     "output_type": "stream",
     "text": [
      "[0.5]\n",
      "0.03471583268454951\n",
      "[0.03471583]\n"
     ]
    }
   ],
   "source": [
    "C = [0.5]\n",
    "CC  = [1]\n",
    "w = np.multiply(CC, w_b)\n",
    "print(C)\n",
    "print(w_b)\n",
    "print(w)"
   ]
  },
  {
   "cell_type": "code",
   "execution_count": 394,
   "metadata": {},
   "outputs": [],
   "source": [
    "from Filter_and_Grid_Search import simple_b_score_crm"
   ]
  },
  {
   "cell_type": "code",
   "execution_count": 395,
   "metadata": {},
   "outputs": [
    {
     "name": "stdout",
     "output_type": "stream",
     "text": [
      "Help on function simple_b_score_crm in module Filter_and_Grid_Search:\n",
      "\n",
      "simple_b_score_crm(_tn, _fp, _fn, _tp, m_s, k, c, pos_label=None, sample_weight=None)\n",
      "    Функция в одну строчку, которая считает бизнес метрику по элементам confusion matrix\n",
      "\n"
     ]
    }
   ],
   "source": [
    "help(simple_b_score_crm)"
   ]
  },
  {
   "cell_type": "code",
   "execution_count": null,
   "metadata": {},
   "outputs": [],
   "source": []
  },
  {
   "cell_type": "code",
   "execution_count": 396,
   "metadata": {},
   "outputs": [],
   "source": [
    "params_dictionary = {'C': C,\n",
    "                     'weight_0': w,\n",
    "                     'regularization': 'l2', 'random_state': 241, \n",
    "                    'solver': 'liblinear', 'max_iter':  [300]}\n",
    "params_to_model = {'C': 'C', 'weight_0': 'class_weight', 'regularization':'penalty', 'random_state': 'random_state',\n",
    "                  'solver': 'solver', 'max_iter': 'max_iter'}\n",
    "pass_model = LogisticRegression\n",
    "\n",
    "sort_by_var = sort_by_var.upper()\n",
    "list_of_vars_for_strat = ['DATE_REPORT']\n",
    "second_target = None\n",
    "yeo_johnson = False\n",
    "n_fold = 5\n",
    "simple_b_score = simple_b_score_crm\n",
    "business_dictionary = {'m_s': 15900, 'k': 47, 'c': 1}\n"
   ]
  },
  {
   "cell_type": "code",
   "execution_count": 397,
   "metadata": {},
   "outputs": [],
   "source": [
    "high_outs = [99]\n",
    "low_outs = [1]\n",
    "params_preproc_grid = {'high_outlier': high_outs, 'low_outlier': low_outs}"
   ]
  },
  {
   "cell_type": "code",
   "execution_count": 398,
   "metadata": {},
   "outputs": [],
   "source": [
    "combination_preproc = list(itertools.product(*params_preproc_grid.values()))"
   ]
  },
  {
   "cell_type": "code",
   "execution_count": 399,
   "metadata": {},
   "outputs": [],
   "source": [
    "from Filter_and_Grid_Search import br_correction"
   ]
  },
  {
   "cell_type": "code",
   "execution_count": 400,
   "metadata": {},
   "outputs": [
    {
     "name": "stdout",
     "output_type": "stream",
     "text": [
      "Максимальный BR = 0.050715845668527056\n",
      "Список срезов для выравнивания: [201509 201510 201511 201512 201601 201602 201603 201604 201605 201606\n",
      " 201607 201608 201609 201610 201611 201612 201701 201702 201703 201704\n",
      " 201705 201706 201707 201708 201709 201710 201711 201712 201801 201802\n",
      " 201803 201804 201805 201806]\n",
      "Максимальный BR = 0.05075240676698757\n"
     ]
    },
    {
     "data": {
      "image/png": "[encoded data removed]",
      "text/plain": [
       "<Figure size 432x288 with 1 Axes>"
      ]
     },
     "metadata": {
      "needs_background": "light"
     },
     "output_type": "display_data"
    }
   ],
   "source": [
    "train = train.join(y_train)\n",
    "train1 = br_correction(train, index_month.upper(), target, correct = True, random_state = 42, alpha = 0)"
   ]
  },
  {
   "cell_type": "code",
   "execution_count": 401,
   "metadata": {},
   "outputs": [],
   "source": [
    "y_train = train1[target]\n",
    "train1.drop(target, axis = 1, inplace = True)"
   ]
  },
  {
   "cell_type": "code",
   "execution_count": 402,
   "metadata": {},
   "outputs": [
    {
     "name": "stdout",
     "output_type": "stream",
     "text": [
      "[0.99 0.01]\n",
      "Number of finished repetitions: 0 | time:  26.06.2020 09:26:53\n"
     ]
    }
   ],
   "source": [
    "attribute_list_model = attributes_list_new(train1, list_of_columns_no_sys, high_outs+low_outs)"
   ]
  },
  {
   "cell_type": "code",
   "execution_count": 403,
   "metadata": {},
   "outputs": [
    {
     "data": {
      "text/plain": [
       "1"
      ]
     },
     "execution_count": 403,
     "metadata": {},
     "output_type": "execute_result"
    }
   ],
   "source": [
    "len(C)*len(CC)"
   ]
  },
  {
   "cell_type": "code",
   "execution_count": 404,
   "metadata": {},
   "outputs": [],
   "source": [
    "from Filter_and_Grid_Search import lr_test_one_simple, lr_test_all_features"
   ]
  },
  {
   "cell_type": "code",
   "execution_count": 405,
   "metadata": {
    "scrolled": true
   },
   "outputs": [
    {
     "name": "stdout",
     "output_type": "stream",
     "text": [
      "-------------------- {'high_outlier': 99, 'low_outlier': 1} [] --------------------\n",
      "{'C': [0.5], 'weight_0': array([0.03471583]), 'regularization': ['l2'], 'random_state': [241], 'solver': ['liblinear'], 'max_iter': [300]}\n",
      "-------------------- 26.06.2020 09:34:18 0 -------------------- \n",
      " Параметры: {'C': 0.5, 'class_weight': {0: 0.03471583268454951, 1: 1}, 'penalty': 'l2', 'random_state': 241, 'solver': 'liblinear', 'max_iter': 300} \n",
      " Среднее значение APS = 0.11752558910978168 \n",
      " Среднее значение AUC = 0.7046584242309606\n"
     ]
    }
   ],
   "source": [
    "new_meta_with_prepr = []\n",
    "\n",
    "for combination in combination_preproc:\n",
    "    outputs = list(combination)\n",
    "    dicts = {}\n",
    "    for position in range(len(combination)):\n",
    "        dicts[list(params_preproc_grid.keys())[position]] = combination[position]\n",
    "            \n",
    "    non_outliers = attribute_list_model.loc[attribute_list_model[str(dicts['high_outlier'])+'%'] == attribute_list_model['1%'], \n",
    "                                                'attribute'].to_list()\n",
    "    cols_outliers = list_of_columns_no_sys.copy()\n",
    "    \n",
    "    for o in non_outliers:\n",
    "        if o in cols_outliers:\n",
    "            cols_outliers.remove(o)\n",
    "                \n",
    "    print('-'*20, dicts, non_outliers, '-'*20)\n",
    "    i_meta = find_meta_params(train1, y_train, \n",
    "                            params_dictionary, params_to_model, pass_model, \n",
    "                            sort_by_var, list_of_vars_for_strat, n_fold, second_target, yeo_johnson, \n",
    "                            attribute_list = None, var_col = None, categorial_list = list_of_categories_sel,\n",
    "                            cols_outlier = cols_outliers,\n",
    "                            need_business = False, draw = False, draw_by_approval_rate = False,\n",
    "                            simple_b_score = None, business_dict = None,\n",
    "                            business_dict_sec = None,\n",
    "                            scale = 'mean', median = 'median',\n",
    "                            high_outlier = dicts['high_outlier'], \n",
    "                            low_outlier = dicts['low_outlier'], check_percentile = 1,\n",
    "                            random_state = 241, task = 'binary', k_logs = 10,\n",
    "                            cut_non_out_9999 = True)\n",
    "    i_meta['high_outlier'] = dicts['high_outlier']\n",
    "    i_meta['low_outlier'] = dicts['low_outlier']\n",
    "        \n",
    "    new_meta_with_prepr.append(i_meta)"
   ]
  },
  {
   "cell_type": "code",
   "execution_count": 406,
   "metadata": {},
   "outputs": [],
   "source": [
    "i_meta['weight'] = round(i_meta['weight_0'], 4)"
   ]
  },
  {
   "cell_type": "code",
   "execution_count": 407,
   "metadata": {
    "scrolled": true
   },
   "outputs": [
    {
     "data": {
      "text/html": [
       "<div>\n",
       "<style scoped>\n",
       "    .dataframe tbody tr th:only-of-type {\n",
       "        vertical-align: middle;\n",
       "    }\n",
       "\n",
       "    .dataframe tbody tr th {\n",
       "        vertical-align: top;\n",
       "    }\n",
       "\n",
       "    .dataframe thead th {\n",
       "        text-align: right;\n",
       "    }\n",
       "</style>\n",
       "<table border=\"1\" class=\"dataframe\">\n",
       "  <thead>\n",
       "    <tr style=\"text-align: right;\">\n",
       "      <th></th>\n",
       "      <th>AUC</th>\n",
       "      <th>AUC_std</th>\n",
       "      <th>weight_0</th>\n",
       "      <th>C</th>\n",
       "      <th>high_outlier</th>\n",
       "      <th>low_outlier</th>\n",
       "      <th>Pre</th>\n",
       "    </tr>\n",
       "  </thead>\n",
       "  <tbody>\n",
       "    <tr>\n",
       "      <td>0</td>\n",
       "      <td>0.704658</td>\n",
       "      <td>0.004135</td>\n",
       "      <td>0.034716</td>\n",
       "      <td>0.5</td>\n",
       "      <td>99</td>\n",
       "      <td>1</td>\n",
       "      <td>0.072693</td>\n",
       "    </tr>\n",
       "  </tbody>\n",
       "</table>\n",
       "</div>"
      ],
      "text/plain": [
       "        AUC   AUC_std  weight_0    C  high_outlier  low_outlier       Pre\n",
       "0  0.704658  0.004135  0.034716  0.5            99            1  0.072693"
      ]
     },
     "execution_count": 407,
     "metadata": {},
     "output_type": "execute_result"
    }
   ],
   "source": [
    "i_meta.sort_values(by = 'AUC', ascending = False)[['AUC', 'AUC_std', 'weight_0', 'C', 'high_outlier', 'low_outlier', 'Pre']]"
   ]
  },
  {
   "cell_type": "code",
   "execution_count": 408,
   "metadata": {
    "scrolled": false
   },
   "outputs": [
    {
     "data": {
      "image/png": "[encoded data removed]",
      "text/plain": [
       "<Figure size 72x72 with 2 Axes>"
      ]
     },
     "metadata": {
      "needs_background": "light"
     },
     "output_type": "display_data"
    }
   ],
   "source": [
    "plot_meta_2d(meta = i_meta, first_dimention = 'C', second_dimention = 'weight', b_best = 'AUC')"
   ]
  },
  {
   "cell_type": "code",
   "execution_count": 409,
   "metadata": {
    "scrolled": true
   },
   "outputs": [
    {
     "data": {
      "image/png": "[encoded data removed]",
      "text/plain": [
       "<Figure size 72x72 with 2 Axes>"
      ]
     },
     "metadata": {
      "needs_background": "light"
     },
     "output_type": "display_data"
    }
   ],
   "source": [
    "plot_meta_2d(meta = i_meta, first_dimention = 'C', second_dimention = 'weight', b_best = 'APS')"
   ]
  },
  {
   "cell_type": "code",
   "execution_count": 410,
   "metadata": {},
   "outputs": [],
   "source": [
    "i_meta.to_csv(PATH +'Modeling_' + modeling + '/meta_file1.csv', sep='&')"
   ]
  },
  {
   "cell_type": "code",
   "execution_count": 411,
   "metadata": {},
   "outputs": [],
   "source": [
    "i_meta = pd.read_csv(PATH +'Modeling_' + modeling + '/meta_file1.csv', sep='&')"
   ]
  },
  {
   "cell_type": "code",
   "execution_count": 412,
   "metadata": {},
   "outputs": [],
   "source": [
    "list_of_columns = list(train1.columns)\n",
    "list_of_columns_no_sys = list_of_columns.copy()\n",
    "for i in necessary_fields_upper:\n",
    "    if i in list_of_columns_no_sys:\n",
    "        list_of_columns_no_sys.remove(i)"
   ]
  },
  {
   "cell_type": "code",
   "execution_count": 413,
   "metadata": {
    "scrolled": true
   },
   "outputs": [
    {
     "name": "stdout",
     "output_type": "stream",
     "text": [
      "[0.01   0.98   0.99   0.9999]\n",
      "Number of finished repetitions: 0 | time:  26.06.2020 09:34:22\n"
     ]
    }
   ],
   "source": [
    "attribute_list_model = attributes_list_new(train1, list_of_columns_no_sys, [1, 98, 99, 99.99])"
   ]
  },
  {
   "cell_type": "code",
   "execution_count": 414,
   "metadata": {},
   "outputs": [],
   "source": [
    "non_outliers = attribute_list_model.loc[attribute_list_model['99%'] == attribute_list_model['1%'], \n",
    "                                                'attribute'].to_list()\n",
    "cols_outliers = list_of_columns_no_sys.copy()\n",
    "    \n",
    "for o in non_outliers:\n",
    "    if o in cols_outliers:\n",
    "        cols_outliers.remove(o)"
   ]
  },
  {
   "cell_type": "code",
   "execution_count": 415,
   "metadata": {},
   "outputs": [
    {
     "data": {
      "text/plain": [
       "[]"
      ]
     },
     "execution_count": 415,
     "metadata": {},
     "output_type": "execute_result"
    }
   ],
   "source": [
    "non_outliers"
   ]
  },
  {
   "cell_type": "code",
   "execution_count": 416,
   "metadata": {},
   "outputs": [],
   "source": [
    "attribute_list_model['right_border'] = attribute_list_model['99%']\n",
    "attribute_list_model['left_border'] = attribute_list_model['1%']"
   ]
  },
  {
   "cell_type": "code",
   "execution_count": 417,
   "metadata": {},
   "outputs": [],
   "source": [
    "attribute_list_model.loc[attribute_list_model['attribute'].isin(non_outliers), 'right_border'] = attribute_list_model['99.99%']"
   ]
  },
  {
   "cell_type": "code",
   "execution_count": 418,
   "metadata": {},
   "outputs": [],
   "source": [
    "attribute_list_model.to_csv(PATH+'Modeling_' + modeling + '/attribute_list_model_bef_pvalue.csv')"
   ]
  },
  {
   "cell_type": "code",
   "execution_count": 419,
   "metadata": {},
   "outputs": [],
   "source": [
    "oot1 = oot[train1.columns].copy()"
   ]
  },
  {
   "cell_type": "code",
   "execution_count": 420,
   "metadata": {},
   "outputs": [],
   "source": [
    "X_1_2, X_2_2, y_1_2, y_2, preproc_before_pvalue = data_preprocessing(train1, \n",
    "                                                                     y_train, \n",
    "                                                                            test, \n",
    "                                                                     y_test, necessary_fields_upper, \n",
    "                                                       categorial_list = list_of_categories_sel,\n",
    "                                                 yeo_johnson = False, attribute_list = attribute_list_model, \n",
    "                                                       var_col = 'attribute',\n",
    "                                                       scale = 'mean', median = 'val_mediana', check_percentile = 5,\n",
    "                                                   high_outlier = 'right_border', low_outlier = 'left_border', \n",
    "                                                       cols_outlier = cols_outliers, \n",
    "                                             cut_non_out_9999 = True)\n",
    "\n",
    "X_3_2 = data_preprocessing_test(oot1, y_oot, necessary_fields_upper, categorial_list = list_of_categories_sel, \n",
    "                                drop_technical = True,\n",
    "                            attribute_list = attribute_list_model, var_col = 'attribute',\n",
    "                        median = 'val_mediana',\n",
    "                      high_outlier = 'right_border', low_outlier = 'left_border', scale = preproc_before_pvalue, \n",
    "                                yeo_johnson = None, cols_outlier = cols_outliers)"
   ]
  },
  {
   "cell_type": "code",
   "execution_count": 421,
   "metadata": {
    "scrolled": true
   },
   "outputs": [
    {
     "data": {
      "text/plain": [
       "(506050, 52)"
      ]
     },
     "execution_count": 421,
     "metadata": {},
     "output_type": "execute_result"
    }
   ],
   "source": [
    "X_1_2.shape"
   ]
  },
  {
   "cell_type": "code",
   "execution_count": 422,
   "metadata": {},
   "outputs": [],
   "source": [
    "params_dict = {'weight_0':'class_weight', 'C': 'C', 'max_iter': 'max_iter'}\n",
    "other_hyps = {'max_iter': 300, 'penalty': 'l2', 'random_state': 241, 'solver': 'liblinear' }\n",
    "pass_model = LogisticRegression"
   ]
  },
  {
   "cell_type": "code",
   "execution_count": 423,
   "metadata": {
    "scrolled": true
   },
   "outputs": [
    {
     "data": {
      "text/plain": [
       "Index(['FINALAPPROVE_FLAG_2D', 'R_CNT_ALL_IL', 'R_CNT_OPEN_IL',\n",
       "       'R_AMT_OPEN_IL', 'R_AMT_CLOS_IL', 'R_DLQ_WSTEV_MIN', 'AGE',\n",
       "       'CNTR_AL_CNT', 'CNTR_MORT_CNT', 'LIMIT_MIN', 'UNUSEDLIMCCMAX',\n",
       "       'DLQ_WRSTARR24', 'OW_WRSTAR13EGP', 'BAD2ALLMNTHS', 'TIME_SINCEL_00',\n",
       "       'TIME_SINCEL_120', 'DLQ_PD_MAX', 'TERMAPRNCCSUM', 'PMTNEXT_MAX',\n",
       "       'DV_IRATE_PMT_AVG', 'OW_PMT_DYN', 'SUMREPAID2LCC', 'CNTROPENCNT_03',\n",
       "       'CNTROPENCC_03', 'MICRO2ALL_12M', 'LIMIT_06_MAX', 'DLQ_CNT',\n",
       "       'AMTOUTSTCC_SUM', 'DLQ_OVDUESHARE', 'OW_MAX_SHARE', 'OW_MIN_SHARE',\n",
       "       'DLQ_PD2AMTOUTS', 'OW_AVLIMCCCURR', 'SHARE_ACTIVE', 'SHARE_ACTIVCC',\n",
       "       'OW_ACTIV2AVCRD', 'DLQ_DEL30A_CNT', 'SUMREPAIDACTIV', 'SINCELSTCLSDCC',\n",
       "       'INQ_CC', 'GENDER_2.0', 'DLQ_WASDELAY_0.0', 'R_DLQ_SUM_30PL_bin',\n",
       "       'LIMITCC_MAX_bin', 'DLQ_WRSTARR25E_bin', 'TIME_SINCEL_90_bin',\n",
       "       'LIMIT_24_MAX_bin', 'OPENLYEARCCSUM_bin', 'SINCELSTCLSDCC_bin',\n",
       "       'BURAPPRRT_L3M_bin', 'AMTSEQACTV_SUM_bin', 'LIMIT01_SUM_bin'],\n",
       "      dtype='object')"
      ]
     },
     "execution_count": 423,
     "metadata": {},
     "output_type": "execute_result"
    }
   ],
   "source": [
    "X_1_2.columns"
   ]
  },
  {
   "cell_type": "code",
   "execution_count": 424,
   "metadata": {
    "scrolled": true
   },
   "outputs": [
    {
     "name": "stdout",
     "output_type": "stream",
     "text": [
      "-------------------------------------------------- By AUC --------------------------------------------------\n",
      "{'class_weight': {0: 0.03471583268454951, 1: 1}, 'C': 0.5, 'max_iter': 300, 'penalty': 'l2', 'random_state': 241, 'solver': 'liblinear'}\n",
      "26.06.2020 09:35:05 start of logit fit\n",
      "26.06.2020 09:35:33 end of logit fit\n"
     ]
    },
    {
     "name": "stderr",
     "output_type": "stream",
     "text": [
      "C:\\Users\\dkotereva\\Filter_and_Grid_Search.py:4558: RuntimeWarning: invalid value encountered in true_divide\n",
      "  f_score = (2*p_f_score*r_f_score)/(p_f_score+r_f_score)\n"
     ]
    },
    {
     "name": "stdout",
     "output_type": "stream",
     "text": [
      "26.06.2020 09:35:33\n",
      "-------------------- Statistics --------------------\n",
      "Brier score =  0.30391276849893717\n",
      "--------------------\n",
      "AUC =  0.7019748780296832\n",
      "AUC train = 0.7065485805725011\n",
      "Gini =  0.40394975605936634\n",
      "Gini train = 0.4130971611450023\n",
      "Stability = 0.9778565288120558\n",
      "Average precision score =  0.0809362861754939\n",
      "---------- Treshold by F_score ----------\n",
      "Accuracy =  0.867955594943794\n",
      "Score F1 =  0.13710488615234556\n",
      "Precision =  0.08795119471276056\n",
      "Recall =  0.31080707573244887\n",
      "Approval rate =  0.11927328700032651\n",
      "-------------------------------------------------- By AUC oot --------------------------------------------------\n",
      "{'class_weight': {0: 0.03471583268454951, 1: 1}, 'C': 0.5, 'max_iter': 300, 'penalty': 'l2', 'random_state': 241, 'solver': 'liblinear'}\n",
      "26.06.2020 09:35:37 start of logit fit\n",
      "26.06.2020 09:36:04 end of logit fit\n"
     ]
    },
    {
     "name": "stderr",
     "output_type": "stream",
     "text": [
      "C:\\Users\\dkotereva\\Filter_and_Grid_Search.py:4558: RuntimeWarning: invalid value encountered in true_divide\n",
      "  f_score = (2*p_f_score*r_f_score)/(p_f_score+r_f_score)\n"
     ]
    },
    {
     "name": "stdout",
     "output_type": "stream",
     "text": [
      "26.06.2020 09:36:04\n",
      "-------------------- Statistics --------------------\n",
      "Brier score =  0.3115010756193213\n",
      "--------------------\n",
      "AUC =  0.6947924901654886\n",
      "AUC train = 0.7065485805725011\n",
      "Gini =  0.3895849803309772\n",
      "Gini train = 0.4130971611450023\n",
      "Stability = 0.9430831701945006\n",
      "Average precision score =  0.07536795249669195\n",
      "---------- Treshold by F_score ----------\n",
      "Accuracy =  0.8506376566577235\n",
      "Score F1 =  0.13384484228473997\n",
      "Precision =  0.08441616632314723\n",
      "Recall =  0.3229345217689407\n",
      "Approval rate =  0.1367072169747755\n"
     ]
    }
   ],
   "source": [
    "print(50*'-', 'By AUC', 50*'-')\n",
    "auc_model_before_pvalue, auc_scores_before_pvalue, auc_test_pred_before_pvalue = train_model_receive_stats(X_1_2, \n",
    "                                                                 y_1_2, X_2_2, y_2, \n",
    "                                                                 meta = i_meta, by_var = 'AUC',\n",
    "                                                                 params_dict =params_dict, \n",
    "                                                                 other_hyperparams = other_hyps, pass_model= pass_model, \n",
    "                                                                 need_business = False, \n",
    "                                                                 simple_b_score = None,\n",
    "                                                                 business_dict = None, printed =True,\n",
    "                                                                 task = 'binary')\n",
    "\n",
    "print(50*'-', 'By AUC oot', 50*'-')\n",
    "auc_model_before_pvalue, auc_scores_oot_before_pvalue, auc_oot_pred_before_pvalue = train_model_receive_stats(X_1_2, y_1_2, \n",
    "                                                                                                              X_3_2, y_oot, \n",
    "                                                                 meta = i_meta, by_var = 'AUC',\n",
    "                                                                 params_dict =params_dict, \n",
    "                                                                 other_hyperparams = other_hyps, pass_model= pass_model, \n",
    "                                                                 need_business = False, \n",
    "                                                                 simple_b_score = None,\n",
    "                                                                 business_dict = None, printed =True,\n",
    "                                                                 task = 'binary')"
   ]
  },
  {
   "cell_type": "code",
   "execution_count": 425,
   "metadata": {},
   "outputs": [],
   "source": [
    "betas_before_pvalue = []\n",
    "\n",
    "for i, v in enumerate(X_1_2.columns):\n",
    "    betas_before_pvalue.append([v, auc_model_before_pvalue.coef_[0][i]])\n",
    "    \n",
    "betas_before_pvalue.append(['Intercept', auc_model_before_pvalue.intercept_[0]])\n",
    "\n",
    "betas_before_pvalue = pd.DataFrame.from_records(betas_before_pvalue, columns = ['Variable', 'Coef'])\n",
    "definition_2 = pd.read_csv(PATH + 'SandBox/csv/definition_2.csv') \n",
    "#definition_2['variable'] = [i.upper() for i in definition_2['variable']]\n",
    "betas1_before_pvalue = pd.merge(betas_before_pvalue, definition_2.rename(columns = {'variable': 'Variable'}), \n",
    "                                how = 'left', on = 'Variable')\n",
    "betas1_before_pvalue['abs_coef'] = abs(betas1_before_pvalue['Coef'])\n",
    "betas1_before_pvalue.sort_values(by = 'abs_coef', ascending = False)\n",
    "betas1_before_pvalue.to_csv(PATH +'Modeling_' + modeling + '/betas3_before_pvalue.csv', sep='&')\n",
    "betas_before_pvalue.to_csv(PATH +'Modeling_' + modeling + '/betas_new3_before_pvalue.csv', sep='&')"
   ]
  },
  {
   "cell_type": "code",
   "execution_count": 426,
   "metadata": {},
   "outputs": [],
   "source": [
    "for_del = ['ScoreF1_b_best', 'Acc_b_best', 'Pre_b_best', 'Rec_b_best', \n",
    "               'Approval_rate_b_best', 'b_best']\n",
    "for i in for_del:\n",
    "    if i in auc_scores_before_pvalue.keys():\n",
    "        auc_scores_before_pvalue.pop(i, None)\n",
    "        \n",
    "scores_before_pvalue = pd.DataFrame(auc_scores_before_pvalue)\n",
    "scores_before_pvalue.to_csv(PATH +'Modeling_' + modeling + '/scores_test_before_pvalue.csv', sep='&')\n",
    "\n",
    "for i in for_del:\n",
    "    if i in auc_scores_oot_before_pvalue.keys():\n",
    "        auc_scores_oot_before_pvalue.pop(i, None)\n",
    "        \n",
    "scores_oot_before_pvalue = pd.DataFrame(auc_scores_oot_before_pvalue)\n",
    "scores_oot_before_pvalue.to_csv(PATH +'Modeling_' + modeling + '/scores_oot_before_pvalue.csv', sep='&')"
   ]
  },
  {
   "cell_type": "code",
   "execution_count": 427,
   "metadata": {},
   "outputs": [
    {
     "data": {
      "text/plain": [
       "['D:/Share/dkotereva/APP_PD_GP/Modeling_forward/preproc_before_pvalue2.dat']"
      ]
     },
     "execution_count": 427,
     "metadata": {},
     "output_type": "execute_result"
    }
   ],
   "source": [
    "joblib.dump(auc_model_before_pvalue, PATH+ 'Modeling_' + modeling + '/auc_model_before_pvalue2.dat')\n",
    "joblib.dump(preproc_before_pvalue, PATH+ 'Modeling_' + modeling + '/preproc_before_pvalue2.dat')"
   ]
  },
  {
   "cell_type": "code",
   "execution_count": 428,
   "metadata": {},
   "outputs": [],
   "source": [
    "from Filter_and_Grid_Search import lr_test_one_simple, lr_test_all_features"
   ]
  },
  {
   "cell_type": "code",
   "execution_count": 429,
   "metadata": {
    "scrolled": true
   },
   "outputs": [
    {
     "name": "stdout",
     "output_type": "stream",
     "text": [
      "Number of finished repetitions: 0 | time:  26.06.2020 09:36:07\n",
      "Number of finished repetitions: 5 | time:  26.06.2020 09:40:35\n",
      "Number of finished repetitions: 10 | time:  26.06.2020 09:45:12\n",
      "Number of finished repetitions: 15 | time:  26.06.2020 09:49:41\n",
      "Number of finished repetitions: 20 | time:  26.06.2020 09:54:18\n",
      "Number of finished repetitions: 25 | time:  26.06.2020 09:58:54\n",
      "Number of finished repetitions: 30 | time:  26.06.2020 10:03:38\n",
      "Number of finished repetitions: 35 | time:  26.06.2020 10:08:22\n",
      "Number of finished repetitions: 40 | time:  26.06.2020 10:13:08\n",
      "Number of finished repetitions: 45 | time:  26.06.2020 10:17:50\n",
      "Number of finished repetitions: 50 | time:  26.06.2020 10:22:29\n"
     ]
    }
   ],
   "source": [
    "p_values2 = lr_test_all_features(auc_model_before_pvalue, LogisticRegression, X_1_2, y_train, \n",
    "                                 class_weight = auc_model_before_pvalue.get_params()['class_weight'],\n",
    "                                 whole_model = True)\n",
    "p_values2.sort_values(by = 'p_value', ascending = False, inplace = True)"
   ]
  },
  {
   "cell_type": "code",
   "execution_count": 430,
   "metadata": {},
   "outputs": [],
   "source": [
    "p_values2.to_csv(PATH + 'Modeling_' + modeling + '/p_values2.csv', sep = '&')"
   ]
  },
  {
   "cell_type": "code",
   "execution_count": 431,
   "metadata": {},
   "outputs": [],
   "source": [
    "p_values2 = pd.read_csv(PATH + 'Modeling_' + modeling + '/p_values2.csv', sep = '&')\n",
    "p_values2.sort_values(by = 'p_value', ascending = False, inplace = True)"
   ]
  },
  {
   "cell_type": "code",
   "execution_count": 432,
   "metadata": {},
   "outputs": [],
   "source": [
    "del_vars = p_values2.loc[p_values2['p_value'] > 0.05, 'Variable'].to_list()\n",
    "if 'Intercept' in del_vars:\n",
    "        del_vars.remove('Intercept')"
   ]
  },
  {
   "cell_type": "code",
   "execution_count": 433,
   "metadata": {},
   "outputs": [
    {
     "data": {
      "text/plain": [
       "5"
      ]
     },
     "execution_count": 433,
     "metadata": {},
     "output_type": "execute_result"
    }
   ],
   "source": [
    "len(del_vars)"
   ]
  },
  {
   "cell_type": "code",
   "execution_count": 434,
   "metadata": {},
   "outputs": [],
   "source": [
    "train2 = train1.drop(del_vars, axis = 1)\n",
    "test2 = test.drop(del_vars, axis = 1)"
   ]
  },
  {
   "cell_type": "code",
   "execution_count": 435,
   "metadata": {},
   "outputs": [
    {
     "name": "stdout",
     "output_type": "stream",
     "text": [
      "[0.99 0.01]\n",
      "Number of finished repetitions: 0 | time:  26.06.2020 10:26:02\n"
     ]
    }
   ],
   "source": [
    "list_of_columns_no_sys2 = list_of_columns_no_sys.copy()\n",
    "\n",
    "for i in list_of_columns_no_sys:\n",
    "    if i not in train2.columns.to_list():\n",
    "        list_of_columns_no_sys2.remove(i)\n",
    "        \n",
    "attribute_list_model = attributes_list_new(train2, list_of_columns_no_sys2, high_outs+low_outs)\n",
    "\n",
    "non_outliers = attribute_list_model.loc[attribute_list_model['99%'] == attribute_list_model['1%'], \n",
    "                                                'attribute'].to_list()\n",
    "cols_outliers = list_of_columns_no_sys2.copy()\n",
    "    \n",
    "for o in non_outliers:\n",
    "    if o in cols_outliers:\n",
    "        cols_outliers.remove(o)"
   ]
  },
  {
   "cell_type": "markdown",
   "metadata": {},
   "source": [
    "### Final train (selection with p-value)"
   ]
  },
  {
   "cell_type": "code",
   "execution_count": 436,
   "metadata": {},
   "outputs": [
    {
     "name": "stdout",
     "output_type": "stream",
     "text": [
      "[0.5]\n",
      "0.03471583268454951\n",
      "[0.03471583]\n"
     ]
    }
   ],
   "source": [
    "C = [0.5]\n",
    "CC  = [1]\n",
    "w = np.multiply(CC, w_b)\n",
    "print(C)\n",
    "print(w_b)\n",
    "print(w)"
   ]
  },
  {
   "cell_type": "code",
   "execution_count": 437,
   "metadata": {},
   "outputs": [
    {
     "data": {
      "text/plain": [
       "1"
      ]
     },
     "execution_count": 437,
     "metadata": {},
     "output_type": "execute_result"
    }
   ],
   "source": [
    "len(C)*len(CC)"
   ]
  },
  {
   "cell_type": "code",
   "execution_count": 438,
   "metadata": {},
   "outputs": [],
   "source": [
    "params_dictionary = {'C': C,\n",
    "                     'weight_0': w,\n",
    "                     'regularization': 'l2', 'random_state': 241, \n",
    "                    'solver': 'liblinear', 'max_iter':  [300]}\n",
    "params_to_model = {'C': 'C', 'weight_0': 'class_weight', 'regularization':'penalty', 'random_state': 'random_state',\n",
    "                  'solver': 'solver', 'max_iter': 'max_iter'}\n",
    "pass_model = LogisticRegression\n",
    "\n",
    "sort_by_var = sort_by_var.upper()\n",
    "list_of_vars_for_strat = ['DATE_REPORT']\n",
    "second_target = None\n",
    "yeo_johnson = False\n",
    "n_fold = 5\n",
    "simple_b_score = simple_b_score_crm\n",
    "business_dictionary = {'m_s': 15900, 'k': 47, 'c': 1}\n",
    "high_outs = [99]\n",
    "low_outs = [1]\n",
    "params_preproc_grid = {'high_outlier': high_outs, 'low_outlier': low_outs}\n",
    "combination_preproc = list(itertools.product(*params_preproc_grid.values()))"
   ]
  },
  {
   "cell_type": "code",
   "execution_count": 439,
   "metadata": {
    "scrolled": true
   },
   "outputs": [
    {
     "name": "stdout",
     "output_type": "stream",
     "text": [
      "-------------------- {'high_outlier': 99, 'low_outlier': 1} [] --------------------\n",
      "{'C': [0.5], 'weight_0': array([0.03471583]), 'regularization': ['l2'], 'random_state': [241], 'solver': ['liblinear'], 'max_iter': [300]}\n",
      "-------------------- 26.06.2020 10:34:46 0 -------------------- \n",
      " Параметры: {'C': 0.5, 'class_weight': {0: 0.03471583268454951, 1: 1}, 'penalty': 'l2', 'random_state': 241, 'solver': 'liblinear', 'max_iter': 300} \n",
      " Среднее значение APS = 0.11738653976611106 \n",
      " Среднее значение AUC = 0.7045073279483376\n"
     ]
    }
   ],
   "source": [
    "new_meta_with_prepr2 = []\n",
    "\n",
    "for combination in combination_preproc:\n",
    "    outputs = list(combination)\n",
    "    dicts = {}\n",
    "    for position in range(len(combination)):\n",
    "        dicts[list(params_preproc_grid.keys())[position]] = combination[position]\n",
    "            \n",
    "    non_outliers = attribute_list_model.loc[attribute_list_model[str(dicts['high_outlier'])+'%'] == attribute_list_model['1%'], \n",
    "                                                'attribute'].to_list()\n",
    "    cols_outliers = list_of_columns_no_sys.copy()\n",
    "    \n",
    "    for o in non_outliers:\n",
    "        if o in cols_outliers:\n",
    "            cols_outliers.remove(o)\n",
    "                \n",
    "    print('-'*20, dicts, non_outliers, '-'*20)\n",
    "    i_meta2 = find_meta_params(train2, y_train, \n",
    "                            params_dictionary, params_to_model, pass_model, \n",
    "                            sort_by_var, list_of_vars_for_strat, n_fold, second_target, yeo_johnson, \n",
    "                            attribute_list = None, var_col = None, categorial_list = list_of_categories_sel,\n",
    "                            cols_outlier = cols_outliers,\n",
    "                            need_business = False, draw = False, draw_by_approval_rate = False,\n",
    "                            simple_b_score = simple_b_score, business_dict = business_dictionary,\n",
    "                            business_dict_sec = None,\n",
    "                            scale = 'mean', median = 'median',\n",
    "                            high_outlier = dicts['high_outlier'], \n",
    "                            low_outlier = dicts['low_outlier'], check_percentile = 1,\n",
    "                            random_state = 241, task = 'binary', k_logs = 10,\n",
    "                            cut_non_out_9999 = True)\n",
    "    i_meta2['high_outlier'] = dicts['high_outlier']\n",
    "    i_meta2['low_outlier'] = dicts['low_outlier']\n",
    "        \n",
    "    new_meta_with_prepr2.append(i_meta2)"
   ]
  },
  {
   "cell_type": "code",
   "execution_count": 440,
   "metadata": {},
   "outputs": [],
   "source": [
    "i_meta2['weight'] = round(i_meta2['weight_0'], 5)"
   ]
  },
  {
   "cell_type": "code",
   "execution_count": 441,
   "metadata": {
    "scrolled": true
   },
   "outputs": [
    {
     "data": {
      "image/png": "[encoded data removed]",
      "text/plain": [
       "<Figure size 72x72 with 2 Axes>"
      ]
     },
     "metadata": {
      "needs_background": "light"
     },
     "output_type": "display_data"
    }
   ],
   "source": [
    "plot_meta_2d(meta = i_meta2, first_dimention = 'C', second_dimention = 'weight', b_best = 'AUC')"
   ]
  },
  {
   "cell_type": "code",
   "execution_count": 442,
   "metadata": {
    "scrolled": true
   },
   "outputs": [
    {
     "data": {
      "image/png": "[encoded data removed]",
      "text/plain": [
       "<Figure size 72x72 with 2 Axes>"
      ]
     },
     "metadata": {
      "needs_background": "light"
     },
     "output_type": "display_data"
    }
   ],
   "source": [
    "plot_meta_2d(meta = i_meta2, first_dimention = 'C', second_dimention = 'weight', b_best = 'APS')"
   ]
  },
  {
   "cell_type": "code",
   "execution_count": 443,
   "metadata": {},
   "outputs": [],
   "source": [
    "i_meta2.to_csv(PATH +'Modeling_' + modeling + '/meta_file_after_pvalue.csv', sep='&')"
   ]
  },
  {
   "cell_type": "code",
   "execution_count": 444,
   "metadata": {},
   "outputs": [],
   "source": [
    "i_meta2 = pd.read_csv(PATH +'Modeling_' + modeling + '/meta_file_after_pvalue.csv', sep='&')"
   ]
  },
  {
   "cell_type": "code",
   "execution_count": 445,
   "metadata": {},
   "outputs": [
    {
     "name": "stdout",
     "output_type": "stream",
     "text": [
      "[0.01   0.98   0.99   0.9999]\n",
      "Number of finished repetitions: 0 | time:  26.06.2020 10:34:51\n"
     ]
    }
   ],
   "source": [
    "train3 = train2.copy()\n",
    "test3 = test2.copy()\n",
    "list_of_columns_no_sys3 = list_of_columns_no_sys.copy()\n",
    "\n",
    "for i in list_of_columns_no_sys:\n",
    "    if i not in train3.columns.to_list():\n",
    "        list_of_columns_no_sys3.remove(i)\n",
    "\n",
    "attribute_list_model = attributes_list_new(train3, list_of_columns_no_sys3, [1, 98, 99, 99.99])\n",
    "\n",
    "non_outliers = attribute_list_model.loc[attribute_list_model['99%'] == attribute_list_model['1%'], \n",
    "                                                'attribute'].to_list()\n",
    "cols_outliers = list_of_columns_no_sys.copy()\n",
    "    \n",
    "for o in non_outliers:\n",
    "    if o in cols_outliers:\n",
    "        cols_outliers.remove(o)\n",
    "        \n",
    "attribute_list_model['right_border'] = attribute_list_model['99%']\n",
    "attribute_list_model['left_border'] = attribute_list_model['1%']\n",
    "attribute_list_model.loc[attribute_list_model['attribute'].isin(non_outliers), \n",
    "                         'right_border'] = attribute_list_model['99.99%']\n",
    "\n",
    "attribute_list_model.to_csv(PATH+'Modeling_' + modeling + '/attribute_list_model_after_pvalue2.csv')"
   ]
  },
  {
   "cell_type": "code",
   "execution_count": 446,
   "metadata": {},
   "outputs": [],
   "source": [
    "oot1 = oot[list(train3.columns)]"
   ]
  },
  {
   "cell_type": "code",
   "execution_count": 447,
   "metadata": {},
   "outputs": [],
   "source": [
    "X_1_22, X_2_22, y_1_2, y_2, preproc2 = data_preprocessing(train3,\n",
    "                                                          y_train, \n",
    "                                                        test3, \n",
    "                                                          y_test, necessary_fields_upper, \n",
    "                                                       categorial_list = list_of_categories_sel,\n",
    "                                                 yeo_johnson = False, attribute_list = attribute_list_model, \n",
    "                                                       var_col = 'attribute',\n",
    "                                                       scale = 'mean', median = 'val_mediana', check_percentile = 5,\n",
    "                                                   high_outlier = 'right_border', low_outlier = 'left_border', \n",
    "                                                       cols_outlier = cols_outliers, \n",
    "                                             cut_non_out_9999 = True)\n",
    "\n",
    "X_3_2 = data_preprocessing_test(oot1, y_oot, necessary_fields_upper, categorial_list = list_of_categories_sel, \n",
    "                                drop_technical = True,\n",
    "                            attribute_list = attribute_list_model, var_col = 'attribute',\n",
    "                        median = 'val_mediana',\n",
    "                      high_outlier = 'right_border', low_outlier = 'left_border', scale = preproc2, \n",
    "                                yeo_johnson = None, cols_outlier = cols_outliers)"
   ]
  },
  {
   "cell_type": "code",
   "execution_count": 448,
   "metadata": {
    "scrolled": true
   },
   "outputs": [
    {
     "data": {
      "text/plain": [
       "(506050, 47)"
      ]
     },
     "execution_count": 448,
     "metadata": {},
     "output_type": "execute_result"
    }
   ],
   "source": [
    "X_1_22.shape"
   ]
  },
  {
   "cell_type": "code",
   "execution_count": 449,
   "metadata": {},
   "outputs": [],
   "source": [
    "params_dict = {'weight_0':'class_weight', 'C': 'C', 'max_iter': 'max_iter'}\n",
    "other_hyps = {'max_iter': 300, 'penalty': 'l2', 'random_state': 241, 'solver': 'liblinear' }\n",
    "pass_model = LogisticRegression"
   ]
  },
  {
   "cell_type": "code",
   "execution_count": 450,
   "metadata": {
    "scrolled": false
   },
   "outputs": [
    {
     "name": "stdout",
     "output_type": "stream",
     "text": [
      "-------------------------------------------------- By AUC test --------------------------------------------------\n",
      "{'class_weight': {0: 0.03471583268454951, 1: 1}, 'C': 0.5, 'max_iter': 300, 'penalty': 'l2', 'random_state': 241, 'solver': 'liblinear'}\n",
      "26.06.2020 10:36:31 start of logit fit\n",
      "26.06.2020 10:37:00 end of logit fit\n"
     ]
    },
    {
     "name": "stderr",
     "output_type": "stream",
     "text": [
      "C:\\Users\\dkotereva\\Filter_and_Grid_Search.py:4558: RuntimeWarning: invalid value encountered in true_divide\n",
      "  f_score = (2*p_f_score*r_f_score)/(p_f_score+r_f_score)\n"
     ]
    },
    {
     "name": "stdout",
     "output_type": "stream",
     "text": [
      "26.06.2020 10:37:01\n",
      "-------------------- Statistics --------------------\n",
      "Brier score =  0.304078560412407\n",
      "--------------------\n",
      "AUC =  0.7016633346772461\n",
      "AUC train = 0.7062751014421533\n",
      "Gini =  0.40332666935449213\n",
      "Gini train = 0.41255020288430666\n",
      "Stability = 0.9776426396949291\n",
      "Average precision score =  0.08082561892416032\n",
      "---------- Treshold by F_score ----------\n",
      "Accuracy =  0.8685246513363496\n",
      "Score F1 =  0.13661285876190768\n",
      "Precision =  0.08775727047341703\n",
      "Recall =  0.3081813156440022\n",
      "Approval rate =  0.11852698353467979\n",
      "-------------------------------------------------- By AUC oot --------------------------------------------------\n",
      "{'class_weight': {0: 0.03471583268454951, 1: 1}, 'C': 0.5, 'max_iter': 300, 'penalty': 'l2', 'random_state': 241, 'solver': 'liblinear'}\n",
      "26.06.2020 10:37:07 start of logit fit\n",
      "26.06.2020 10:37:36 end of logit fit\n"
     ]
    },
    {
     "name": "stderr",
     "output_type": "stream",
     "text": [
      "C:\\Users\\dkotereva\\Filter_and_Grid_Search.py:4558: RuntimeWarning: invalid value encountered in true_divide\n",
      "  f_score = (2*p_f_score*r_f_score)/(p_f_score+r_f_score)\n"
     ]
    },
    {
     "name": "stdout",
     "output_type": "stream",
     "text": [
      "26.06.2020 10:37:36\n",
      "-------------------- Statistics --------------------\n",
      "Brier score =  0.31097097478623187\n",
      "--------------------\n",
      "AUC =  0.6943323013660411\n",
      "AUC train = 0.7062751014421533\n",
      "Gini =  0.38866460273208214\n",
      "Gini train = 0.41255020288430666\n",
      "Stability = 0.9421025611301835\n",
      "Average precision score =  0.07531372998689244\n",
      "---------- Treshold by F_score ----------\n",
      "Accuracy =  0.8522057652492435\n",
      "Score F1 =  0.1338311315336014\n",
      "Precision =  0.08464263009717556\n",
      "Recall =  0.31950634213232776\n",
      "Approval rate =  0.13489409141583056\n"
     ]
    }
   ],
   "source": [
    "print(50*'-', 'By AUC test', 50*'-')\n",
    "auc_model, auc_scores, auc_test_pred = train_model_receive_stats(X_1_22, \n",
    "                                                                 y_1_2, X_2_22, y_2, \n",
    "                                                                 meta = i_meta2, by_var = 'AUC',\n",
    "                                                                 params_dict =params_dict, \n",
    "                                                                 other_hyperparams = other_hyps, pass_model= pass_model, \n",
    "                                                                 need_business = False, \n",
    "                                                                 simple_b_score = None,\n",
    "                                                                 business_dict = None, printed =True,\n",
    "                                                                 task = 'binary')\n",
    "\n",
    "\n",
    "print(50*'-', 'By AUC oot', 50*'-')\n",
    "auc_model, auc_scores_oot, auc_oot_pred = train_model_receive_stats(X_1_22, y_1_2, X_3_2, y_oot, \n",
    "                                                                 meta = i_meta2, by_var = 'AUC',\n",
    "                                                                 params_dict =params_dict, \n",
    "                                                                 other_hyperparams = other_hyps, pass_model= pass_model, \n",
    "                                                                 need_business = False, \n",
    "                                                                 simple_b_score = None,\n",
    "                                                                 business_dict = None, printed =True,\n",
    "                                                                 task = 'binary')"
   ]
  },
  {
   "cell_type": "code",
   "execution_count": 451,
   "metadata": {},
   "outputs": [
    {
     "data": {
      "text/plain": [
       "['D:/Share/dkotereva/APP_PD_GP/Modeling_forward/preproc2.dat']"
      ]
     },
     "execution_count": 451,
     "metadata": {},
     "output_type": "execute_result"
    }
   ],
   "source": [
    "joblib.dump(auc_model, PATH+ 'Modeling_' + modeling + '/auc_model2.dat')\n",
    "joblib.dump(preproc2, PATH+ 'Modeling_' + modeling + '/preproc2.dat')"
   ]
  },
  {
   "cell_type": "code",
   "execution_count": 452,
   "metadata": {},
   "outputs": [],
   "source": [
    "auc_tests = pd.DataFrame(auc_test_pred)\n",
    "auc_tests.rename(columns = {0: 'prediction'}, inplace = True)"
   ]
  },
  {
   "cell_type": "code",
   "execution_count": 453,
   "metadata": {},
   "outputs": [
    {
     "data": {
      "text/plain": [
       "Text(0.5, 1.0, 'Histograms 0 class')"
      ]
     },
     "execution_count": 453,
     "metadata": {},
     "output_type": "execute_result"
    },
    {
     "data": {
      "image/png": "[encoded data removed]",
      "text/plain": [
       "<Figure size 432x288 with 1 Axes>"
      ]
     },
     "metadata": {
      "needs_background": "light"
     },
     "output_type": "display_data"
    }
   ],
   "source": [
    "auc_tests.loc[y_2 == 0, 'prediction'].hist(bins = 500, color = 'green')\n",
    "plt.title('Histograms 0 class')"
   ]
  },
  {
   "cell_type": "code",
   "execution_count": 454,
   "metadata": {
    "scrolled": true
   },
   "outputs": [
    {
     "data": {
      "text/plain": [
       "Text(0.5, 1.0, 'Histograms 1 class')"
      ]
     },
     "execution_count": 454,
     "metadata": {},
     "output_type": "execute_result"
    },
    {
     "data": {
      "image/png": "[encoded data removed]",
      "text/plain": [
       "<Figure size 432x288 with 1 Axes>"
      ]
     },
     "metadata": {
      "needs_background": "light"
     },
     "output_type": "display_data"
    }
   ],
   "source": [
    "auc_tests.loc[y_2 == 1, 'prediction'].hist(bins = 500, color = 'blue')\n",
    "plt.title('Histograms 1 class')"
   ]
  },
  {
   "cell_type": "code",
   "execution_count": 457,
   "metadata": {},
   "outputs": [],
   "source": [
    "betas = []\n",
    "\n",
    "for i, v in enumerate(X_1_22.columns):\n",
    "    betas.append([v, auc_model.coef_[0][i]])\n",
    "    \n",
    "betas.append(['Intercept', auc_model.intercept_[0]])\n",
    "\n",
    "betas = pd.DataFrame.from_records(betas, columns = ['Variable', 'Coef'])\n",
    "definition_2 = pd.read_csv(PATH + 'SandBox/csv/definition_2.csv') \n",
    "#definition_2['variable'] = [i.upper() for i in definition_2['variable']]\n",
    "betas1 = pd.merge(betas, definition_2.rename(columns = {'variable': 'Variable'}), how = 'left', on = 'Variable')\n",
    "betas1['abs_coef'] = abs(betas1['Coef'])\n",
    "betas1.sort_values(by = 'abs_coef', ascending = False)\n",
    "betas1.to_csv(PATH +'Modeling_' + modeling + '/betas3.csv', sep='&')\n",
    "betas.to_csv(PATH +'Modeling_' + modeling + '/betas_new3.csv', sep='&')"
   ]
  },
  {
   "cell_type": "code",
   "execution_count": 458,
   "metadata": {},
   "outputs": [],
   "source": [
    "for_del = ['ScoreF1_b_best', 'Acc_b_best', 'Pre_b_best', 'Rec_b_best', \n",
    "               'Approval_rate_b_best', 'b_best']\n",
    "for i in for_del:\n",
    "    if i in auc_scores.keys():\n",
    "        auc_scores.pop(i, None)\n",
    "        \n",
    "scores = pd.DataFrame(auc_scores)\n",
    "scores.to_csv(PATH +'Modeling_' + modeling + '/scores_test.csv', sep='&')\n",
    "\n",
    "for i in for_del:\n",
    "    if i in auc_scores_oot.keys():\n",
    "        auc_scores_oot.pop(i, None)\n",
    "        \n",
    "scores_oot = pd.DataFrame(auc_scores_oot)\n",
    "scores_oot.to_csv(PATH +'Modeling_' + modeling + '/scores_oot.csv', sep='&')"
   ]
  },
  {
   "cell_type": "code",
   "execution_count": 459,
   "metadata": {},
   "outputs": [],
   "source": [
    "oot2 = oot.join(y_oot)\n",
    "oot2 = oot2.join(pd.Series(auc_oot_pred, name='score'))\n",
    "oot2.to_csv(PATH +'Modeling_' + modeling + '/oot_with_scores.csv', sep='&')"
   ]
  },
  {
   "cell_type": "code",
   "execution_count": 460,
   "metadata": {},
   "outputs": [
    {
     "data": {
      "image/png": "[encoded data removed]",
      "text/plain": [
       "<Figure size 720x720 with 1 Axes>"
      ]
     },
     "metadata": {
      "needs_background": "light"
     },
     "output_type": "display_data"
    }
   ],
   "source": [
    "from sklearn.linear_model import LogisticRegression\n",
    "from sklearn import metrics\n",
    "\n",
    "clf = auc_model\n",
    "\n",
    "y_pred_train = clf.predict_proba(X_1_22)[:,1]\n",
    "#train_loss = log_loss(y_1_r, y_pred_train)\n",
    "y_pred_test = clf.predict_proba(X_2_22)[:,1]\n",
    "y_pred_oot = clf.predict_proba(X_3_2)[:,1]\n",
    "\n",
    "fpr_train, tpr_train, _ = metrics.roc_curve(y_1_2, y_pred_train)\n",
    "fpr_test, tpr_test, _ = metrics.roc_curve(y_2, y_pred_test)\n",
    "fpr_oot, tpr_oot, _ = metrics.roc_curve(y_oot, y_pred_oot)\n",
    "gini_train = 2 * metrics.auc(fpr_train,tpr_train) - 1\n",
    "gini_test = 2 * metrics.auc(fpr_test,tpr_test) - 1\n",
    "gini_oot = 2 * metrics.auc(fpr_oot,tpr_oot) - 1\n",
    "\n",
    "plt.figure(figsize = (10, 10))\n",
    "\n",
    "plt.title('ROC curve')\n",
    "\n",
    "plt.plot(fpr_train, tpr_train, label = 'TRAIN, GINI = %0.4f'%gini_train, color = 'green')\n",
    "plt.plot(fpr_test, tpr_test, label = 'TEST, GINI = %0.4f'%gini_test, color = 'purple')\n",
    "plt.plot(fpr_oot, tpr_oot, label = 'OOT, GINI = %0.4f'%gini_oot, color = 'blue')\n",
    "\n",
    "plt.legend(loc = 'lower right', fontsize=20)\n",
    "plt.plot([0, 1], [0, 1], 'r--')\n",
    "plt.xlim([0, 1])\n",
    "plt.ylim([0, 1])\n",
    "plt.ylabel('Ture Positive Rate')\n",
    "plt.xlabel('False Positive Rate')\n",
    "\n",
    "plt.show()## По месяцам"
   ]
  },
  {
   "cell_type": "markdown",
   "metadata": {},
   "source": [
    "### Lightgbm"
   ]
  },
  {
   "cell_type": "code",
   "execution_count": 466,
   "metadata": {},
   "outputs": [],
   "source": [
    "from sklearn.model_selection import GridSearchCV, RandomizedSearchCV\n",
    "from lightgbm import LGBMClassifier\n",
    "\n",
    "oot_gbm = oot[list(train1.columns)]"
   ]
  },
  {
   "cell_type": "code",
   "execution_count": 467,
   "metadata": {},
   "outputs": [],
   "source": [
    "train_lgbm_data, test_lgbm_data, y_1_2, y_2 = data_preprocessing(train1,\n",
    "                                                          y_train, \n",
    "                                                        test, \n",
    "                                                          y_test, necessary_fields_upper, \n",
    "                                                       categorial_list = list_of_categories_sel,\n",
    "                                                 yeo_johnson = False, attribute_list = None, \n",
    "                                                       var_col = None,\n",
    "                                                       scale = False, median = 'median', check_percentile = 5,\n",
    "                                                   high_outlier = None, low_outlier = None, \n",
    "                                                       cols_outlier = [], \n",
    "                                             cut_non_out_9999 = False)\n",
    "\n",
    "train_lgbm_data, oot_lgbm_data, y_1_2, y_3 = data_preprocessing(train1,\n",
    "                                                          y_train, \n",
    "                                                        oot_gbm, \n",
    "                                                          y_oot, necessary_fields_upper, \n",
    "                                                       categorial_list = list_of_categories_sel,\n",
    "                                                 yeo_johnson = False, attribute_list = None, \n",
    "                                                       var_col = None,\n",
    "                                                       scale = False, median = 'median', check_percentile = 5,\n",
    "                                                   high_outlier = None, low_outlier = None, \n",
    "                                                       cols_outlier = [], \n",
    "                                             cut_non_out_9999 = False)"
   ]
  },
  {
   "cell_type": "code",
   "execution_count": 468,
   "metadata": {},
   "outputs": [],
   "source": [
    "params_lgbm = {\n",
    "    'boosting_type': 'gbdt',\n",
    "    'max_depth': 3,\n",
    "    'num_leaves': 31,\n",
    "    'learning_rate': 0.1,\n",
    "    'feature_fraction': 0.9,\n",
    "    'bagging_fraction': 0.9,\n",
    "    'bagging_freq': 5,\n",
    "    'verbose': 0,\n",
    "    'n_estimators': 100,\n",
    "    'class_weight': {0: w_b, 1: 1},\n",
    "    'random_state': 241, \n",
    "    'n_jobs': 5}"
   ]
  },
  {
   "cell_type": "code",
   "execution_count": 469,
   "metadata": {},
   "outputs": [
    {
     "name": "stdout",
     "output_type": "stream",
     "text": [
      "Starting training... 26.06.2020 10:38:25\n",
      "Ending training... 26.06.2020 10:38:31\n",
      "gini train =  0.46729665332875037 average precision score train =  0.14350813858085118\n",
      "gini test =  0.4301861883564744 average precision score test =  0.08998931611370217\n",
      "gini oot =  0.4184650483562353 average precision score oot =  0.08323903441869226\n"
     ]
    }
   ],
   "source": [
    "lightgbm_class = LGBMClassifier(**params_lgbm)\n",
    "from datetime import datetime\n",
    "print('Starting training...', datetime.strftime(datetime.now(), \"%d.%m.%Y %H:%M:%S\"))\n",
    "# train\n",
    "gbm = lightgbm_class.fit(train_lgbm_data, y_1_2)\n",
    "print('Ending training...', datetime.strftime(datetime.now(), \"%d.%m.%Y %H:%M:%S\"))\n",
    "\n",
    "y_train_pred = gbm.predict_proba(train_lgbm_data)[:, 1]\n",
    "y_test_pred = gbm.predict_proba(test_lgbm_data)[:, 1]\n",
    "y_oot_pred = gbm.predict_proba(oot_lgbm_data)[:, 1]\n",
    "\n",
    "print('gini train = ', roc_auc_score(y_1_2, y_train_pred)*2-1, \n",
    "      'average precision score train = ', average_precision_score(y_train, y_train_pred))\n",
    "\n",
    "print('gini test = ', roc_auc_score(y_2, y_test_pred)*2-1, \n",
    "      'average precision score test = ', average_precision_score(y_test, y_test_pred))\n",
    "\n",
    "print('gini oot = ', roc_auc_score(y_3, y_oot_pred)*2-1, \n",
    "      'average precision score oot = ', average_precision_score(y_oot, y_oot_pred))"
   ]
  },
  {
   "cell_type": "code",
   "execution_count": 470,
   "metadata": {},
   "outputs": [],
   "source": [
    "scores_lightgbm = pd.DataFrame()\n",
    "\n",
    "scores_lightgbm['gini_train'] = [roc_auc_score(y_1_2, y_train_pred)*2-1]\n",
    "scores_lightgbm['gini_test'] = [roc_auc_score(y_2, y_test_pred)*2-1]\n",
    "scores_lightgbm['gini_oot'] = [roc_auc_score(y_3, y_oot_pred)*2-1]\n",
    "scores_lightgbm['APS_train'] = [average_precision_score(y_train, y_train_pred)]\n",
    "scores_lightgbm['APS_test'] = [average_precision_score(y_test, y_test_pred)]\n",
    "scores_lightgbm['APS_oot'] = [average_precision_score(y_oot, y_oot_pred)]"
   ]
  },
  {
   "cell_type": "code",
   "execution_count": 471,
   "metadata": {},
   "outputs": [
    {
     "data": {
      "text/html": [
       "<div>\n",
       "<style scoped>\n",
       "    .dataframe tbody tr th:only-of-type {\n",
       "        vertical-align: middle;\n",
       "    }\n",
       "\n",
       "    .dataframe tbody tr th {\n",
       "        vertical-align: top;\n",
       "    }\n",
       "\n",
       "    .dataframe thead th {\n",
       "        text-align: right;\n",
       "    }\n",
       "</style>\n",
       "<table border=\"1\" class=\"dataframe\">\n",
       "  <thead>\n",
       "    <tr style=\"text-align: right;\">\n",
       "      <th></th>\n",
       "      <th>gini_train</th>\n",
       "      <th>gini_test</th>\n",
       "      <th>gini_oot</th>\n",
       "      <th>APS_train</th>\n",
       "      <th>APS_test</th>\n",
       "      <th>APS_oot</th>\n",
       "    </tr>\n",
       "  </thead>\n",
       "  <tbody>\n",
       "    <tr>\n",
       "      <td>0</td>\n",
       "      <td>0.467297</td>\n",
       "      <td>0.430186</td>\n",
       "      <td>0.418465</td>\n",
       "      <td>0.143508</td>\n",
       "      <td>0.089989</td>\n",
       "      <td>0.083239</td>\n",
       "    </tr>\n",
       "  </tbody>\n",
       "</table>\n",
       "</div>"
      ],
      "text/plain": [
       "   gini_train  gini_test  gini_oot  APS_train  APS_test   APS_oot\n",
       "0    0.467297   0.430186  0.418465   0.143508  0.089989  0.083239"
      ]
     },
     "execution_count": 471,
     "metadata": {},
     "output_type": "execute_result"
    }
   ],
   "source": [
    "scores_lightgbm"
   ]
  },
  {
   "cell_type": "code",
   "execution_count": 472,
   "metadata": {},
   "outputs": [],
   "source": [
    "scores_lightgbm.to_csv(PATH+ 'Modeling_' + modeling + '/scores_lightgbm.csv', sep='&')"
   ]
  },
  {
   "cell_type": "code",
   "execution_count": null,
   "metadata": {},
   "outputs": [],
   "source": []
  },
  {
   "cell_type": "markdown",
   "metadata": {},
   "source": [
    "## 2.2 Forward Scheme "
   ]
  },
  {
   "cell_type": "code",
   "execution_count": 14,
   "metadata": {},
   "outputs": [],
   "source": [
    "all_columns = pd.read_csv(PATH + 'SandBox/csv/selected_features_forest_definition.csv', sep = '&')"
   ]
  },
  {
   "cell_type": "code",
   "execution_count": 15,
   "metadata": {},
   "outputs": [],
   "source": [
    "data1 = pd.read_csv(PATH + 'Data Sets/' +  train_data, sep = '\\t', encoding = 'cp1251')\n",
    "data1.columns = [col.upper() for col in data1.columns]"
   ]
  },
  {
   "cell_type": "code",
   "execution_count": 16,
   "metadata": {},
   "outputs": [],
   "source": [
    "data = turn_variables_with_values(data1, all_columns)"
   ]
  },
  {
   "cell_type": "code",
   "execution_count": 17,
   "metadata": {},
   "outputs": [],
   "source": [
    "columns = data.columns"
   ]
  },
  {
   "cell_type": "code",
   "execution_count": 18,
   "metadata": {},
   "outputs": [],
   "source": [
    "changes = pd.read_csv(PATH + 'SandBox/csv/changes.csv', sep = '\\t')"
   ]
  },
  {
   "cell_type": "code",
   "execution_count": 19,
   "metadata": {},
   "outputs": [],
   "source": [
    "categorial_columns = []\n",
    "for i in columns:\n",
    "    if len(re.findall('_bin', i)) > 0:\n",
    "        categorial_columns.append(i)"
   ]
  },
  {
   "cell_type": "code",
   "execution_count": 20,
   "metadata": {},
   "outputs": [
    {
     "data": {
      "text/plain": [
       "['BAD_90P', 'DATE_REPORT', 'CIF_ID']"
      ]
     },
     "execution_count": 20,
     "metadata": {},
     "output_type": "execute_result"
    }
   ],
   "source": [
    "necessary_fields_upper"
   ]
  },
  {
   "cell_type": "code",
   "execution_count": 21,
   "metadata": {},
   "outputs": [
    {
     "data": {
      "text/plain": [
       "107"
      ]
     },
     "execution_count": 21,
     "metadata": {},
     "output_type": "execute_result"
    }
   ],
   "source": [
    "gc.collect()"
   ]
  },
  {
   "cell_type": "code",
   "execution_count": 22,
   "metadata": {},
   "outputs": [],
   "source": [
    "columns = list(data.columns)"
   ]
  },
  {
   "cell_type": "code",
   "execution_count": 23,
   "metadata": {},
   "outputs": [],
   "source": [
    "file_name = PATH + 'Selection/excel/12. COR_NUM_binned.xlsx'\n",
    "correlation_num1 = pd.read_excel(file_name)\n",
    "file_name = PATH + 'Selection/excel/12. COR_CAT_binned.xlsx'\n",
    "correlation_cat1 = pd.read_excel(file_name)\n",
    "definition_2 = pd.read_csv(PATH + 'SandBox/csv/definition_2.csv')"
   ]
  },
  {
   "cell_type": "code",
   "execution_count": 24,
   "metadata": {
    "scrolled": true
   },
   "outputs": [],
   "source": [
    "correlation_cat1.set_index('Unnamed: 0', inplace = True)\n",
    "correlation_num1.set_index('Unnamed: 0', inplace = True)"
   ]
  },
  {
   "cell_type": "code",
   "execution_count": 25,
   "metadata": {},
   "outputs": [
    {
     "data": {
      "text/html": [
       "<div>\n",
       "<style scoped>\n",
       "    .dataframe tbody tr th:only-of-type {\n",
       "        vertical-align: middle;\n",
       "    }\n",
       "\n",
       "    .dataframe tbody tr th {\n",
       "        vertical-align: top;\n",
       "    }\n",
       "\n",
       "    .dataframe thead th {\n",
       "        text-align: right;\n",
       "    }\n",
       "</style>\n",
       "<table border=\"1\" class=\"dataframe\">\n",
       "  <thead>\n",
       "    <tr style=\"text-align: right;\">\n",
       "      <th></th>\n",
       "      <th>COUNTPREVCONTR_0PL</th>\n",
       "      <th>FINALAPPROVE_FLAG_2D</th>\n",
       "      <th>R_CNT_ALL_IL</th>\n",
       "      <th>R_CNT_OPEN_GP</th>\n",
       "      <th>R_CNT_OPEN_IL</th>\n",
       "      <th>R_CNT_OPEN_CC</th>\n",
       "      <th>R_AMT_OPEN_IL</th>\n",
       "      <th>R_AMT_OPEN_CC</th>\n",
       "      <th>R_AMT_CLOS_IL</th>\n",
       "      <th>R_DLQ_SUM_30PL</th>\n",
       "      <th>...</th>\n",
       "      <th>OW_AV_DEBT_24M</th>\n",
       "      <th>INQ_MORTGAGE</th>\n",
       "      <th>INQ_CC</th>\n",
       "      <th>INQ_MORT_TTL</th>\n",
       "      <th>INQ_CC_TTL</th>\n",
       "      <th>INQ_TTL_LAST7</th>\n",
       "      <th>BURAPPRRT_L3M</th>\n",
       "      <th>AMTSEQACTV_SUM</th>\n",
       "      <th>CNTRACTVNOWN_CNT</th>\n",
       "      <th>LIMIT01_SUM</th>\n",
       "    </tr>\n",
       "    <tr>\n",
       "      <th>Unnamed: 0</th>\n",
       "      <th></th>\n",
       "      <th></th>\n",
       "      <th></th>\n",
       "      <th></th>\n",
       "      <th></th>\n",
       "      <th></th>\n",
       "      <th></th>\n",
       "      <th></th>\n",
       "      <th></th>\n",
       "      <th></th>\n",
       "      <th></th>\n",
       "      <th></th>\n",
       "      <th></th>\n",
       "      <th></th>\n",
       "      <th></th>\n",
       "      <th></th>\n",
       "      <th></th>\n",
       "      <th></th>\n",
       "      <th></th>\n",
       "      <th></th>\n",
       "      <th></th>\n",
       "    </tr>\n",
       "  </thead>\n",
       "  <tbody>\n",
       "    <tr>\n",
       "      <td>COUNTPREVCONTR_0PL</td>\n",
       "      <td>1.000000</td>\n",
       "      <td>0.778406</td>\n",
       "      <td>0.360325</td>\n",
       "      <td>0.458044</td>\n",
       "      <td>0.067920</td>\n",
       "      <td>0.462343</td>\n",
       "      <td>0.037179</td>\n",
       "      <td>0.313585</td>\n",
       "      <td>0.275256</td>\n",
       "      <td>0.084957</td>\n",
       "      <td>...</td>\n",
       "      <td>0.051155</td>\n",
       "      <td>-0.011665</td>\n",
       "      <td>0.074904</td>\n",
       "      <td>-0.009006</td>\n",
       "      <td>0.055388</td>\n",
       "      <td>-0.162621</td>\n",
       "      <td>0.018086</td>\n",
       "      <td>-0.007344</td>\n",
       "      <td>-0.003274</td>\n",
       "      <td>-0.003657</td>\n",
       "    </tr>\n",
       "    <tr>\n",
       "      <td>FINALAPPROVE_FLAG_2D</td>\n",
       "      <td>0.778406</td>\n",
       "      <td>1.000000</td>\n",
       "      <td>0.217642</td>\n",
       "      <td>0.380531</td>\n",
       "      <td>-0.031627</td>\n",
       "      <td>0.361987</td>\n",
       "      <td>0.009760</td>\n",
       "      <td>0.192429</td>\n",
       "      <td>0.204321</td>\n",
       "      <td>0.049007</td>\n",
       "      <td>...</td>\n",
       "      <td>0.072650</td>\n",
       "      <td>0.003302</td>\n",
       "      <td>0.133619</td>\n",
       "      <td>0.002544</td>\n",
       "      <td>0.104152</td>\n",
       "      <td>-0.106973</td>\n",
       "      <td>-0.001123</td>\n",
       "      <td>0.000256</td>\n",
       "      <td>0.047137</td>\n",
       "      <td>0.004767</td>\n",
       "    </tr>\n",
       "    <tr>\n",
       "      <td>R_CNT_ALL_IL</td>\n",
       "      <td>0.360325</td>\n",
       "      <td>0.217642</td>\n",
       "      <td>1.000000</td>\n",
       "      <td>-0.158876</td>\n",
       "      <td>0.342720</td>\n",
       "      <td>-0.066613</td>\n",
       "      <td>0.126854</td>\n",
       "      <td>-0.037425</td>\n",
       "      <td>0.442696</td>\n",
       "      <td>0.088934</td>\n",
       "      <td>...</td>\n",
       "      <td>-0.022112</td>\n",
       "      <td>0.003620</td>\n",
       "      <td>-0.050084</td>\n",
       "      <td>0.003105</td>\n",
       "      <td>-0.037790</td>\n",
       "      <td>0.013831</td>\n",
       "      <td>0.018957</td>\n",
       "      <td>0.010285</td>\n",
       "      <td>-0.013187</td>\n",
       "      <td>-0.001338</td>\n",
       "    </tr>\n",
       "    <tr>\n",
       "      <td>R_CNT_OPEN_GP</td>\n",
       "      <td>0.458044</td>\n",
       "      <td>0.380531</td>\n",
       "      <td>-0.158876</td>\n",
       "      <td>1.000000</td>\n",
       "      <td>-0.165679</td>\n",
       "      <td>0.387127</td>\n",
       "      <td>-0.038811</td>\n",
       "      <td>0.218372</td>\n",
       "      <td>0.043266</td>\n",
       "      <td>-0.003030</td>\n",
       "      <td>...</td>\n",
       "      <td>0.028121</td>\n",
       "      <td>-0.036887</td>\n",
       "      <td>0.030334</td>\n",
       "      <td>-0.031183</td>\n",
       "      <td>0.013625</td>\n",
       "      <td>-0.164297</td>\n",
       "      <td>-0.011375</td>\n",
       "      <td>-0.023719</td>\n",
       "      <td>-0.053885</td>\n",
       "      <td>-0.017816</td>\n",
       "    </tr>\n",
       "    <tr>\n",
       "      <td>R_CNT_OPEN_IL</td>\n",
       "      <td>0.067920</td>\n",
       "      <td>-0.031627</td>\n",
       "      <td>0.342720</td>\n",
       "      <td>-0.165679</td>\n",
       "      <td>1.000000</td>\n",
       "      <td>-0.087653</td>\n",
       "      <td>0.318817</td>\n",
       "      <td>-0.054988</td>\n",
       "      <td>0.005543</td>\n",
       "      <td>-0.019738</td>\n",
       "      <td>...</td>\n",
       "      <td>-0.053000</td>\n",
       "      <td>-0.022284</td>\n",
       "      <td>-0.040107</td>\n",
       "      <td>-0.017054</td>\n",
       "      <td>-0.026936</td>\n",
       "      <td>-0.083356</td>\n",
       "      <td>0.037112</td>\n",
       "      <td>-0.003219</td>\n",
       "      <td>-0.088758</td>\n",
       "      <td>-0.010027</td>\n",
       "    </tr>\n",
       "  </tbody>\n",
       "</table>\n",
       "<p>5 rows × 140 columns</p>\n",
       "</div>"
      ],
      "text/plain": [
       "                      COUNTPREVCONTR_0PL  FINALAPPROVE_FLAG_2D  R_CNT_ALL_IL  \\\n",
       "Unnamed: 0                                                                     \n",
       "COUNTPREVCONTR_0PL              1.000000              0.778406      0.360325   \n",
       "FINALAPPROVE_FLAG_2D            0.778406              1.000000      0.217642   \n",
       "R_CNT_ALL_IL                    0.360325              0.217642      1.000000   \n",
       "R_CNT_OPEN_GP                   0.458044              0.380531     -0.158876   \n",
       "R_CNT_OPEN_IL                   0.067920             -0.031627      0.342720   \n",
       "\n",
       "                      R_CNT_OPEN_GP  R_CNT_OPEN_IL  R_CNT_OPEN_CC  \\\n",
       "Unnamed: 0                                                          \n",
       "COUNTPREVCONTR_0PL         0.458044       0.067920       0.462343   \n",
       "FINALAPPROVE_FLAG_2D       0.380531      -0.031627       0.361987   \n",
       "R_CNT_ALL_IL              -0.158876       0.342720      -0.066613   \n",
       "R_CNT_OPEN_GP              1.000000      -0.165679       0.387127   \n",
       "R_CNT_OPEN_IL             -0.165679       1.000000      -0.087653   \n",
       "\n",
       "                      R_AMT_OPEN_IL  R_AMT_OPEN_CC  R_AMT_CLOS_IL  \\\n",
       "Unnamed: 0                                                          \n",
       "COUNTPREVCONTR_0PL         0.037179       0.313585       0.275256   \n",
       "FINALAPPROVE_FLAG_2D       0.009760       0.192429       0.204321   \n",
       "R_CNT_ALL_IL               0.126854      -0.037425       0.442696   \n",
       "R_CNT_OPEN_GP             -0.038811       0.218372       0.043266   \n",
       "R_CNT_OPEN_IL              0.318817      -0.054988       0.005543   \n",
       "\n",
       "                      R_DLQ_SUM_30PL  ...  OW_AV_DEBT_24M  INQ_MORTGAGE  \\\n",
       "Unnamed: 0                            ...                                 \n",
       "COUNTPREVCONTR_0PL          0.084957  ...        0.051155     -0.011665   \n",
       "FINALAPPROVE_FLAG_2D        0.049007  ...        0.072650      0.003302   \n",
       "R_CNT_ALL_IL                0.088934  ...       -0.022112      0.003620   \n",
       "R_CNT_OPEN_GP              -0.003030  ...        0.028121     -0.036887   \n",
       "R_CNT_OPEN_IL              -0.019738  ...       -0.053000     -0.022284   \n",
       "\n",
       "                        INQ_CC  INQ_MORT_TTL  INQ_CC_TTL  INQ_TTL_LAST7  \\\n",
       "Unnamed: 0                                                                \n",
       "COUNTPREVCONTR_0PL    0.074904     -0.009006    0.055388      -0.162621   \n",
       "FINALAPPROVE_FLAG_2D  0.133619      0.002544    0.104152      -0.106973   \n",
       "R_CNT_ALL_IL         -0.050084      0.003105   -0.037790       0.013831   \n",
       "R_CNT_OPEN_GP         0.030334     -0.031183    0.013625      -0.164297   \n",
       "R_CNT_OPEN_IL        -0.040107     -0.017054   -0.026936      -0.083356   \n",
       "\n",
       "                      BURAPPRRT_L3M  AMTSEQACTV_SUM  CNTRACTVNOWN_CNT  \\\n",
       "Unnamed: 0                                                              \n",
       "COUNTPREVCONTR_0PL         0.018086       -0.007344         -0.003274   \n",
       "FINALAPPROVE_FLAG_2D      -0.001123        0.000256          0.047137   \n",
       "R_CNT_ALL_IL               0.018957        0.010285         -0.013187   \n",
       "R_CNT_OPEN_GP             -0.011375       -0.023719         -0.053885   \n",
       "R_CNT_OPEN_IL              0.037112       -0.003219         -0.088758   \n",
       "\n",
       "                      LIMIT01_SUM  \n",
       "Unnamed: 0                         \n",
       "COUNTPREVCONTR_0PL      -0.003657  \n",
       "FINALAPPROVE_FLAG_2D     0.004767  \n",
       "R_CNT_ALL_IL            -0.001338  \n",
       "R_CNT_OPEN_GP           -0.017816  \n",
       "R_CNT_OPEN_IL           -0.010027  \n",
       "\n",
       "[5 rows x 140 columns]"
      ]
     },
     "execution_count": 25,
     "metadata": {},
     "output_type": "execute_result"
    }
   ],
   "source": [
    "correlation_num1.head()"
   ]
  },
  {
   "cell_type": "code",
   "execution_count": 26,
   "metadata": {},
   "outputs": [
    {
     "name": "stdout",
     "output_type": "stream",
     "text": [
      "Порог = 0.7 Осталось фичей = 25 Коррелир.фичей = 53\n",
      "Порог = 0.7 Осталось фичей = 88 Коррелир.фичей = 52\n"
     ]
    }
   ],
   "source": [
    "result_tab_cat1, non_doubles_cat1, col_doubles_cat1, double_dic_cat1 = find_doubles_corr(data, columns, \n",
    "                                  correlation_cat1, definition = definition_2, lvl = 0.70, light_unstable = None)\n",
    "result_tab_num1, non_doubles_num1, col_doubles_num1, double_dic_num1 = find_doubles_corr(data, columns, \n",
    "                                  correlation_num1, definition = definition_2, lvl = 0.70, light_unstable = None)"
   ]
  },
  {
   "cell_type": "code",
   "execution_count": 27,
   "metadata": {},
   "outputs": [
    {
     "name": "stdout",
     "output_type": "stream",
     "text": [
      "Порог = 0.5 Осталось фичей = 17 Коррелир.фичей = 61\n",
      "Порог = 0.5 Осталось фичей = 52 Коррелир.фичей = 88\n"
     ]
    }
   ],
   "source": [
    "result_tab_cat1, non_doubles_cat1, col_doubles_cat1, double_dic_cat1 = find_doubles_corr(data, columns, \n",
    "                                  correlation_cat1, definition = definition_2, lvl = 0.50, light_unstable = None)\n",
    "result_tab_num1, non_doubles_num1, col_doubles_num1, double_dic_num1 = find_doubles_corr(data, columns, \n",
    "                                  correlation_num1, definition = definition_2, lvl = 0.50, light_unstable = None)"
   ]
  },
  {
   "cell_type": "code",
   "execution_count": 28,
   "metadata": {},
   "outputs": [],
   "source": [
    "non_doubles1 = list(set(non_doubles_cat1 + non_doubles_num1))"
   ]
  },
  {
   "cell_type": "code",
   "execution_count": 29,
   "metadata": {},
   "outputs": [
    {
     "data": {
      "text/plain": [
       "69"
      ]
     },
     "execution_count": 29,
     "metadata": {},
     "output_type": "execute_result"
    }
   ],
   "source": [
    "len(non_doubles1)"
   ]
  },
  {
   "cell_type": "code",
   "execution_count": 30,
   "metadata": {},
   "outputs": [],
   "source": [
    "COL_DEL1 = []\n",
    "\n",
    "for i in data.columns:\n",
    "    if i not in non_doubles1 + necessary_fields_upper:\n",
    "        COL_DEL1.append(i)"
   ]
  },
  {
   "cell_type": "code",
   "execution_count": 31,
   "metadata": {},
   "outputs": [],
   "source": [
    "data.drop(COL_DEL1, axis = 1, inplace = True)"
   ]
  },
  {
   "cell_type": "code",
   "execution_count": 32,
   "metadata": {},
   "outputs": [],
   "source": [
    "for i in necessary_fields_upper:\n",
    "    if i not in list(data.columns):\n",
    "        print(i)"
   ]
  },
  {
   "cell_type": "code",
   "execution_count": 33,
   "metadata": {},
   "outputs": [],
   "source": [
    "data_prepr, scale = data_preprocessing_train(data, COL_TRG, \n",
    "                                technical_values = [COL_SYS+necessary_fields_upper], \n",
    "                                drop_technical = False,\n",
    "                                yeo_johnson = False, \n",
    "                                attribute_list = None, \n",
    "                                var_col = None,\n",
    "                                scale = 'mean', \n",
    "                                median = 'median',\n",
    "                                high_outlier = 99, \n",
    "                                low_outlier = 1, \n",
    "                                cols_outlier = None)\n",
    "\n",
    "data = data_preprocessing_train(data, COL_TRG, \n",
    "                                technical_values = [COL_SYS+necessary_fields_upper], \n",
    "                                drop_technical = False,\n",
    "                                yeo_johnson = False, \n",
    "                                attribute_list = None, \n",
    "                                var_col = None,\n",
    "                                scale = False, \n",
    "                                median = 'median',\n",
    "                                high_outlier = None, \n",
    "                                low_outlier = None, \n",
    "                                cols_outlier = None)\n"
   ]
  },
  {
   "cell_type": "code",
   "execution_count": null,
   "metadata": {},
   "outputs": [],
   "source": []
  },
  {
   "cell_type": "code",
   "execution_count": 34,
   "metadata": {},
   "outputs": [],
   "source": [
    "if 'Unnamed: 0' in data_prepr.columns.to_list():\n",
    "    data_prepr.drop('Unnamed: 0', axis = 1, inplace = True)\n",
    "    \n",
    "if 'Unnamed: 0.1' in data_prepr.columns.to_list():\n",
    "    data_prepr.drop('Unnamed: 0.1', axis = 1, inplace = True)"
   ]
  },
  {
   "cell_type": "code",
   "execution_count": 35,
   "metadata": {},
   "outputs": [
    {
     "data": {
      "text/html": [
       "<div>\n",
       "<style scoped>\n",
       "    .dataframe tbody tr th:only-of-type {\n",
       "        vertical-align: middle;\n",
       "    }\n",
       "\n",
       "    .dataframe tbody tr th {\n",
       "        vertical-align: top;\n",
       "    }\n",
       "\n",
       "    .dataframe thead th {\n",
       "        text-align: right;\n",
       "    }\n",
       "</style>\n",
       "<table border=\"1\" class=\"dataframe\">\n",
       "  <thead>\n",
       "    <tr style=\"text-align: right;\">\n",
       "      <th></th>\n",
       "      <th>CIF_ID</th>\n",
       "      <th>FINALAPPROVE_FLAG_2D</th>\n",
       "      <th>R_CNT_ALL_IL</th>\n",
       "      <th>R_CNT_OPEN_GP</th>\n",
       "      <th>R_CNT_OPEN_IL</th>\n",
       "      <th>R_CNT_OPEN_CC</th>\n",
       "      <th>R_AMT_OPEN_IL</th>\n",
       "      <th>R_AMT_CLOS_IL</th>\n",
       "      <th>R_DLQ_SUM_30PL</th>\n",
       "      <th>R_DLQ_WSTEV_MIN</th>\n",
       "      <th>...</th>\n",
       "      <th>TIME_SINCEL_90_bin</th>\n",
       "      <th>MICRO2ALL_03M_bin</th>\n",
       "      <th>LIMIT_24_MAX_bin</th>\n",
       "      <th>OPENLYEARCCSUM_bin</th>\n",
       "      <th>SINCELSTCLSDCC_bin</th>\n",
       "      <th>CLOSED24_SUM_bin</th>\n",
       "      <th>BURAPPRRT_L3M_bin</th>\n",
       "      <th>AMTSEQACTV_SUM_bin</th>\n",
       "      <th>LIMIT01_SUM_bin</th>\n",
       "      <th>BAD_90P</th>\n",
       "    </tr>\n",
       "  </thead>\n",
       "  <tbody>\n",
       "    <tr>\n",
       "      <td>0</td>\n",
       "      <td>-0.023096</td>\n",
       "      <td>0.605588</td>\n",
       "      <td>0.024223</td>\n",
       "      <td>-0.562779</td>\n",
       "      <td>-0.466264</td>\n",
       "      <td>0.808351</td>\n",
       "      <td>-0.116134</td>\n",
       "      <td>-0.879727</td>\n",
       "      <td>-0.161159</td>\n",
       "      <td>-0.191623</td>\n",
       "      <td>...</td>\n",
       "      <td>0.0</td>\n",
       "      <td>0.0</td>\n",
       "      <td>1.0</td>\n",
       "      <td>1.0</td>\n",
       "      <td>0.0</td>\n",
       "      <td>1.0</td>\n",
       "      <td>0.0</td>\n",
       "      <td>0.0</td>\n",
       "      <td>0.0</td>\n",
       "      <td>1</td>\n",
       "    </tr>\n",
       "    <tr>\n",
       "      <td>1</td>\n",
       "      <td>-0.385205</td>\n",
       "      <td>-0.424260</td>\n",
       "      <td>-1.341847</td>\n",
       "      <td>-0.562779</td>\n",
       "      <td>-0.466264</td>\n",
       "      <td>-0.493136</td>\n",
       "      <td>-0.116134</td>\n",
       "      <td>-0.187447</td>\n",
       "      <td>-0.161159</td>\n",
       "      <td>0.088510</td>\n",
       "      <td>...</td>\n",
       "      <td>1.0</td>\n",
       "      <td>0.0</td>\n",
       "      <td>1.0</td>\n",
       "      <td>0.0</td>\n",
       "      <td>0.0</td>\n",
       "      <td>1.0</td>\n",
       "      <td>0.0</td>\n",
       "      <td>0.0</td>\n",
       "      <td>0.0</td>\n",
       "      <td>0</td>\n",
       "    </tr>\n",
       "    <tr>\n",
       "      <td>2</td>\n",
       "      <td>0.519601</td>\n",
       "      <td>-1.110826</td>\n",
       "      <td>0.024223</td>\n",
       "      <td>-0.562779</td>\n",
       "      <td>-0.466264</td>\n",
       "      <td>-0.493136</td>\n",
       "      <td>-0.116134</td>\n",
       "      <td>-0.187447</td>\n",
       "      <td>-0.161159</td>\n",
       "      <td>-0.191623</td>\n",
       "      <td>...</td>\n",
       "      <td>0.0</td>\n",
       "      <td>0.0</td>\n",
       "      <td>1.0</td>\n",
       "      <td>0.0</td>\n",
       "      <td>0.0</td>\n",
       "      <td>1.0</td>\n",
       "      <td>0.0</td>\n",
       "      <td>0.0</td>\n",
       "      <td>0.0</td>\n",
       "      <td>0</td>\n",
       "    </tr>\n",
       "    <tr>\n",
       "      <td>3</td>\n",
       "      <td>0.109674</td>\n",
       "      <td>0.262305</td>\n",
       "      <td>1.390294</td>\n",
       "      <td>-0.562779</td>\n",
       "      <td>-0.466264</td>\n",
       "      <td>-0.493136</td>\n",
       "      <td>-0.116134</td>\n",
       "      <td>-0.257195</td>\n",
       "      <td>-0.161159</td>\n",
       "      <td>-0.191623</td>\n",
       "      <td>...</td>\n",
       "      <td>0.0</td>\n",
       "      <td>0.0</td>\n",
       "      <td>1.0</td>\n",
       "      <td>1.0</td>\n",
       "      <td>0.0</td>\n",
       "      <td>1.0</td>\n",
       "      <td>1.0</td>\n",
       "      <td>0.0</td>\n",
       "      <td>0.0</td>\n",
       "      <td>1</td>\n",
       "    </tr>\n",
       "    <tr>\n",
       "      <td>4</td>\n",
       "      <td>0.392982</td>\n",
       "      <td>-0.424260</td>\n",
       "      <td>0.024223</td>\n",
       "      <td>-0.562779</td>\n",
       "      <td>1.864696</td>\n",
       "      <td>-0.493136</td>\n",
       "      <td>-0.110919</td>\n",
       "      <td>-0.187447</td>\n",
       "      <td>-0.161159</td>\n",
       "      <td>-0.191623</td>\n",
       "      <td>...</td>\n",
       "      <td>0.0</td>\n",
       "      <td>0.0</td>\n",
       "      <td>1.0</td>\n",
       "      <td>1.0</td>\n",
       "      <td>0.0</td>\n",
       "      <td>0.0</td>\n",
       "      <td>1.0</td>\n",
       "      <td>0.0</td>\n",
       "      <td>0.0</td>\n",
       "      <td>0</td>\n",
       "    </tr>\n",
       "  </tbody>\n",
       "</table>\n",
       "<p>5 rows × 72 columns</p>\n",
       "</div>"
      ],
      "text/plain": [
       "     CIF_ID  FINALAPPROVE_FLAG_2D  R_CNT_ALL_IL  R_CNT_OPEN_GP  R_CNT_OPEN_IL  \\\n",
       "0 -0.023096              0.605588      0.024223      -0.562779      -0.466264   \n",
       "1 -0.385205             -0.424260     -1.341847      -0.562779      -0.466264   \n",
       "2  0.519601             -1.110826      0.024223      -0.562779      -0.466264   \n",
       "3  0.109674              0.262305      1.390294      -0.562779      -0.466264   \n",
       "4  0.392982             -0.424260      0.024223      -0.562779       1.864696   \n",
       "\n",
       "   R_CNT_OPEN_CC  R_AMT_OPEN_IL  R_AMT_CLOS_IL  R_DLQ_SUM_30PL  \\\n",
       "0       0.808351      -0.116134      -0.879727       -0.161159   \n",
       "1      -0.493136      -0.116134      -0.187447       -0.161159   \n",
       "2      -0.493136      -0.116134      -0.187447       -0.161159   \n",
       "3      -0.493136      -0.116134      -0.257195       -0.161159   \n",
       "4      -0.493136      -0.110919      -0.187447       -0.161159   \n",
       "\n",
       "   R_DLQ_WSTEV_MIN  ...  TIME_SINCEL_90_bin  MICRO2ALL_03M_bin  \\\n",
       "0        -0.191623  ...                 0.0                0.0   \n",
       "1         0.088510  ...                 1.0                0.0   \n",
       "2        -0.191623  ...                 0.0                0.0   \n",
       "3        -0.191623  ...                 0.0                0.0   \n",
       "4        -0.191623  ...                 0.0                0.0   \n",
       "\n",
       "   LIMIT_24_MAX_bin  OPENLYEARCCSUM_bin  SINCELSTCLSDCC_bin  CLOSED24_SUM_bin  \\\n",
       "0               1.0                 1.0                 0.0               1.0   \n",
       "1               1.0                 0.0                 0.0               1.0   \n",
       "2               1.0                 0.0                 0.0               1.0   \n",
       "3               1.0                 1.0                 0.0               1.0   \n",
       "4               1.0                 1.0                 0.0               0.0   \n",
       "\n",
       "   BURAPPRRT_L3M_bin  AMTSEQACTV_SUM_bin  LIMIT01_SUM_bin  BAD_90P  \n",
       "0                0.0                 0.0              0.0        1  \n",
       "1                0.0                 0.0              0.0        0  \n",
       "2                0.0                 0.0              0.0        0  \n",
       "3                1.0                 0.0              0.0        1  \n",
       "4                1.0                 0.0              0.0        0  \n",
       "\n",
       "[5 rows x 72 columns]"
      ]
     },
     "execution_count": 35,
     "metadata": {},
     "output_type": "execute_result"
    }
   ],
   "source": [
    "data_prepr.head()"
   ]
  },
  {
   "cell_type": "code",
   "execution_count": 36,
   "metadata": {},
   "outputs": [],
   "source": [
    "target = target.upper()"
   ]
  },
  {
   "cell_type": "code",
   "execution_count": 37,
   "metadata": {},
   "outputs": [],
   "source": [
    "X_1_2, X_2_2, y_1, y_2 = stratified_split(data_prepr, target, list_of_vars_for_strat_upper, sort_by_var_upper, \n",
    "                                      size_of_test = 0.5, drop_technical = True, random_state = 241)"
   ]
  },
  {
   "cell_type": "code",
   "execution_count": 38,
   "metadata": {},
   "outputs": [
    {
     "data": {
      "text/plain": [
       "((248771, 69), (248771, 69))"
      ]
     },
     "execution_count": 38,
     "metadata": {},
     "output_type": "execute_result"
    }
   ],
   "source": [
    "X_1_2.shape, X_1_2.dropna().shape"
   ]
  },
  {
   "cell_type": "code",
   "execution_count": 39,
   "metadata": {},
   "outputs": [],
   "source": [
    "once_rows = sum(data[target])\n",
    "second_rows = (len(data[target]) - sum(data[target]))\n",
    "y_unique = sorted(data[target].unique())\n",
    "all_rows = len(data[target])\n",
    "\n",
    "once_rows_share = once_rows/all_rows\n",
    "second_rows_share = second_rows/all_rows\n",
    "second_rows_share/once_rows_share\n",
    "\n",
    "if once_rows < second_rows:\n",
    "    w_b = once_rows/second_rows\n",
    "else:\n",
    "    w_b = second_rows/once_rows"
   ]
  },
  {
   "cell_type": "code",
   "execution_count": 40,
   "metadata": {},
   "outputs": [
    {
     "data": {
      "text/plain": [
       "(0.0335510790382708, 0.9664489209617292)"
      ]
     },
     "execution_count": 40,
     "metadata": {},
     "output_type": "execute_result"
    }
   ],
   "source": [
    "once_rows_share, second_rows_share"
   ]
  },
  {
   "cell_type": "code",
   "execution_count": 41,
   "metadata": {},
   "outputs": [
    {
     "data": {
      "text/plain": [
       "0.03471583268454951"
      ]
     },
     "execution_count": 41,
     "metadata": {},
     "output_type": "execute_result"
    }
   ],
   "source": [
    "w_b"
   ]
  },
  {
   "cell_type": "code",
   "execution_count": 42,
   "metadata": {},
   "outputs": [
    {
     "name": "stdout",
     "output_type": "stream",
     "text": [
      "------------------------------ LogisticRegression ------------------------------\n",
      "-------------------- First sample --------------------\n",
      "-------------------- time:  13.07.2020 19:06:09 --------------------\n",
      "-------------------- Second sample --------------------\n",
      "-------------------- time:  13.07.2020 19:06:32 --------------------\n",
      "------------------------------ DecisionTreeClassifier ------------------------------\n",
      "-------------------- First sample --------------------\n",
      "-------------------- time:  13.07.2020 19:06:52 --------------------\n",
      "-------------------- Second sample --------------------\n",
      "-------------------- time:  13.07.2020 19:07:09 --------------------\n"
     ]
    }
   ],
   "source": [
    "print(30*'-', 'LogisticRegression', 30*'-')\n",
    "\n",
    "logit_params = {'class_weight': {0: 2*w_b, 1:1}}\n",
    "print(20*'-', 'First sample', 20*'-')\n",
    "\n",
    "tm = datetime.strftime(datetime.now(), \"%d.%m.%Y %H:%M:%S\")\n",
    "print (20*'-', 'time: ' , tm, 20*'-')\n",
    "\n",
    "first_logit_res = calculate_metrics_for_several_vars(X_1_2, y_1, X_2_2, y_2, list(X_1_2.columns), \n",
    "                                                     LogisticRegression, logit_params,\n",
    "                                                     use_metrics = [metrics.roc_auc_score,\n",
    "                                                                   metrics.average_precision_score],\n",
    "                                                    names = ['roc_auc_score', 'average_precision_score'], \n",
    "                                                    task = 'binary', \n",
    "                                                     integral_metrics = [metrics.roc_auc_score,\n",
    "                                                                         metrics.average_precision_score],\n",
    "                                                    n_jobs = 3)\n",
    "\n",
    "print(20*'-', 'Second sample', 20*'-')\n",
    "\n",
    "tm = datetime.strftime(datetime.now(), \"%d.%m.%Y %H:%M:%S\")\n",
    "print (20*'-', 'time: ' , tm, 20*'-')\n",
    "\n",
    "sec_logit_res = calculate_metrics_for_several_vars(X_2_2, y_2, X_1_2, y_1, list(X_2_2.columns), \n",
    "                                                     LogisticRegression, logit_params,\n",
    "                                                     use_metrics = [metrics.roc_auc_score,\n",
    "                                                                   metrics.average_precision_score],\n",
    "                                                    names = ['roc_auc_score', 'average_precision_score'], \n",
    "                                                    task = 'binary', \n",
    "                                                     integral_metrics = [metrics.roc_auc_score,\n",
    "                                                                         metrics.average_precision_score],\n",
    "                                                    n_jobs = 3)\n",
    "\n",
    "print(30*'-', 'DecisionTreeClassifier', 30*'-')\n",
    "\n",
    "tree_params = {'class_weight': {0: 2*w_b, 1:1}, 'max_depth': 4}\n",
    "\n",
    "print(20*'-', 'First sample', 20*'-')\n",
    "tm = datetime.strftime(datetime.now(), \"%d.%m.%Y %H:%M:%S\")\n",
    "print (20*'-', 'time: ' , tm, 20*'-')\n",
    "\n",
    "first_tree_res = calculate_metrics_for_several_vars(X_1_2, y_1, X_2_2, y_2, list(X_1_2.columns), \n",
    "                                                     DecisionTreeClassifier, tree_params,\n",
    "                                                     use_metrics = [metrics.roc_auc_score,\n",
    "                                                                   metrics.average_precision_score],\n",
    "                                                    names = ['roc_auc_score', 'average_precision_score'], \n",
    "                                                    task = 'binary', \n",
    "                                                     integral_metrics = [metrics.roc_auc_score,\n",
    "                                                                         metrics.average_precision_score],\n",
    "                                                    n_jobs = 3)\n",
    "\n",
    "\n",
    "print(20*'-', 'Second sample', 20*'-')\n",
    "tm = datetime.strftime(datetime.now(), \"%d.%m.%Y %H:%M:%S\")\n",
    "print (20*'-', 'time: ' , tm, 20*'-')\n",
    "\n",
    "sec_tree_res = calculate_metrics_for_several_vars(X_2_2, y_2, X_1_2, y_1, list(X_2_2.columns), \n",
    "                                                     DecisionTreeClassifier, tree_params,\n",
    "                                                     use_metrics = [metrics.roc_auc_score,\n",
    "                                                                   metrics.average_precision_score],\n",
    "                                                    names = ['roc_auc_score', 'average_precision_score'], \n",
    "                                                    task = 'binary', \n",
    "                                                     integral_metrics = [metrics.roc_auc_score,\n",
    "                                                                         metrics.average_precision_score],\n",
    "                                                    n_jobs = 3)"
   ]
  },
  {
   "cell_type": "code",
   "execution_count": 43,
   "metadata": {},
   "outputs": [],
   "source": [
    "first_logit_res1 = first_logit_res.pivot(index='Feature',columns='metric')['score']\n",
    "sec_logit_res1 = sec_tree_res.pivot(index='Feature',columns='metric')['score']\n",
    "first_logit_res1.reset_index(inplace = True)\n",
    "sec_logit_res1.reset_index(inplace = True)\n",
    "\n",
    "first_tree_res1 = first_tree_res.pivot(index='Feature',columns='metric')['score']\n",
    "sec_tree_res1 = sec_tree_res.pivot(index='Feature',columns='metric')['score']\n",
    "first_tree_res1.reset_index(inplace = True)\n",
    "sec_tree_res1.reset_index(inplace = True)"
   ]
  },
  {
   "cell_type": "code",
   "execution_count": 44,
   "metadata": {},
   "outputs": [],
   "source": [
    "logit_all = pd.merge(first_logit_res1, sec_logit_res1, on = 'Feature', suffixes=('_1', '_2'))\n",
    "tree_all = pd.merge(first_tree_res1, sec_tree_res1, on = 'Feature', suffixes=('_1', '_2'))"
   ]
  },
  {
   "cell_type": "code",
   "execution_count": 45,
   "metadata": {},
   "outputs": [],
   "source": [
    "tree_all = pd.merge(first_tree_res1, sec_tree_res1, on = 'Feature', suffixes=('_1', '_2'))"
   ]
  },
  {
   "cell_type": "code",
   "execution_count": 46,
   "metadata": {},
   "outputs": [],
   "source": [
    "metr = ['Gini_score', 'average_precision_score']\n",
    "for i in metr:\n",
    "    logit_all[i] = (logit_all[i+'_1']+logit_all[i+'_2'])/2\n",
    "    tree_all[i] = (tree_all[i+'_1']+tree_all[i+'_2'])/2"
   ]
  },
  {
   "cell_type": "code",
   "execution_count": 47,
   "metadata": {},
   "outputs": [],
   "source": [
    "logit_all.sort_values(by = 'Gini_score', \n",
    "                                    ascending = False, inplace = True)"
   ]
  },
  {
   "cell_type": "code",
   "execution_count": 48,
   "metadata": {},
   "outputs": [],
   "source": [
    "one_factor = logit_all['Feature'].to_list()"
   ]
  },
  {
   "cell_type": "code",
   "execution_count": 49,
   "metadata": {},
   "outputs": [
    {
     "data": {
      "text/plain": [
       "69"
      ]
     },
     "execution_count": 49,
     "metadata": {},
     "output_type": "execute_result"
    }
   ],
   "source": [
    "len(one_factor)"
   ]
  },
  {
   "cell_type": "code",
   "execution_count": null,
   "metadata": {},
   "outputs": [],
   "source": []
  },
  {
   "cell_type": "code",
   "execution_count": 50,
   "metadata": {},
   "outputs": [],
   "source": [
    "vif_del = []"
   ]
  },
  {
   "cell_type": "code",
   "execution_count": null,
   "metadata": {},
   "outputs": [
    {
     "name": "stdout",
     "output_type": "stream",
     "text": [
      "13.07.2020 19:07:29 0 FINALAPPROVE_FLAG_2D\n",
      "13.07.2020 19:46:02 10 DLQ_WRSTARR24\n"
     ]
    }
   ],
   "source": [
    "vif = calculate_vif(data_prepr[one_factor])\n",
    "vif.sort_values(by = 'VIF', ascending = False, inplace = True)"
   ]
  },
  {
   "cell_type": "code",
   "execution_count": null,
   "metadata": {
    "scrolled": true
   },
   "outputs": [],
   "source": [
    "vif.head()"
   ]
  },
  {
   "cell_type": "code",
   "execution_count": null,
   "metadata": {},
   "outputs": [],
   "source": [
    "vif = vif.sort_values(by = 'VIF', ascending = False).reset_index()\n",
    "while vif['VIF'][0] > 10:\n",
    "    print(vif.head(5))\n",
    "    c = vif.Features[0]\n",
    "    vif_del.append(c)\n",
    "    print('Delete ', c)\n",
    "    vif = calculate_vif(data_prepr[[c for c in one_factor if c not in vif_del]])\n",
    "    vif = vif.sort_values(by = 'VIF', ascending = False).reset_index()"
   ]
  },
  {
   "cell_type": "code",
   "execution_count": null,
   "metadata": {
    "scrolled": true
   },
   "outputs": [],
   "source": [
    "vif.head()"
   ]
  },
  {
   "cell_type": "code",
   "execution_count": null,
   "metadata": {
    "scrolled": true
   },
   "outputs": [],
   "source": [
    "len(vif_del)"
   ]
  },
  {
   "cell_type": "code",
   "execution_count": null,
   "metadata": {},
   "outputs": [],
   "source": [
    "new_features_list = []\n",
    "cols = ['new variable', 'genuine variable', 'rule', 'values']\n",
    "\n",
    "for i in one_factor:\n",
    "    if i in list(changes['new variable']):\n",
    "        change = changes[changes['new variable'] == i]\n",
    "        new_features_list.append([list(change['new variable'])[0], list(change['genuine variable'])[0], \n",
    "                                  list(change['rule'])[0], list(change['values'])[0]])\n",
    "    else:\n",
    "        new_features_list.append([i, i, 'Missing', np.nan])\n",
    "        \n",
    "for i in necessary_fields_upper:\n",
    "    new_features_list.append([i, i, 'Missing', np.nan])\n",
    "    \n",
    "new_features_data = pd.DataFrame.from_records(new_features_list, columns = cols)\n",
    "new_features_data_no_vif = new_features_data[~new_features_data['new variable'].isin(vif_del)]\n",
    "new_features_data_no_vif_no_sys = new_features_data_no_vif[~new_features_data_no_vif['new variable'].isin(necessary_fields_upper)]"
   ]
  },
  {
   "cell_type": "code",
   "execution_count": null,
   "metadata": {},
   "outputs": [],
   "source": [
    "new_features_data.shape, new_features_data_no_vif.shape"
   ]
  },
  {
   "cell_type": "code",
   "execution_count": null,
   "metadata": {},
   "outputs": [],
   "source": [
    "new_features_data.to_csv(PATH + 'SandBox/csv/selected_features_one_factor.csv', sep = '&')\n",
    "new_features_data_no_vif.to_csv(PATH + 'SandBox/csv/selected_features_one_factor_vif.csv', sep = '&')\n",
    "new_features_data_no_vif_no_sys.to_csv(PATH + 'SandBox/csv/selected_features_one_factor_vif_no_sys.csv', sep = '&')"
   ]
  },
  {
   "cell_type": "code",
   "execution_count": null,
   "metadata": {},
   "outputs": [],
   "source": [
    "#new_features_data = pd.read_csv(PATH + 'SandBox/csv/selected_features_one_factor.csv', sep = '&')\n",
    "#new_features_data_no_vif= pd.read_csv(PATH + 'SandBox/csv/selected_features_one_factor_vif.csv', sep = '&')\n",
    "#new_features_data_no_vif_no_sys= pd.read_csv(PATH + 'SandBox/csv/selected_features_one_factor_vif_no_sys.csv', sep = '&')"
   ]
  },
  {
   "cell_type": "code",
   "execution_count": null,
   "metadata": {},
   "outputs": [],
   "source": [
    "modeling = 'one_factor'"
   ]
  },
  {
   "cell_type": "code",
   "execution_count": null,
   "metadata": {},
   "outputs": [],
   "source": [
    "#selected_features = pd.read_csv(PATH + 'SandBox/csv/selected_features_forest_vif.csv', sep = '&')\n",
    "selected_features = new_features_data_no_vif\n",
    "sel_c = selected_features['genuine variable'].to_list()"
   ]
  },
  {
   "cell_type": "code",
   "execution_count": null,
   "metadata": {},
   "outputs": [],
   "source": [
    "gc.collect()"
   ]
  },
  {
   "cell_type": "code",
   "execution_count": null,
   "metadata": {},
   "outputs": [],
   "source": [
    "train = pd.read_csv(PATH + 'Data Sets/' +  train_data, sep = '\\t', encoding = 'cp1251')\n",
    "train.columns = [col.upper() for col in train.columns]\n",
    "\n",
    "test = pd.read_csv(PATH + 'Data Sets/' +  test_data, sep = '\\t', encoding = 'cp1251')\n",
    "test.columns = [col.upper() for col in test.columns]\n",
    "\n",
    "oot = pd.read_csv(PATH + 'Data Sets/' +  oot_data, sep = '\\t', encoding = 'cp1251')\n",
    "oot.columns = [col.upper() for col in oot.columns]"
   ]
  },
  {
   "cell_type": "code",
   "execution_count": null,
   "metadata": {},
   "outputs": [],
   "source": [
    "train = turn_variables_with_values(train, selected_features)\n",
    "test = turn_variables_with_values(test, selected_features)\n",
    "oot = turn_variables_with_values(oot, selected_features)"
   ]
  },
  {
   "cell_type": "code",
   "execution_count": null,
   "metadata": {},
   "outputs": [],
   "source": [
    "target = target.upper()"
   ]
  },
  {
   "cell_type": "code",
   "execution_count": null,
   "metadata": {},
   "outputs": [],
   "source": [
    "y_train = train[target]\n",
    "y_test = test[target]\n",
    "y_oot = oot[target]\n",
    "\n",
    "train.drop(target, axis = 1, inplace = True)\n",
    "test.drop(target, axis = 1, inplace = True)\n",
    "oot.drop(target, axis = 1, inplace = True)"
   ]
  },
  {
   "cell_type": "code",
   "execution_count": null,
   "metadata": {},
   "outputs": [],
   "source": [
    "train.head()"
   ]
  },
  {
   "cell_type": "code",
   "execution_count": null,
   "metadata": {},
   "outputs": [],
   "source": [
    "list_of_columns = selected_features['new variable'].to_list()\n",
    "list_of_columns_no_sys = list_of_columns.copy()\n",
    "for i in necessary_fields_upper:\n",
    "    if i in list_of_columns_no_sys:\n",
    "        list_of_columns_no_sys.remove(i)"
   ]
  },
  {
   "cell_type": "code",
   "execution_count": null,
   "metadata": {},
   "outputs": [],
   "source": [
    "len(list_of_columns_no_sys)"
   ]
  },
  {
   "cell_type": "code",
   "execution_count": null,
   "metadata": {
    "scrolled": true
   },
   "outputs": [],
   "source": [
    "attribute_list_model = attributes_list_new(train, list_of_columns_no_sys, [0.01, 0.5, 1, 2, 5, 95, 97, \n",
    "                                                                           98, 99, 99.5, 99.99])"
   ]
  },
  {
   "cell_type": "code",
   "execution_count": null,
   "metadata": {
    "scrolled": true
   },
   "outputs": [],
   "source": [
    "attribute_list_model[attribute_list_model['99%'] == attribute_list_model['1%']]"
   ]
  },
  {
   "cell_type": "code",
   "execution_count": null,
   "metadata": {},
   "outputs": [],
   "source": [
    "list_of_categories_sel = attribute_list_model.loc[(attribute_list_model['count_dist'] == 2), 'attribute'].to_list() "
   ]
  },
  {
   "cell_type": "code",
   "execution_count": null,
   "metadata": {},
   "outputs": [],
   "source": [
    "categorials_data_fin = pd.read_csv(PATH + 'SandBox/csv/categories_fin.csv', sep = '&')"
   ]
  },
  {
   "cell_type": "code",
   "execution_count": null,
   "metadata": {},
   "outputs": [],
   "source": [
    "categorials_data_fin.head()"
   ]
  },
  {
   "cell_type": "code",
   "execution_count": null,
   "metadata": {},
   "outputs": [],
   "source": [
    "for i in list_of_columns_no_sys:\n",
    "    if i in categorials_data_fin['feature'].to_list():\n",
    "        list_of_categories_sel.append(i)"
   ]
  },
  {
   "cell_type": "code",
   "execution_count": null,
   "metadata": {},
   "outputs": [],
   "source": [
    "list_of_categories_sel"
   ]
  },
  {
   "cell_type": "code",
   "execution_count": null,
   "metadata": {
    "scrolled": true
   },
   "outputs": [],
   "source": [
    "iqr_outliers = find_ouliers_iqr(train, necessary_fields_upper, mult = 1.5, check_percentile = 1)"
   ]
  },
  {
   "cell_type": "code",
   "execution_count": null,
   "metadata": {},
   "outputs": [],
   "source": [
    "once_rows = sum(y_train)\n",
    "second_rows = (len(y_train) - sum(y_train))\n",
    "y_unique = sorted(y_train.unique())\n",
    "all_rows = len(y_train)\n",
    "\n",
    "once_rows_share = once_rows/all_rows\n",
    "second_rows_share = second_rows/all_rows\n",
    "second_rows_share/once_rows_share\n",
    "\n",
    "if once_rows < second_rows:\n",
    "    w_b = once_rows/second_rows\n",
    "else:\n",
    "    w_b = second_rows/once_rows"
   ]
  },
  {
   "cell_type": "code",
   "execution_count": null,
   "metadata": {},
   "outputs": [],
   "source": [
    "once_rows_share, second_rows_share"
   ]
  },
  {
   "cell_type": "code",
   "execution_count": null,
   "metadata": {},
   "outputs": [],
   "source": [
    "w_b"
   ]
  },
  {
   "cell_type": "code",
   "execution_count": null,
   "metadata": {},
   "outputs": [],
   "source": [
    "#C = np.logspace(-3,0.5,num=9)\n",
    "C = [0.5]\n",
    "CC  = [1]\n",
    "w = np.multiply(CC, w_b)\n",
    "#C = np.logspace(-3,2,1)\n",
    "#w = np.logspace(-1,1,2)*w_b\n",
    "print(C)\n",
    "print(w_b)\n",
    "print(w)"
   ]
  },
  {
   "cell_type": "code",
   "execution_count": null,
   "metadata": {},
   "outputs": [],
   "source": [
    "params_dictionary = {'C': C,\n",
    "                     'weight_0': w,\n",
    "                     'regularization': 'l2', 'random_state': 241, \n",
    "                    'solver': 'liblinear', 'max_iter':  [300]}\n",
    "params_to_model = {'C': 'C', 'weight_0': 'class_weight', 'regularization':'penalty', 'random_state': 'random_state',\n",
    "                  'solver': 'solver', 'max_iter': 'max_iter'}\n",
    "pass_model = LogisticRegression\n",
    "\n",
    "sort_by_var = sort_by_var.upper()\n",
    "list_of_vars_for_strat = ['DATE_REPORT']\n",
    "second_target = None\n",
    "yeo_johnson = False\n",
    "n_fold = 5\n",
    "simple_b_score = simple_b_score_crm\n",
    "business_dictionary = {'m_s': 15900, 'k': 47, 'c': 1}\n"
   ]
  },
  {
   "cell_type": "code",
   "execution_count": null,
   "metadata": {},
   "outputs": [],
   "source": [
    "high_outs = [99]\n",
    "low_outs = [1]\n",
    "params_preproc_grid = {'high_outlier': high_outs, 'low_outlier': low_outs}"
   ]
  },
  {
   "cell_type": "code",
   "execution_count": null,
   "metadata": {},
   "outputs": [],
   "source": [
    "combination_preproc = list(itertools.product(*params_preproc_grid.values()))"
   ]
  },
  {
   "cell_type": "code",
   "execution_count": null,
   "metadata": {},
   "outputs": [],
   "source": [
    "from Filter_and_Grid_Search import br_correction"
   ]
  },
  {
   "cell_type": "code",
   "execution_count": null,
   "metadata": {},
   "outputs": [],
   "source": [
    "train = train.join(y_train)\n",
    "train1 = br_correction(train, index_month.upper(), target, correct = True, random_state = 42, alpha = 0)"
   ]
  },
  {
   "cell_type": "code",
   "execution_count": null,
   "metadata": {},
   "outputs": [],
   "source": [
    "y_train = train1[target]\n",
    "train1.drop(target, axis = 1, inplace = True)"
   ]
  },
  {
   "cell_type": "code",
   "execution_count": null,
   "metadata": {},
   "outputs": [],
   "source": [
    "attribute_list_model = attributes_list_new(train1, list_of_columns_no_sys, high_outs+low_outs)"
   ]
  },
  {
   "cell_type": "code",
   "execution_count": null,
   "metadata": {},
   "outputs": [],
   "source": [
    "len(C)*len(CC)"
   ]
  },
  {
   "cell_type": "code",
   "execution_count": null,
   "metadata": {},
   "outputs": [],
   "source": [
    "from Filter_and_Grid_Search import lr_test_one_simple, lr_test_all_features"
   ]
  },
  {
   "cell_type": "code",
   "execution_count": null,
   "metadata": {
    "scrolled": true
   },
   "outputs": [],
   "source": [
    "new_meta_with_prepr = []\n",
    "\n",
    "for combination in combination_preproc:\n",
    "    outputs = list(combination)\n",
    "    dicts = {}\n",
    "    for position in range(len(combination)):\n",
    "        dicts[list(params_preproc_grid.keys())[position]] = combination[position]\n",
    "            \n",
    "    non_outliers = attribute_list_model.loc[attribute_list_model[str(dicts['high_outlier'])+'%'] == attribute_list_model['1%'], \n",
    "                                                'attribute'].to_list()\n",
    "    cols_outliers = list_of_columns_no_sys.copy()\n",
    "    \n",
    "    for o in non_outliers:\n",
    "        if o in cols_outliers:\n",
    "            cols_outliers.remove(o)\n",
    "                \n",
    "    print('-'*20, dicts, non_outliers, '-'*20)\n",
    "    i_meta = find_meta_params(train1, y_train, \n",
    "                            params_dictionary, params_to_model, pass_model, \n",
    "                            sort_by_var, list_of_vars_for_strat, n_fold, second_target, yeo_johnson, \n",
    "                            attribute_list = None, var_col = None, categorial_list = list_of_categories_sel,\n",
    "                            cols_outlier = cols_outliers,\n",
    "                            need_business = False, draw = False, draw_by_approval_rate = False,\n",
    "                            simple_b_score = None, business_dict = None,\n",
    "                            business_dict_sec = None,\n",
    "                            scale = 'mean', median = 'median',\n",
    "                            high_outlier = dicts['high_outlier'], \n",
    "                            low_outlier = dicts['low_outlier'], check_percentile = 1,\n",
    "                            random_state = 241, task = 'binary', k_logs = 10,\n",
    "                            cut_non_out_9999 = True)\n",
    "    i_meta['high_outlier'] = dicts['high_outlier']\n",
    "    i_meta['low_outlier'] = dicts['low_outlier']\n",
    "        \n",
    "    new_meta_with_prepr.append(i_meta)"
   ]
  },
  {
   "cell_type": "code",
   "execution_count": null,
   "metadata": {},
   "outputs": [],
   "source": [
    "i_meta['weight'] = round(i_meta['weight_0'], 4)"
   ]
  },
  {
   "cell_type": "code",
   "execution_count": null,
   "metadata": {
    "scrolled": true
   },
   "outputs": [],
   "source": [
    "i_meta.sort_values(by = 'AUC', ascending = False)[['AUC', 'AUC_std', 'weight_0', 'C', 'high_outlier', 'low_outlier', 'Pre']]"
   ]
  },
  {
   "cell_type": "code",
   "execution_count": null,
   "metadata": {
    "scrolled": false
   },
   "outputs": [],
   "source": [
    "plot_meta_2d(meta = i_meta, first_dimention = 'C', second_dimention = 'weight', b_best = 'AUC')"
   ]
  },
  {
   "cell_type": "code",
   "execution_count": null,
   "metadata": {
    "scrolled": true
   },
   "outputs": [],
   "source": [
    "plot_meta_2d(meta = i_meta, first_dimention = 'C', second_dimention = 'weight', b_best = 'APS')"
   ]
  },
  {
   "cell_type": "code",
   "execution_count": null,
   "metadata": {},
   "outputs": [],
   "source": [
    "i_meta.to_csv(PATH +'Modeling_' + modeling + '/meta_file1.csv', sep='&')"
   ]
  },
  {
   "cell_type": "code",
   "execution_count": null,
   "metadata": {},
   "outputs": [],
   "source": [
    "i_meta = pd.read_csv(PATH +'Modeling_' + modeling + '/meta_file1.csv', sep='&')"
   ]
  },
  {
   "cell_type": "code",
   "execution_count": null,
   "metadata": {},
   "outputs": [],
   "source": [
    "list_of_columns = list(train1.columns)\n",
    "list_of_columns_no_sys = list_of_columns.copy()\n",
    "for i in necessary_fields_upper:\n",
    "    if i in list_of_columns_no_sys:\n",
    "        list_of_columns_no_sys.remove(i)"
   ]
  },
  {
   "cell_type": "code",
   "execution_count": null,
   "metadata": {
    "scrolled": true
   },
   "outputs": [],
   "source": [
    "attribute_list_model = attributes_list_new(train, list_of_columns_no_sys, [1, 98, 99, 99.99])"
   ]
  },
  {
   "cell_type": "code",
   "execution_count": null,
   "metadata": {},
   "outputs": [],
   "source": [
    "non_outliers = attribute_list_model.loc[attribute_list_model['99%'] == attribute_list_model['1%'], \n",
    "                                                'attribute'].to_list()\n",
    "cols_outliers = list_of_columns_no_sys.copy()\n",
    "    \n",
    "for o in non_outliers:\n",
    "    if o in cols_outliers:\n",
    "        cols_outliers.remove(o)"
   ]
  },
  {
   "cell_type": "code",
   "execution_count": null,
   "metadata": {},
   "outputs": [],
   "source": [
    "non_outliers"
   ]
  },
  {
   "cell_type": "code",
   "execution_count": null,
   "metadata": {},
   "outputs": [],
   "source": [
    "attribute_list_model['right_border'] = attribute_list_model['99%']\n",
    "attribute_list_model['left_border'] = attribute_list_model['1%']"
   ]
  },
  {
   "cell_type": "code",
   "execution_count": null,
   "metadata": {},
   "outputs": [],
   "source": [
    "attribute_list_model.loc[attribute_list_model['attribute'].isin(non_outliers), 'right_border'] = attribute_list_model['99.99%']"
   ]
  },
  {
   "cell_type": "code",
   "execution_count": null,
   "metadata": {},
   "outputs": [],
   "source": [
    "attribute_list_model.to_csv(PATH+'Modeling_' + modeling + '/attribute_list_model_bef_pvalue.csv')"
   ]
  },
  {
   "cell_type": "code",
   "execution_count": null,
   "metadata": {},
   "outputs": [],
   "source": [
    "oot1 = oot[train1.columns].copy()"
   ]
  },
  {
   "cell_type": "code",
   "execution_count": null,
   "metadata": {},
   "outputs": [],
   "source": [
    "X_1_2, X_2_2, y_1_2, y_2, preproc_before_pvalue = data_preprocessing(train1, \n",
    "                                                                     y_train, \n",
    "                                                                            test, \n",
    "                                                                     y_test, necessary_fields_upper, \n",
    "                                                       categorial_list = list_of_categories_sel,\n",
    "                                                 yeo_johnson = False, attribute_list = attribute_list_model, \n",
    "                                                       var_col = 'attribute',\n",
    "                                                       scale = 'mean', median = 'val_mediana', check_percentile = 5,\n",
    "                                                   high_outlier = 'right_border', low_outlier = 'left_border', \n",
    "                                                       cols_outlier = cols_outliers, \n",
    "                                             cut_non_out_9999 = True)\n",
    "\n",
    "X_3_2 = data_preprocessing_test(oot1, y_oot, necessary_fields_upper, categorial_list = list_of_categories_sel, \n",
    "                                drop_technical = True,\n",
    "                            attribute_list = attribute_list_model, var_col = 'attribute',\n",
    "                        median = 'val_mediana',\n",
    "                      high_outlier = 'right_border', low_outlier = 'left_border', scale = preproc_before_pvalue, \n",
    "                                yeo_johnson = None, cols_outlier = cols_outliers)"
   ]
  },
  {
   "cell_type": "code",
   "execution_count": null,
   "metadata": {
    "scrolled": true
   },
   "outputs": [],
   "source": [
    "X_1_2.shape"
   ]
  },
  {
   "cell_type": "code",
   "execution_count": null,
   "metadata": {},
   "outputs": [],
   "source": [
    "params_dict = {'weight_0':'class_weight', 'C': 'C', 'max_iter': 'max_iter'}\n",
    "other_hyps = {'max_iter': 300, 'penalty': 'l2', 'random_state': 241, 'solver': 'liblinear' }\n",
    "pass_model = LogisticRegression"
   ]
  },
  {
   "cell_type": "code",
   "execution_count": null,
   "metadata": {
    "scrolled": true
   },
   "outputs": [],
   "source": [
    "X_1_2.columns"
   ]
  },
  {
   "cell_type": "code",
   "execution_count": null,
   "metadata": {
    "scrolled": true
   },
   "outputs": [],
   "source": [
    "print(50*'-', 'By AUC', 50*'-')\n",
    "auc_model_before_pvalue, auc_scores_before_pvalue, auc_test_pred_before_pvalue = train_model_receive_stats(X_1_2, \n",
    "                                                                 y_1_2, X_2_2, y_2, \n",
    "                                                                 meta = i_meta, by_var = 'AUC',\n",
    "                                                                 params_dict =params_dict, \n",
    "                                                                 other_hyperparams = other_hyps, pass_model= pass_model, \n",
    "                                                                 need_business = False, \n",
    "                                                                 simple_b_score = None,\n",
    "                                                                 business_dict = None, printed =True,\n",
    "                                                                 task = 'binary')\n",
    "\n",
    "print(50*'-', 'By AUC oot', 50*'-')\n",
    "auc_model_before_pvalue, auc_scores_oot_before_pvalue, auc_oot_pred_before_pvalue = train_model_receive_stats(X_1_2, y_1_2, \n",
    "                                                                                                              X_3_2, y_oot, \n",
    "                                                                 meta = i_meta, by_var = 'AUC',\n",
    "                                                                 params_dict =params_dict, \n",
    "                                                                 other_hyperparams = other_hyps, pass_model= pass_model, \n",
    "                                                                 need_business = False, \n",
    "                                                                 simple_b_score = None,\n",
    "                                                                 business_dict = None, printed =True,\n",
    "                                                                 task = 'binary')"
   ]
  },
  {
   "cell_type": "code",
   "execution_count": null,
   "metadata": {},
   "outputs": [],
   "source": [
    "betas_before_pvalue = []\n",
    "\n",
    "for i, v in enumerate(X_1_2.columns):\n",
    "    betas_before_pvalue.append([v, auc_model_before_pvalue.coef_[0][i]])\n",
    "    \n",
    "betas_before_pvalue.append(['Intercept', auc_model_before_pvalue.intercept_[0]])\n",
    "\n",
    "betas_before_pvalue = pd.DataFrame.from_records(betas_before_pvalue, columns = ['Variable', 'Coef'])\n",
    "definition_2 = pd.read_csv(PATH + 'SandBox/csv/definition_2.csv')\n",
    "#definition_2['variable'] = [i.upper() for i in definition_2['variable']]\n",
    "betas1_before_pvalue = pd.merge(betas_before_pvalue, definition_2.rename(columns = {'variable': 'Variable'}), \n",
    "                                how = 'left', on = 'Variable')\n",
    "betas1_before_pvalue['abs_coef'] = abs(betas1_before_pvalue['Coef'])\n",
    "betas1_before_pvalue.sort_values(by = 'abs_coef', ascending = False)\n",
    "betas1_before_pvalue.to_csv(PATH +'Modeling_' + modeling + '/betas3_before_pvalue.csv', sep='&')\n",
    "betas_before_pvalue.to_csv(PATH +'Modeling_' + modeling + '/betas_new3_before_pvalue.csv', sep='&')"
   ]
  },
  {
   "cell_type": "code",
   "execution_count": null,
   "metadata": {},
   "outputs": [],
   "source": [
    "for_del = ['ScoreF1_b_best', 'Acc_b_best', 'Pre_b_best', 'Rec_b_best', \n",
    "               'Approval_rate_b_best', 'b_best']\n",
    "for i in for_del:\n",
    "    if i in auc_scores_before_pvalue.keys():\n",
    "        auc_scores_before_pvalue.pop(i, None)\n",
    "        \n",
    "scores_before_pvalue = pd.DataFrame(auc_scores_before_pvalue)\n",
    "scores_before_pvalue.to_csv(PATH +'Modeling_' + modeling + '/scores_test_before_pvalue.csv', sep='&')\n",
    "\n",
    "for i in for_del:\n",
    "    if i in auc_scores_oot_before_pvalue.keys():\n",
    "        auc_scores_oot_before_pvalue.pop(i, None)\n",
    "        \n",
    "scores_oot_before_pvalue = pd.DataFrame(auc_scores_oot_before_pvalue)\n",
    "scores_oot_before_pvalue.to_csv(PATH +'Modeling_' + modeling + '/scores_oot_before_pvalue.csv', sep='&')"
   ]
  },
  {
   "cell_type": "code",
   "execution_count": null,
   "metadata": {},
   "outputs": [],
   "source": [
    "joblib.dump(auc_model_before_pvalue, PATH+ 'Modeling_' + modeling + '/auc_model_before_pvalue2.dat')\n",
    "joblib.dump(preproc_before_pvalue, PATH+ 'Modeling_' + modeling + '/preproc_before_pvalue2.dat')"
   ]
  },
  {
   "cell_type": "code",
   "execution_count": null,
   "metadata": {},
   "outputs": [],
   "source": [
    "from Filter_and_Grid_Search import lr_test_one_simple, lr_test_all_features"
   ]
  },
  {
   "cell_type": "code",
   "execution_count": null,
   "metadata": {
    "scrolled": false
   },
   "outputs": [],
   "source": [
    "p_values2 = lr_test_all_features(auc_model_before_pvalue, LogisticRegression, X_1_2, y_train, \n",
    "                                 class_weight = auc_model_before_pvalue.get_params()['class_weight'],\n",
    "                                 whole_model = True)\n",
    "p_values2.sort_values(by = 'p_value', ascending = False, inplace = True)"
   ]
  },
  {
   "cell_type": "code",
   "execution_count": null,
   "metadata": {},
   "outputs": [],
   "source": [
    "#p_values2.to_csv(PATH + 'SandBox/csv/p_values2.csv', sep = '&')\n",
    "p_values2.to_csv(PATH + 'Modeling_' + modeling + '/p_values2.csv', sep = '&')"
   ]
  },
  {
   "cell_type": "code",
   "execution_count": null,
   "metadata": {},
   "outputs": [],
   "source": [
    "p_values2 = pd.read_csv(PATH + 'Modeling_' + modeling + '/p_values2.csv', sep = '&')\n",
    "p_values2.sort_values(by = 'p_value', ascending = False, inplace = True)"
   ]
  },
  {
   "cell_type": "code",
   "execution_count": null,
   "metadata": {},
   "outputs": [],
   "source": [
    "del_vars = p_values2.loc[p_values2['p_value'] > 0.05, 'Variable'].to_list()\n",
    "if 'Intercept' in del_vars:\n",
    "        del_vars.remove('Intercept')"
   ]
  },
  {
   "cell_type": "code",
   "execution_count": null,
   "metadata": {},
   "outputs": [],
   "source": [
    "len(del_vars)"
   ]
  },
  {
   "cell_type": "code",
   "execution_count": null,
   "metadata": {},
   "outputs": [],
   "source": [
    "train2 = train1.drop(del_vars, axis = 1)\n",
    "test2 = test.drop(del_vars, axis = 1)"
   ]
  },
  {
   "cell_type": "code",
   "execution_count": null,
   "metadata": {},
   "outputs": [],
   "source": [
    "list_of_columns_no_sys2 = list_of_columns_no_sys.copy()\n",
    "\n",
    "for i in list_of_columns_no_sys:\n",
    "    if i not in train2.columns.to_list():\n",
    "        list_of_columns_no_sys2.remove(i)\n",
    "        \n",
    "attribute_list_model = attributes_list_new(train2, list_of_columns_no_sys2, high_outs+low_outs)\n",
    "\n",
    "non_outliers = attribute_list_model.loc[attribute_list_model['99%'] == attribute_list_model['1%'], \n",
    "                                                'attribute'].to_list()\n",
    "cols_outliers = list_of_columns_no_sys2.copy()\n",
    "    \n",
    "for o in non_outliers:\n",
    "    if o in cols_outliers:\n",
    "        cols_outliers.remove(o)"
   ]
  },
  {
   "cell_type": "markdown",
   "metadata": {},
   "source": [
    "### Final train (selection with p-value)"
   ]
  },
  {
   "cell_type": "code",
   "execution_count": null,
   "metadata": {},
   "outputs": [],
   "source": [
    "C = [0.5]\n",
    "CC  = [1]\n",
    "w = np.multiply(CC, w_b)\n",
    "print(C)\n",
    "print(w_b)\n",
    "print(w)"
   ]
  },
  {
   "cell_type": "code",
   "execution_count": null,
   "metadata": {},
   "outputs": [],
   "source": [
    "len(C)*len(CC)"
   ]
  },
  {
   "cell_type": "code",
   "execution_count": null,
   "metadata": {},
   "outputs": [],
   "source": [
    "params_dictionary = {'C': C,\n",
    "                     'weight_0': w,\n",
    "                     'regularization': 'l2', 'random_state': 241, \n",
    "                    'solver': 'liblinear', 'max_iter':  [300]}\n",
    "params_to_model = {'C': 'C', 'weight_0': 'class_weight', 'regularization':'penalty', 'random_state': 'random_state',\n",
    "                  'solver': 'solver', 'max_iter': 'max_iter'}\n",
    "pass_model = LogisticRegression\n",
    "\n",
    "sort_by_var = sort_by_var.upper()\n",
    "list_of_vars_for_strat = ['DATE_REPORT']\n",
    "second_target = None\n",
    "yeo_johnson = False\n",
    "n_fold = 5\n",
    "simple_b_score = simple_b_score_crm\n",
    "business_dictionary = {'m_s': 15900, 'k': 47, 'c': 1}\n",
    "high_outs = [99]\n",
    "low_outs = [1]\n",
    "params_preproc_grid = {'high_outlier': high_outs, 'low_outlier': low_outs}\n",
    "combination_preproc = list(itertools.product(*params_preproc_grid.values()))"
   ]
  },
  {
   "cell_type": "code",
   "execution_count": null,
   "metadata": {
    "scrolled": true
   },
   "outputs": [],
   "source": [
    "new_meta_with_prepr2 = []\n",
    "\n",
    "for combination in combination_preproc:\n",
    "    outputs = list(combination)\n",
    "    dicts = {}\n",
    "    for position in range(len(combination)):\n",
    "        dicts[list(params_preproc_grid.keys())[position]] = combination[position]\n",
    "            \n",
    "    non_outliers = attribute_list_model.loc[attribute_list_model[str(dicts['high_outlier'])+'%'] == attribute_list_model['1%'], \n",
    "                                                'attribute'].to_list()\n",
    "    cols_outliers = list_of_columns_no_sys.copy()\n",
    "    \n",
    "    for o in non_outliers:\n",
    "        if o in cols_outliers:\n",
    "            cols_outliers.remove(o)\n",
    "                \n",
    "    print('-'*20, dicts, non_outliers, '-'*20)\n",
    "    i_meta2 = find_meta_params(train2, y_train, \n",
    "                            params_dictionary, params_to_model, pass_model, \n",
    "                            sort_by_var, list_of_vars_for_strat, n_fold, second_target, yeo_johnson, \n",
    "                            attribute_list = None, var_col = None, categorial_list = list_of_categories_sel,\n",
    "                            cols_outlier = cols_outliers,\n",
    "                            need_business = False, draw = False, draw_by_approval_rate = False,\n",
    "                            simple_b_score = simple_b_score, business_dict = business_dictionary,\n",
    "                            business_dict_sec = None,\n",
    "                            scale = 'mean', median = 'median',\n",
    "                            high_outlier = dicts['high_outlier'], \n",
    "                            low_outlier = dicts['low_outlier'], check_percentile = 1,\n",
    "                            random_state = 241, task = 'binary', k_logs = 10,\n",
    "                            cut_non_out_9999 = True)\n",
    "    i_meta2['high_outlier'] = dicts['high_outlier']\n",
    "    i_meta2['low_outlier'] = dicts['low_outlier']\n",
    "        \n",
    "    new_meta_with_prepr2.append(i_meta2)"
   ]
  },
  {
   "cell_type": "code",
   "execution_count": null,
   "metadata": {},
   "outputs": [],
   "source": [
    "i_meta2['weight'] = round(i_meta2['weight_0'], 5)"
   ]
  },
  {
   "cell_type": "code",
   "execution_count": null,
   "metadata": {
    "scrolled": true
   },
   "outputs": [],
   "source": [
    "plot_meta_2d(meta = i_meta2, first_dimention = 'C', second_dimention = 'weight', b_best = 'AUC')"
   ]
  },
  {
   "cell_type": "code",
   "execution_count": null,
   "metadata": {
    "scrolled": true
   },
   "outputs": [],
   "source": [
    "plot_meta_2d(meta = i_meta2, first_dimention = 'C', second_dimention = 'weight', b_best = 'APS')"
   ]
  },
  {
   "cell_type": "code",
   "execution_count": null,
   "metadata": {},
   "outputs": [],
   "source": [
    "i_meta2.to_csv(PATH +'Modeling_' + modeling + '/meta_file_after_pvalue.csv', sep='&')"
   ]
  },
  {
   "cell_type": "code",
   "execution_count": null,
   "metadata": {},
   "outputs": [],
   "source": [
    "i_meta2 = pd.read_csv(PATH +'Modeling_' + modeling + '/meta_file_after_pvalue.csv', sep='&')"
   ]
  },
  {
   "cell_type": "code",
   "execution_count": null,
   "metadata": {},
   "outputs": [],
   "source": [
    "train3 = train2.copy()\n",
    "test3 = test2.copy()\n",
    "list_of_columns_no_sys3 = list_of_columns_no_sys.copy()\n",
    "\n",
    "for i in list_of_columns_no_sys:\n",
    "    if i not in train3.columns.to_list():\n",
    "        list_of_columns_no_sys3.remove(i)\n",
    "\n",
    "attribute_list_model = attributes_list_new(train3, list_of_columns_no_sys3, [1, 98, 99, 99.99])\n",
    "\n",
    "non_outliers = attribute_list_model.loc[attribute_list_model['99%'] == attribute_list_model['1%'], \n",
    "                                                'attribute'].to_list()\n",
    "cols_outliers = list_of_columns_no_sys.copy()\n",
    "    \n",
    "for o in non_outliers:\n",
    "    if o in cols_outliers:\n",
    "        cols_outliers.remove(o)\n",
    "        \n",
    "attribute_list_model['right_border'] = attribute_list_model['99%']\n",
    "attribute_list_model['left_border'] = attribute_list_model['1%']\n",
    "attribute_list_model.loc[attribute_list_model['attribute'].isin(non_outliers), \n",
    "                         'right_border'] = attribute_list_model['99.99%']\n",
    "\n",
    "attribute_list_model.to_csv(PATH+'Modeling_' + modeling + '/attribute_list_model_after_pvalue2.csv')"
   ]
  },
  {
   "cell_type": "code",
   "execution_count": null,
   "metadata": {},
   "outputs": [],
   "source": [
    "oot1 = oot[list(train3.columns)]"
   ]
  },
  {
   "cell_type": "code",
   "execution_count": null,
   "metadata": {},
   "outputs": [],
   "source": [
    "X_1_22, X_2_22, y_1_2, y_2, preproc2 = data_preprocessing(train3,\n",
    "                                                          y_train, \n",
    "                                                        test3, \n",
    "                                                          y_test, necessary_fields_upper, \n",
    "                                                       categorial_list = list_of_categories_sel,\n",
    "                                                 yeo_johnson = False, attribute_list = attribute_list_model, \n",
    "                                                       var_col = 'attribute',\n",
    "                                                       scale = 'mean', median = 'val_mediana', check_percentile = 5,\n",
    "                                                   high_outlier = 'right_border', low_outlier = 'left_border', \n",
    "                                                       cols_outlier = cols_outliers, \n",
    "                                             cut_non_out_9999 = True)\n",
    "\n",
    "X_3_2 = data_preprocessing_test(oot1, y_oot, necessary_fields_upper, categorial_list = list_of_categories_sel, \n",
    "                                drop_technical = True,\n",
    "                            attribute_list = attribute_list_model, var_col = 'attribute',\n",
    "                        median = 'val_mediana',\n",
    "                      high_outlier = 'right_border', low_outlier = 'left_border', scale = preproc2, \n",
    "                                yeo_johnson = None, cols_outlier = cols_outliers)"
   ]
  },
  {
   "cell_type": "code",
   "execution_count": null,
   "metadata": {
    "scrolled": true
   },
   "outputs": [],
   "source": [
    "X_1_22.shape"
   ]
  },
  {
   "cell_type": "code",
   "execution_count": null,
   "metadata": {},
   "outputs": [],
   "source": [
    "params_dict = {'weight_0':'class_weight', 'C': 'C', 'max_iter': 'max_iter'}\n",
    "other_hyps = {'max_iter': 300, 'penalty': 'l2', 'random_state': 241, 'solver': 'liblinear' }\n",
    "pass_model = LogisticRegression"
   ]
  },
  {
   "cell_type": "code",
   "execution_count": null,
   "metadata": {
    "scrolled": false
   },
   "outputs": [],
   "source": [
    "print(50*'-', 'By AUC test', 50*'-')\n",
    "auc_model, auc_scores, auc_test_pred = train_model_receive_stats(X_1_22, \n",
    "                                                                 y_1_2, X_2_22, y_2, \n",
    "                                                                 meta = i_meta2, by_var = 'AUC',\n",
    "                                                                 params_dict =params_dict, \n",
    "                                                                 other_hyperparams = other_hyps, pass_model= pass_model, \n",
    "                                                                 need_business = False, \n",
    "                                                                 simple_b_score = None,\n",
    "                                                                 business_dict = None, printed =True,\n",
    "                                                                 task = 'binary')\n",
    "\n",
    "\n",
    "print(50*'-', 'By AUC oot', 50*'-')\n",
    "auc_model, auc_scores_oot, auc_oot_pred = train_model_receive_stats(X_1_22, y_1_2, X_3_2, y_oot, \n",
    "                                                                 meta = i_meta2, by_var = 'AUC',\n",
    "                                                                 params_dict =params_dict, \n",
    "                                                                 other_hyperparams = other_hyps, pass_model= pass_model, \n",
    "                                                                 need_business = False, \n",
    "                                                                 simple_b_score = None,\n",
    "                                                                 business_dict = None, printed =True,\n",
    "                                                                 task = 'binary')"
   ]
  },
  {
   "cell_type": "code",
   "execution_count": null,
   "metadata": {},
   "outputs": [],
   "source": [
    "joblib.dump(auc_model, PATH+ 'Modeling_' + modeling + '/auc_model2.dat')\n",
    "joblib.dump(preproc2, PATH+ 'Modeling_' + modeling + '/preproc2.dat')"
   ]
  },
  {
   "cell_type": "code",
   "execution_count": null,
   "metadata": {},
   "outputs": [],
   "source": [
    "auc_tests = pd.DataFrame(auc_test_pred)\n",
    "auc_tests.rename(columns = {0: 'prediction'}, inplace = True)"
   ]
  },
  {
   "cell_type": "code",
   "execution_count": null,
   "metadata": {},
   "outputs": [],
   "source": [
    "auc_tests.loc[y_2 == 0, 'prediction'].hist(bins = 500, color = 'green')\n",
    "plt.title('Histograms 0 class')"
   ]
  },
  {
   "cell_type": "code",
   "execution_count": null,
   "metadata": {
    "scrolled": true
   },
   "outputs": [],
   "source": [
    "auc_tests.loc[y_2 == 1, 'prediction'].hist(bins = 500, color = 'blue')\n",
    "plt.title('Histograms 1 class')"
   ]
  },
  {
   "cell_type": "code",
   "execution_count": null,
   "metadata": {},
   "outputs": [],
   "source": [
    "y_2.value_counts()"
   ]
  },
  {
   "cell_type": "code",
   "execution_count": null,
   "metadata": {},
   "outputs": [],
   "source": [
    "X_1_22.shape"
   ]
  },
  {
   "cell_type": "code",
   "execution_count": null,
   "metadata": {},
   "outputs": [],
   "source": [
    "betas = []\n",
    "\n",
    "for i, v in enumerate(X_1_22.columns):\n",
    "    betas.append([v, auc_model.coef_[0][i]])\n",
    "    \n",
    "betas.append(['Intercept', auc_model.intercept_[0]])\n",
    "\n",
    "betas = pd.DataFrame.from_records(betas, columns = ['Variable', 'Coef'])\n",
    "definition_2 = pd.read_csv(PATH + 'SandBox/csv/definition_2.csv')\n",
    "#definition_2['variable'] = [i.upper() for i in definition_2['variable']]\n",
    "betas1 = pd.merge(betas, definition_2.rename(columns = {'variable': 'Variable'}), how = 'left', on = 'Variable')\n",
    "betas1['abs_coef'] = abs(betas1['Coef'])\n",
    "betas1.sort_values(by = 'abs_coef', ascending = False)\n",
    "betas1.to_csv(PATH +'Modeling_' + modeling + '/betas3.csv', sep='&')\n",
    "betas.to_csv(PATH +'Modeling_' + modeling + '/betas_new3.csv', sep='&')"
   ]
  },
  {
   "cell_type": "code",
   "execution_count": null,
   "metadata": {},
   "outputs": [],
   "source": [
    "for_del = ['ScoreF1_b_best', 'Acc_b_best', 'Pre_b_best', 'Rec_b_best', \n",
    "               'Approval_rate_b_best', 'b_best']\n",
    "for i in for_del:\n",
    "    if i in auc_scores.keys():\n",
    "        auc_scores.pop(i, None)\n",
    "        \n",
    "scores = pd.DataFrame(auc_scores)\n",
    "scores.to_csv(PATH +'Modeling_' + modeling + '/scores_test.csv', sep='&')\n",
    "\n",
    "for i in for_del:\n",
    "    if i in auc_scores_oot.keys():\n",
    "        auc_scores_oot.pop(i, None)\n",
    "        \n",
    "scores_oot = pd.DataFrame(auc_scores_oot)\n",
    "scores_oot.to_csv(PATH +'Modeling_' + modeling + '/scores_oot.csv', sep='&')"
   ]
  },
  {
   "cell_type": "code",
   "execution_count": null,
   "metadata": {},
   "outputs": [],
   "source": [
    "oot2 = oot.join(y_oot)\n",
    "oot2 = oot2.join(pd.Series(auc_oot_pred, name='score'))\n",
    "oot2.to_csv(PATH +'Modeling_' + modeling + '/oot_with_scores.csv', sep='&')"
   ]
  },
  {
   "cell_type": "code",
   "execution_count": null,
   "metadata": {},
   "outputs": [],
   "source": [
    "from sklearn.linear_model import LogisticRegression\n",
    "from sklearn import metrics\n",
    "\n",
    "clf = auc_model\n",
    "\n",
    "y_pred_train = clf.predict_proba(X_1_22)[:,1]\n",
    "#train_loss = log_loss(y_1_r, y_pred_train)\n",
    "y_pred_test = clf.predict_proba(X_2_22)[:,1]\n",
    "y_pred_oot = clf.predict_proba(X_3_2)[:,1]\n",
    "\n",
    "fpr_train, tpr_train, _ = metrics.roc_curve(y_1_2, y_pred_train)\n",
    "fpr_test, tpr_test, _ = metrics.roc_curve(y_2, y_pred_test)\n",
    "fpr_oot, tpr_oot, _ = metrics.roc_curve(y_oot, y_pred_oot)\n",
    "gini_train = 2 * metrics.auc(fpr_train,tpr_train) - 1\n",
    "gini_test = 2 * metrics.auc(fpr_test,tpr_test) - 1\n",
    "gini_oot = 2 * metrics.auc(fpr_oot,tpr_oot) - 1\n",
    "\n",
    "plt.figure(figsize = (10, 10))\n",
    "\n",
    "plt.title('ROC curve')\n",
    "\n",
    "plt.plot(fpr_train, tpr_train, label = 'TRAIN, GINI = %0.4f'%gini_train, color = 'green')\n",
    "plt.plot(fpr_test, tpr_test, label = 'TEST, GINI = %0.4f'%gini_test, color = 'purple')\n",
    "plt.plot(fpr_oot, tpr_oot, label = 'OOT, GINI = %0.4f'%gini_oot, color = 'blue')\n",
    "\n",
    "plt.legend(loc = 'lower right', fontsize=20)\n",
    "plt.plot([0, 1], [0, 1], 'r--')\n",
    "plt.xlim([0, 1])\n",
    "plt.ylim([0, 1])\n",
    "plt.ylabel('Ture Positive Rate')\n",
    "plt.xlabel('False Positive Rate')\n",
    "\n",
    "plt.show()"
   ]
  },
  {
   "cell_type": "code",
   "execution_count": null,
   "metadata": {},
   "outputs": [],
   "source": []
  },
  {
   "cell_type": "markdown",
   "metadata": {},
   "source": [
    "### Lightgbm"
   ]
  },
  {
   "cell_type": "code",
   "execution_count": null,
   "metadata": {},
   "outputs": [],
   "source": [
    "from sklearn.model_selection import GridSearchCV, RandomizedSearchCV\n",
    "from lightgbm import LGBMClassifier\n",
    "\n",
    "oot_gbm = oot[list(train1.columns)]"
   ]
  },
  {
   "cell_type": "code",
   "execution_count": null,
   "metadata": {},
   "outputs": [],
   "source": [
    "train_lgbm_data, test_lgbm_data, y_1_2, y_2 = data_preprocessing(train1,\n",
    "                                                          y_train, \n",
    "                                                        test, \n",
    "                                                          y_test, necessary_fields_upper, \n",
    "                                                       categorial_list = list_of_categories_sel,\n",
    "                                                 yeo_johnson = False, attribute_list = None, \n",
    "                                                       var_col = None,\n",
    "                                                       scale = False, median = 'median', check_percentile = 5,\n",
    "                                                   high_outlier = None, low_outlier = None, \n",
    "                                                       cols_outlier = [], \n",
    "                                             cut_non_out_9999 = False)\n",
    "\n",
    "train_lgbm_data, oot_lgbm_data, y_1_2, y_3 = data_preprocessing(train1,\n",
    "                                                          y_train, \n",
    "                                                        oot_gbm, \n",
    "                                                          y_oot, necessary_fields_upper, \n",
    "                                                       categorial_list = list_of_categories_sel,\n",
    "                                                 yeo_johnson = False, attribute_list = None, \n",
    "                                                       var_col = None,\n",
    "                                                       scale = False, median = 'median', check_percentile = 5,\n",
    "                                                   high_outlier = None, low_outlier = None, \n",
    "                                                       cols_outlier = [], \n",
    "                                             cut_non_out_9999 = False)"
   ]
  },
  {
   "cell_type": "code",
   "execution_count": null,
   "metadata": {},
   "outputs": [],
   "source": [
    "params_lgbm = {\n",
    "    'boosting_type': 'gbdt',\n",
    "    'max_depth': 3,\n",
    "    'num_leaves': 31,\n",
    "    'learning_rate': 0.1,\n",
    "    'feature_fraction': 0.9,\n",
    "    'bagging_fraction': 0.9,\n",
    "    'bagging_freq': 5,\n",
    "    'verbose': 0,\n",
    "    'n_estimators': 100,\n",
    "    'class_weight': {0: w_b, 1: 1},\n",
    "    'random_state': 241, \n",
    "    'n_jobs': 5}"
   ]
  },
  {
   "cell_type": "code",
   "execution_count": null,
   "metadata": {},
   "outputs": [],
   "source": [
    "lightgbm_class = LGBMClassifier(**params_lgbm)\n",
    "from datetime import datetime\n",
    "print('Starting training...', datetime.strftime(datetime.now(), \"%d.%m.%Y %H:%M:%S\"))\n",
    "# train\n",
    "gbm = lightgbm_class.fit(train_lgbm_data, y_1_2)\n",
    "print('Ending training...', datetime.strftime(datetime.now(), \"%d.%m.%Y %H:%M:%S\"))\n",
    "\n",
    "y_train_pred = gbm.predict_proba(train_lgbm_data)[:, 1]\n",
    "y_test_pred = gbm.predict_proba(test_lgbm_data)[:, 1]\n",
    "y_oot_pred = gbm.predict_proba(oot_lgbm_data)[:, 1]\n",
    "\n",
    "print('gini train = ', roc_auc_score(y_1_2, y_train_pred)*2-1, \n",
    "      'average precision score train = ', average_precision_score(y_train, y_train_pred))\n",
    "\n",
    "print('gini test = ', roc_auc_score(y_2, y_test_pred)*2-1, \n",
    "      'average precision score test = ', average_precision_score(y_test, y_test_pred))\n",
    "\n",
    "print('gini oot = ', roc_auc_score(y_3, y_oot_pred)*2-1, \n",
    "      'average precision score oot = ', average_precision_score(y_oot, y_oot_pred))"
   ]
  },
  {
   "cell_type": "code",
   "execution_count": null,
   "metadata": {},
   "outputs": [],
   "source": [
    "scores_lightgbm = pd.DataFrame()\n",
    "\n",
    "scores_lightgbm['gini_train'] = [roc_auc_score(y_1_2, y_train_pred)*2-1]\n",
    "scores_lightgbm['gini_test'] = [roc_auc_score(y_2, y_test_pred)*2-1]\n",
    "scores_lightgbm['gini_oot'] = [roc_auc_score(y_3, y_oot_pred)*2-1]\n",
    "scores_lightgbm['APS_train'] = [average_precision_score(y_train, y_train_pred)]\n",
    "scores_lightgbm['APS_test'] = [average_precision_score(y_test, y_test_pred)]\n",
    "scores_lightgbm['APS_oot'] = [average_precision_score(y_oot, y_oot_pred)]"
   ]
  },
  {
   "cell_type": "code",
   "execution_count": null,
   "metadata": {},
   "outputs": [],
   "source": [
    "scores_lightgbm"
   ]
  },
  {
   "cell_type": "code",
   "execution_count": null,
   "metadata": {},
   "outputs": [],
   "source": [
    "scores_lightgbm.to_csv(PATH+ 'Modeling_' + modeling + '/scores_lightgbm.csv', sep='&')"
   ]
  },
  {
   "cell_type": "code",
   "execution_count": null,
   "metadata": {},
   "outputs": [],
   "source": []
  },
  {
   "cell_type": "code",
   "execution_count": null,
   "metadata": {},
   "outputs": [],
   "source": []
  }
 ],
 "metadata": {
  "kernelspec": {
   "display_name": "Python 3",
   "language": "python",
   "name": "python3"
  },
  "language_info": {
   "codemirror_mode": {
    "name": "ipython",
    "version": 3
   },
   "file_extension": ".py",
   "mimetype": "text/x-python",
   "name": "python",
   "nbconvert_exporter": "python",
   "pygments_lexer": "ipython3",
   "version": "3.7.4"
  },
  "toc": {
   "base_numbering": 1,
   "nav_menu": {},
   "number_sections": true,
   "sideBar": true,
   "skip_h1_title": false,
   "title_cell": "Table of Contents",
   "title_sidebar": "Contents",
   "toc_cell": false,
   "toc_position": {},
   "toc_section_display": true,
   "toc_window_display": false
  }
 },
 "nbformat": 4,
 "nbformat_minor": 2
}
